{
  "nbformat": 4,
  "nbformat_minor": 0,
  "metadata": {
    "kernelspec": {
      "display_name": "Python 3",
      "language": "python",
      "name": "python3"
    },
    "language_info": {
      "codemirror_mode": {
        "name": "ipython",
        "version": 3
      },
      "file_extension": ".py",
      "mimetype": "text/x-python",
      "name": "python",
      "nbconvert_exporter": "python",
      "pygments_lexer": "ipython3",
      "version": "3.7.4"
    },
    "colab": {
      "name": "Project Proposal - Duc Trinh.ipynb",
      "provenance": [],
      "collapsed_sections": []
    }
  },
  "cells": [
    {
      "cell_type": "markdown",
      "metadata": {
        "id": "WPe3nr0MA9Rx",
        "colab_type": "text"
      },
      "source": [
        "# Project Proposal - Duc Trinh"
      ]
    },
    {
      "cell_type": "markdown",
      "metadata": {
        "id": "MgfBzynrA9Rz",
        "colab_type": "text"
      },
      "source": [
        "## Topic "
      ]
    },
    {
      "cell_type": "markdown",
      "metadata": {
        "id": "C6tJjg8lA9Rz",
        "colab_type": "text"
      },
      "source": [
        "Study the percolation transition of the E-R graph numerically. How\n",
        "does the size of the largest connected component scale with the system\n",
        "size at the critical point? How does the size of the largest connected\n",
        "component grow with $p$ at the critical point?\n",
        "In the presentation show pictures of the generated graphs both below\n",
        "and above the critical point, and also figures revealing the scaling of the largest connected component at $p_{c}$."
      ]
    },
    {
      "cell_type": "markdown",
      "metadata": {
        "id": "BVQMQEMMA9R0",
        "colab_type": "text"
      },
      "source": [
        "## Related notations and formulas:\n",
        "- $<k>$ = average degree in network $ = (N-1)p$.\n",
        "- $S$ = relative size of the largest component = $ \\frac{s_{1}}{N} \\approx 1 - e^{1-<k>S}$"
      ]
    },
    {
      "cell_type": "markdown",
      "metadata": {
        "id": "juArV48fA9R1",
        "colab_type": "text"
      },
      "source": [
        "## Outline\n",
        "1. Background theory (lecture 7 for E-R model and lecture 9 for giant component and percolation)\n",
        "  - E-R model\n",
        "  - Giant component\n",
        "  - Percolation transition for E-R model ($<k> = 1$ is the critical point) \n",
        "2. Scripts needed + explanation for each script:\n",
        "  - A script to get the size of the largest connected component with varying system size and at a fixed $<k>$ value ($<k>$ = 1), this script should also output the $p$ that the network has\n",
        "3. Plots needed for each script\n",
        "  - A plot for largest component versus system size \n",
        "  - A plot for largest component versus $p$\n",
        "  - Graphs below and above the critical point (without a connected component and with a connected component, should be graph with same N but different $p$)"
      ]
    },
    {
      "cell_type": "markdown",
      "metadata": {
        "id": "amPT32yTA9R1",
        "colab_type": "text"
      },
      "source": [
        "## Code"
      ]
    },
    {
      "cell_type": "code",
      "metadata": {
        "id": "bUToMpO4A9R2",
        "colab_type": "code",
        "colab": {}
      },
      "source": [
        "import networkx as nx;\n",
        "import numpy as np;\n",
        "import matplotlib;\n",
        "import matplotlib.pyplot as plt;\n",
        "import math;"
      ],
      "execution_count": 0,
      "outputs": []
    },
    {
      "cell_type": "code",
      "metadata": {
        "id": "D8zt7r7xA9R5",
        "colab_type": "code",
        "colab": {}
      },
      "source": [
        "def Calc_chi_and_S(network):\n",
        "    _network_N = network.number_of_nodes();\n",
        "    _comps = nx.connected_components(network);\n",
        "    _comp_sizes = [len(_comp) for _comp in _comps];\n",
        "    _sort_c_sizes = sorted(_comp_sizes,reverse=True);\n",
        "    _lcs = _sort_c_sizes[0]/_network_N;\n",
        "    _chi = 0;\n",
        "    if len(_sort_c_sizes) > 1:\n",
        "        _chi = sum([_sort_c_sizes[i]*_sort_c_sizes[i] for i in range(1,len(_sort_c_sizes))]);\n",
        "        return _chi/(len(_sort_c_sizes)),_lcs;\n",
        "    else:\n",
        "        return _chi,_lcs;"
      ],
      "execution_count": 0,
      "outputs": []
    },
    {
      "cell_type": "code",
      "metadata": {
        "id": "OqlQj9MxA9R8",
        "colab_type": "code",
        "colab": {}
      },
      "source": [
        "N, num_samp = 2000, 10;\n",
        "delta = 0.01\n",
        "p_list = np.linspace(1/(N-1)-delta, 1/(N-1)+delta, 400);\n",
        "av_S,av_chi = [],[];\n",
        "av_S.clear();\n",
        "av_chi.clear();\n",
        "for p in p_list:\n",
        "    S_values, chi_values = [],[];\n",
        "    S_values.clear();\n",
        "    chi_values.clear();\n",
        "    for i in range(0,num_samp):\n",
        "        ER_graph = nx.generators.erdos_renyi_graph(N,p);\n",
        "        chi,S = Calc_chi_and_S(ER_graph);\n",
        "        S_values.append(S);\n",
        "        chi_values.append(chi);\n",
        "    av_S.append(np.mean(S_values));\n",
        "    av_chi.append(np.mean(chi_values));"
      ],
      "execution_count": 0,
      "outputs": []
    },
    {
      "cell_type": "code",
      "metadata": {
        "id": "w2GFtng7A9R_",
        "colab_type": "code",
        "outputId": "cae7910c-3e33-41b7-8420-f50a7b1e6bac",
        "colab": {
          "base_uri": "https://localhost:8080/",
          "height": 298
        }
      },
      "source": [
        "fig,ax = plt.subplots()\n",
        "ax.plot(p_list,av_S,'o-',label = 'S', color = 'blue')\n",
        "ax.set_ylabel(r'$S=\\frac{s_1}{N}$')\n",
        "ax2=ax.twinx()\n",
        "ax2.plot(p_list,av_chi,'s-',label = r'$\\chi$',color = 'red');\n",
        "ax.set_xlabel(r'$p$')\n",
        "plt.xlim((1/(N-1)-0.05*delta, 1/(N-1)+0.05*delta))\n",
        "ax.legend(loc = 'upper left')\n",
        "ax2.legend(loc = 'lower right')"
      ],
      "execution_count": 0,
      "outputs": [
        {
          "output_type": "execute_result",
          "data": {
            "text/plain": [
              "<matplotlib.legend.Legend at 0x7f49b89e1438>"
            ]
          },
          "metadata": {
            "tags": []
          },
          "execution_count": 25
        },
        {
          "output_type": "display_data",
          "data": {
            "image/png": "[encoded data removed]",
            "text/plain": [
              "<Figure size 432x288 with 2 Axes>"
            ]
          },
          "metadata": {
            "tags": [],
            "needs_background": "light"
          }
        }
      ]
    },
    {
      "cell_type": "code",
      "metadata": {
        "id": "rtYFLl79A9SB",
        "colab_type": "code",
        "colab": {}
      },
      "source": [
        ""
      ],
      "execution_count": 0,
      "outputs": []
    },
    {
      "cell_type": "code",
      "metadata": {
        "id": "18vtUTqBA9SE",
        "colab_type": "code",
        "colab": {}
      },
      "source": [
        ""
      ],
      "execution_count": 0,
      "outputs": []
    }
  ]
}