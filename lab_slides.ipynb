{
 "cells": [
  {
   "cell_type": "markdown",
   "metadata": {
    "slideshow": {
     "slide_type": "slide"
    }
   },
   "source": [
    "# Python scripting for network analysis\n",
    "Lab session on February 20th"
   ]
  },
  {
   "cell_type": "markdown",
   "metadata": {
    "slideshow": {
     "slide_type": "slide"
    }
   },
   "source": [
    "# Python environments: Spyder, Jupyter"
   ]
  },
  {
   "cell_type": "markdown",
   "metadata": {
    "slideshow": {
     "slide_type": "fragment"
    }
   },
   "source": [
    "console"
   ]
  },
  {
   "cell_type": "markdown",
   "metadata": {
    "slideshow": {
     "slide_type": "fragment"
    }
   },
   "source": [
    "editor"
   ]
  },
  {
   "cell_type": "markdown",
   "metadata": {
    "slideshow": {
     "slide_type": "fragment"
    }
   },
   "source": [
    "jupyter notebook"
   ]
  },
  {
   "cell_type": "markdown",
   "metadata": {
    "slideshow": {
     "slide_type": "subslide"
    }
   },
   "source": [
    "# Some useful features"
   ]
  },
  {
   "cell_type": "markdown",
   "metadata": {
    "slideshow": {
     "slide_type": "fragment"
    }
   },
   "source": [
    "tab-completion"
   ]
  },
  {
   "cell_type": "markdown",
   "metadata": {
    "slideshow": {
     "slide_type": "fragment"
    }
   },
   "source": [
    "\"?\" lookup"
   ]
  },
  {
   "cell_type": "markdown",
   "metadata": {
    "slideshow": {
     "slide_type": "subslide"
    }
   },
   "source": [
    "# Jupyter notebook: mix of editor & console"
   ]
  },
  {
   "cell_type": "markdown",
   "metadata": {
    "slideshow": {
     "slide_type": "fragment"
    }
   },
   "source": [
    "multiline editing:\n",
    "1. Ctrl-Enter: run cell\n",
    "1. Shift-Enter: run & select next\n",
    "1. Alt-Enter: run & insert cell"
   ]
  },
  {
   "cell_type": "markdown",
   "metadata": {
    "slideshow": {
     "slide_type": "fragment"
    }
   },
   "source": [
    "in-line output"
   ]
  },
  {
   "cell_type": "markdown",
   "metadata": {
    "slideshow": {
     "slide_type": "subslide"
    }
   },
   "source": [
    "# Jupyter notebook: different cell types"
   ]
  },
  {
   "cell_type": "markdown",
   "metadata": {
    "slideshow": {
     "slide_type": "fragment"
    }
   },
   "source": [
    "python code (the default)"
   ]
  },
  {
   "cell_type": "markdown",
   "metadata": {
    "slideshow": {
     "slide_type": "fragment"
    }
   },
   "source": [
    "markdown: headings, lists, etc. including math notation: $e = A_{ij}$ or as centered: $$E = mc^2$$"
   ]
  },
  {
   "cell_type": "markdown",
   "metadata": {
    "slideshow": {
     "slide_type": "fragment"
    }
   },
   "source": [
    "possibly other code (R, Julia, etc. — 40 overall)"
   ]
  },
  {
   "cell_type": "markdown",
   "metadata": {
    "slideshow": {
     "slide_type": "subslide"
    }
   },
   "source": [
    "# Jupyter notebook caveats"
   ]
  },
  {
   "cell_type": "markdown",
   "metadata": {
    "slideshow": {
     "slide_type": "fragment"
    }
   },
   "source": [
    "out-of-order cells"
   ]
  },
  {
   "cell_type": "markdown",
   "metadata": {
    "slideshow": {
     "slide_type": "fragment"
    }
   },
   "source": [
    "File → Download As  — .ipynb, .py, .html"
   ]
  },
  {
   "cell_type": "markdown",
   "metadata": {
    "slideshow": {
     "slide_type": "subslide"
    }
   },
   "source": [
    "# This presentation is also a jupyter notebook"
   ]
  },
  {
   "cell_type": "markdown",
   "metadata": {
    "slideshow": {
     "slide_type": "fragment"
    }
   },
   "source": [
    "embedded cells:"
   ]
  },
  {
   "cell_type": "code",
   "execution_count": 1,
   "metadata": {
    "slideshow": {
     "slide_type": "fragment"
    }
   },
   "outputs": [
    {
     "data": {
      "text/plain": [
       "2"
      ]
     },
     "execution_count": 1,
     "metadata": {},
     "output_type": "execute_result"
    }
   ],
   "source": [
    "1+1"
   ]
  },
  {
   "cell_type": "code",
   "execution_count": null,
   "metadata": {},
   "outputs": [],
   "source": []
  },
  {
   "cell_type": "markdown",
   "metadata": {
    "slideshow": {
     "slide_type": "fragment"
    }
   },
   "source": [
    "will upload in .ipynb format"
   ]
  },
  {
   "cell_type": "markdown",
   "metadata": {
    "slideshow": {
     "slide_type": "fragment"
    }
   },
   "source": [
    "need \"pip install RISE\""
   ]
  },
  {
   "cell_type": "markdown",
   "metadata": {
    "slideshow": {
     "slide_type": "slide"
    }
   },
   "source": [
    "# NetworkX"
   ]
  },
  {
   "cell_type": "markdown",
   "metadata": {
    "slideshow": {
     "slide_type": "subslide"
    }
   },
   "source": [
    "# create network, nodes, edges"
   ]
  },
  {
   "cell_type": "code",
   "execution_count": 2,
   "metadata": {
    "slideshow": {
     "slide_type": "fragment"
    }
   },
   "outputs": [],
   "source": [
    "import networkx"
   ]
  },
  {
   "cell_type": "code",
   "execution_count": null,
   "metadata": {},
   "outputs": [],
   "source": []
  },
  {
   "cell_type": "code",
   "execution_count": 3,
   "metadata": {
    "slideshow": {
     "slide_type": "fragment"
    }
   },
   "outputs": [],
   "source": [
    "g = networkx.Graph()"
   ]
  },
  {
   "cell_type": "code",
   "execution_count": 4,
   "metadata": {},
   "outputs": [
    {
     "data": {
      "text/plain": [
       "<networkx.classes.graph.Graph at 0x7fb4441a7550>"
      ]
     },
     "execution_count": 4,
     "metadata": {},
     "output_type": "execute_result"
    }
   ],
   "source": [
    "g"
   ]
  },
  {
   "cell_type": "code",
   "execution_count": 5,
   "metadata": {
    "slideshow": {
     "slide_type": "fragment"
    }
   },
   "outputs": [],
   "source": [
    "g.add_node(1)"
   ]
  },
  {
   "cell_type": "code",
   "execution_count": 6,
   "metadata": {
    "scrolled": true
   },
   "outputs": [
    {
     "data": {
      "text/plain": [
       "NodeView((1,))"
      ]
     },
     "execution_count": 6,
     "metadata": {},
     "output_type": "execute_result"
    }
   ],
   "source": [
    "g.nodes()"
   ]
  },
  {
   "cell_type": "code",
   "execution_count": 7,
   "metadata": {
    "slideshow": {
     "slide_type": "fragment"
    }
   },
   "outputs": [],
   "source": [
    "g.add_edge(2,3)"
   ]
  },
  {
   "cell_type": "code",
   "execution_count": 11,
   "metadata": {},
   "outputs": [],
   "source": [
    "networkx.MultiGraph?"
   ]
  },
  {
   "cell_type": "code",
   "execution_count": 12,
   "metadata": {},
   "outputs": [
    {
     "data": {
      "text/plain": [
       "NodeView((1, 2, 3))"
      ]
     },
     "execution_count": 12,
     "metadata": {},
     "output_type": "execute_result"
    }
   ],
   "source": [
    "g.nodes()"
   ]
  },
  {
   "cell_type": "code",
   "execution_count": 13,
   "metadata": {},
   "outputs": [
    {
     "data": {
      "text/plain": [
       "EdgeView([(2, 3)])"
      ]
     },
     "execution_count": 13,
     "metadata": {},
     "output_type": "execute_result"
    }
   ],
   "source": [
    "g.edges()"
   ]
  },
  {
   "cell_type": "code",
   "execution_count": 14,
   "metadata": {},
   "outputs": [],
   "source": [
    "g.add_node(\"asdf\")"
   ]
  },
  {
   "cell_type": "code",
   "execution_count": 15,
   "metadata": {},
   "outputs": [],
   "source": [
    "g.add_node((1,2,3))"
   ]
  },
  {
   "cell_type": "code",
   "execution_count": 16,
   "metadata": {},
   "outputs": [
    {
     "data": {
      "text/plain": [
       "NodeView((1, 2, 3, 'asdf', (1, 2, 3)))"
      ]
     },
     "execution_count": 16,
     "metadata": {},
     "output_type": "execute_result"
    }
   ],
   "source": [
    "g.nodes()"
   ]
  },
  {
   "cell_type": "code",
   "execution_count": 17,
   "metadata": {},
   "outputs": [
    {
     "ename": "TypeError",
     "evalue": "unhashable type: 'list'",
     "output_type": "error",
     "traceback": [
      "\u001b[0;31m---------------------------------------------------------------------------\u001b[0m",
      "\u001b[0;31mTypeError\u001b[0m                                 Traceback (most recent call last)",
      "\u001b[0;32m<ipython-input-17-f4477ba54a58>\u001b[0m in \u001b[0;36m<module>\u001b[0;34m\u001b[0m\n\u001b[0;32m----> 1\u001b[0;31m \u001b[0mg\u001b[0m\u001b[0;34m.\u001b[0m\u001b[0madd_node\u001b[0m\u001b[0;34m(\u001b[0m\u001b[0;34m[\u001b[0m\u001b[0;36m1\u001b[0m\u001b[0;34m,\u001b[0m\u001b[0;36m2\u001b[0m\u001b[0;34m,\u001b[0m\u001b[0;36m3\u001b[0m\u001b[0;34m]\u001b[0m\u001b[0;34m)\u001b[0m\u001b[0;34m\u001b[0m\u001b[0;34m\u001b[0m\u001b[0m\n\u001b[0m",
      "\u001b[0;32m~/anaconda3/lib/python3.7/site-packages/networkx/classes/graph.py\u001b[0m in \u001b[0;36madd_node\u001b[0;34m(self, node_for_adding, **attr)\u001b[0m\n\u001b[1;32m    497\u001b[0m         \u001b[0mdoesn\u001b[0m\u001b[0;31m'\u001b[0m\u001b[0mt\u001b[0m \u001b[0mchange\u001b[0m \u001b[0mon\u001b[0m \u001b[0mmutables\u001b[0m\u001b[0;34m.\u001b[0m\u001b[0;34m\u001b[0m\u001b[0;34m\u001b[0m\u001b[0m\n\u001b[1;32m    498\u001b[0m         \"\"\"\n\u001b[0;32m--> 499\u001b[0;31m         \u001b[0;32mif\u001b[0m \u001b[0mnode_for_adding\u001b[0m \u001b[0;32mnot\u001b[0m \u001b[0;32min\u001b[0m \u001b[0mself\u001b[0m\u001b[0;34m.\u001b[0m\u001b[0m_node\u001b[0m\u001b[0;34m:\u001b[0m\u001b[0;34m\u001b[0m\u001b[0;34m\u001b[0m\u001b[0m\n\u001b[0m\u001b[1;32m    500\u001b[0m             \u001b[0mself\u001b[0m\u001b[0;34m.\u001b[0m\u001b[0m_adj\u001b[0m\u001b[0;34m[\u001b[0m\u001b[0mnode_for_adding\u001b[0m\u001b[0;34m]\u001b[0m \u001b[0;34m=\u001b[0m \u001b[0mself\u001b[0m\u001b[0;34m.\u001b[0m\u001b[0madjlist_inner_dict_factory\u001b[0m\u001b[0;34m(\u001b[0m\u001b[0;34m)\u001b[0m\u001b[0;34m\u001b[0m\u001b[0;34m\u001b[0m\u001b[0m\n\u001b[1;32m    501\u001b[0m             \u001b[0mself\u001b[0m\u001b[0;34m.\u001b[0m\u001b[0m_node\u001b[0m\u001b[0;34m[\u001b[0m\u001b[0mnode_for_adding\u001b[0m\u001b[0;34m]\u001b[0m \u001b[0;34m=\u001b[0m \u001b[0mattr\u001b[0m\u001b[0;34m\u001b[0m\u001b[0;34m\u001b[0m\u001b[0m\n",
      "\u001b[0;31mTypeError\u001b[0m: unhashable type: 'list'"
     ]
    }
   ],
   "source": [
    "g.add_node([1,2,3])"
   ]
  },
  {
   "cell_type": "code",
   "execution_count": 18,
   "metadata": {},
   "outputs": [
    {
     "data": {
      "text/plain": [
       "2528502973977326415"
      ]
     },
     "execution_count": 18,
     "metadata": {},
     "output_type": "execute_result"
    }
   ],
   "source": [
    "hash((1,2,3))"
   ]
  },
  {
   "cell_type": "code",
   "execution_count": 19,
   "metadata": {},
   "outputs": [
    {
     "ename": "TypeError",
     "evalue": "unhashable type: 'list'",
     "output_type": "error",
     "traceback": [
      "\u001b[0;31m---------------------------------------------------------------------------\u001b[0m",
      "\u001b[0;31mTypeError\u001b[0m                                 Traceback (most recent call last)",
      "\u001b[0;32m<ipython-input-19-35e31e935e9e>\u001b[0m in \u001b[0;36m<module>\u001b[0;34m\u001b[0m\n\u001b[0;32m----> 1\u001b[0;31m \u001b[0mhash\u001b[0m\u001b[0;34m(\u001b[0m\u001b[0;34m[\u001b[0m\u001b[0;36m1\u001b[0m\u001b[0;34m,\u001b[0m\u001b[0;36m2\u001b[0m\u001b[0;34m,\u001b[0m\u001b[0;36m3\u001b[0m\u001b[0;34m]\u001b[0m\u001b[0;34m)\u001b[0m\u001b[0;34m\u001b[0m\u001b[0;34m\u001b[0m\u001b[0m\n\u001b[0m",
      "\u001b[0;31mTypeError\u001b[0m: unhashable type: 'list'"
     ]
    }
   ],
   "source": [
    "hash([1,2,3])"
   ]
  },
  {
   "cell_type": "code",
   "execution_count": null,
   "metadata": {},
   "outputs": [],
   "source": []
  },
  {
   "cell_type": "markdown",
   "metadata": {
    "slideshow": {
     "slide_type": "subslide"
    }
   },
   "source": [
    "# create network, nodes, edges -- caveats"
   ]
  },
  {
   "cell_type": "markdown",
   "metadata": {
    "slideshow": {
     "slide_type": "fragment"
    }
   },
   "source": [
    "different network types"
   ]
  },
  {
   "cell_type": "markdown",
   "metadata": {
    "slideshow": {
     "slide_type": "fragment"
    }
   },
   "source": [
    "adding edge silently adds missing nodes"
   ]
  },
  {
   "cell_type": "markdown",
   "metadata": {
    "slideshow": {
     "slide_type": "fragment"
    }
   },
   "source": [
    "not everything can be used as nodes"
   ]
  },
  {
   "cell_type": "markdown",
   "metadata": {
    "slideshow": {
     "slide_type": "subslide"
    }
   },
   "source": [
    "# Node, edge attributes"
   ]
  },
  {
   "cell_type": "code",
   "execution_count": 20,
   "metadata": {
    "slideshow": {
     "slide_type": "fragment"
    }
   },
   "outputs": [],
   "source": [
    "g.add_node(42, some_attribute='value')\n",
    "g.add_edge(42, 137, some_other_attribute=[1,2,3])"
   ]
  },
  {
   "cell_type": "code",
   "execution_count": 25,
   "metadata": {
    "slideshow": {
     "slide_type": "fragment"
    }
   },
   "outputs": [
    {
     "data": {
      "text/plain": [
       "{'some_attribute': 'value', 'new_attribute': 'new_value'}"
      ]
     },
     "execution_count": 25,
     "metadata": {},
     "output_type": "execute_result"
    }
   ],
   "source": [
    "g.node[42]"
   ]
  },
  {
   "cell_type": "code",
   "execution_count": null,
   "metadata": {},
   "outputs": [],
   "source": []
  },
  {
   "cell_type": "code",
   "execution_count": 24,
   "metadata": {
    "slideshow": {
     "slide_type": "fragment"
    }
   },
   "outputs": [
    {
     "data": {
      "text/plain": [
       "{'some_other_attribute': [1, 2, 3], 'other_new_attribute': [4, 5, 6]}"
      ]
     },
     "execution_count": 24,
     "metadata": {},
     "output_type": "execute_result"
    }
   ],
   "source": [
    "g[42][137]"
   ]
  },
  {
   "cell_type": "code",
   "execution_count": null,
   "metadata": {},
   "outputs": [],
   "source": []
  },
  {
   "cell_type": "code",
   "execution_count": 23,
   "metadata": {
    "slideshow": {
     "slide_type": "fragment"
    }
   },
   "outputs": [],
   "source": [
    "g.node[42]['new_attribute'] = 'new_value'\n",
    "g[42][137]['other_new_attribute'] = [4,5,6]"
   ]
  },
  {
   "cell_type": "code",
   "execution_count": null,
   "metadata": {},
   "outputs": [],
   "source": []
  },
  {
   "cell_type": "markdown",
   "metadata": {
    "slideshow": {
     "slide_type": "subslide"
    }
   },
   "source": [
    "# Drawing the network"
   ]
  },
  {
   "cell_type": "code",
   "execution_count": 27,
   "metadata": {
    "slideshow": {
     "slide_type": "fragment"
    }
   },
   "outputs": [
    {
     "data": {
      "image/png": "[encoded data removed]",
      "text/plain": [
       "<Figure size 432x288 with 1 Axes>"
      ]
     },
     "metadata": {},
     "output_type": "display_data"
    }
   ],
   "source": [
    "networkx.draw(g)"
   ]
  },
  {
   "cell_type": "code",
   "execution_count": 28,
   "metadata": {},
   "outputs": [],
   "source": [
    "import matplotlib.pyplot as plt"
   ]
  },
  {
   "cell_type": "code",
   "execution_count": 29,
   "metadata": {},
   "outputs": [],
   "source": [
    "plt.show()"
   ]
  },
  {
   "cell_type": "code",
   "execution_count": null,
   "metadata": {},
   "outputs": [],
   "source": []
  },
  {
   "cell_type": "markdown",
   "metadata": {
    "slideshow": {
     "slide_type": "fragment"
    }
   },
   "source": [
    "(might need to call matplotlib's show() function)"
   ]
  },
  {
   "cell_type": "markdown",
   "metadata": {
    "slideshow": {
     "slide_type": "fragment"
    }
   },
   "source": [
    "comparison with cytoscape"
   ]
  },
  {
   "cell_type": "markdown",
   "metadata": {
    "slideshow": {
     "slide_type": "subslide"
    }
   },
   "source": [
    "# Iterating over nodes, edges"
   ]
  },
  {
   "cell_type": "code",
   "execution_count": 30,
   "metadata": {
    "slideshow": {
     "slide_type": "fragment"
    }
   },
   "outputs": [
    {
     "data": {
      "text/plain": [
       "NodeDataView({1: {}, 2: {}, 3: {}, 'asdf': {}, (1, 2, 3): {}, 42: {'some_attribute': 'value', 'new_attribute': 'new_value'}, 137: {}})"
      ]
     },
     "execution_count": 30,
     "metadata": {},
     "output_type": "execute_result"
    }
   ],
   "source": [
    "g.nodes()\n",
    "g.nodes(data=True)"
   ]
  },
  {
   "cell_type": "code",
   "execution_count": null,
   "metadata": {},
   "outputs": [],
   "source": []
  },
  {
   "cell_type": "code",
   "execution_count": 31,
   "metadata": {
    "slideshow": {
     "slide_type": "fragment"
    }
   },
   "outputs": [
    {
     "name": "stdout",
     "output_type": "stream",
     "text": [
      "1 {}\n",
      "2 {}\n",
      "3 {}\n",
      "asdf {}\n",
      "(1, 2, 3) {}\n",
      "42 {'some_attribute': 'value', 'new_attribute': 'new_value'}\n",
      "137 {}\n"
     ]
    }
   ],
   "source": [
    "for node, attrs in g.nodes(data=True):\n",
    "    print(node, attrs)"
   ]
  },
  {
   "cell_type": "code",
   "execution_count": 32,
   "metadata": {
    "slideshow": {
     "slide_type": "fragment"
    }
   },
   "outputs": [
    {
     "name": "stdout",
     "output_type": "stream",
     "text": [
      "2 3 {}\n",
      "42 137 {'some_other_attribute': [1, 2, 3], 'other_new_attribute': [4, 5, 6]}\n"
     ]
    }
   ],
   "source": [
    "for source, target, attrs in g.edges(data=True):\n",
    "    print(source, target, attrs)"
   ]
  },
  {
   "cell_type": "code",
   "execution_count": null,
   "metadata": {},
   "outputs": [],
   "source": []
  },
  {
   "cell_type": "markdown",
   "metadata": {
    "slideshow": {
     "slide_type": "subslide"
    }
   },
   "source": [
    "# Loading data"
   ]
  },
  {
   "cell_type": "code",
   "execution_count": 33,
   "metadata": {
    "slideshow": {
     "slide_type": "fragment"
    }
   },
   "outputs": [],
   "source": [
    "graph = networkx.read_edgelist('word_association_graph_DSF.txt', \n",
    "                               create_using=networkx.DiGraph(), \n",
    "                               nodetype=str, data=[('weight', float),])"
   ]
  },
  {
   "cell_type": "code",
   "execution_count": 34,
   "metadata": {},
   "outputs": [
    {
     "data": {
      "text/plain": [
       "10616"
      ]
     },
     "execution_count": 34,
     "metadata": {},
     "output_type": "execute_result"
    }
   ],
   "source": [
    "graph.number_of_nodes()"
   ]
  },
  {
   "cell_type": "code",
   "execution_count": 35,
   "metadata": {
    "slideshow": {
     "slide_type": "fragment"
    }
   },
   "outputs": [
    {
     "data": {
      "text/plain": [
       "72171"
      ]
     },
     "execution_count": 35,
     "metadata": {},
     "output_type": "execute_result"
    }
   ],
   "source": [
    "graph.number_of_edges()"
   ]
  },
  {
   "cell_type": "markdown",
   "metadata": {
    "slideshow": {
     "slide_type": "slide"
    }
   },
   "source": [
    "# Calculating degrees"
   ]
  },
  {
   "cell_type": "code",
   "execution_count": 37,
   "metadata": {},
   "outputs": [],
   "source": [
    "len(graph.neighbors(n))"
   ]
  },
  {
   "cell_type": "code",
   "execution_count": 41,
   "metadata": {},
   "outputs": [],
   "source": [
    "degrees = {}\n",
    "for source, target, attrs in graph.edges(data=True):\n",
    "    if source not in degrees:\n",
    "        degrees[source] = 1 #.. .create it and set to 1...\n",
    "    else:\n",
    "        degrees[source] += 1 #.. .increment it...."
   ]
  },
  {
   "cell_type": "code",
   "execution_count": 42,
   "metadata": {},
   "outputs": [
    {
     "data": {
      "text/plain": [
       "17"
      ]
     },
     "execution_count": 42,
     "metadata": {},
     "output_type": "execute_result"
    }
   ],
   "source": [
    "degrees['APPLE']"
   ]
  },
  {
   "cell_type": "code",
   "execution_count": 44,
   "metadata": {},
   "outputs": [
    {
     "data": {
      "text/plain": [
       "True"
      ]
     },
     "execution_count": 44,
     "metadata": {},
     "output_type": "execute_result"
    }
   ],
   "source": [
    "graph.has_node('ALIEN')"
   ]
  },
  {
   "cell_type": "code",
   "execution_count": 45,
   "metadata": {},
   "outputs": [
    {
     "ename": "KeyError",
     "evalue": "'ALIEN'",
     "output_type": "error",
     "traceback": [
      "\u001b[0;31m---------------------------------------------------------------------------\u001b[0m",
      "\u001b[0;31mKeyError\u001b[0m                                  Traceback (most recent call last)",
      "\u001b[0;32m<ipython-input-45-0c86eeee7299>\u001b[0m in \u001b[0;36m<module>\u001b[0;34m\u001b[0m\n\u001b[0;32m----> 1\u001b[0;31m \u001b[0mdegrees\u001b[0m\u001b[0;34m[\u001b[0m\u001b[0;34m'ALIEN'\u001b[0m\u001b[0;34m]\u001b[0m\u001b[0;34m\u001b[0m\u001b[0;34m\u001b[0m\u001b[0m\n\u001b[0m",
      "\u001b[0;31mKeyError\u001b[0m: 'ALIEN'"
     ]
    }
   ],
   "source": [
    "degrees['ALIEN'],"
   ]
  },
  {
   "cell_type": "code",
   "execution_count": null,
   "metadata": {},
   "outputs": [],
   "source": [
    "degrees = {}\n",
    "for source, target, attrs in graph.edges(data=True):\n",
    "    if source not in degrees:\n",
    "        degrees[source] = 1 #.. .create it and set to 1...\n",
    "    else:\n",
    "        degrees[source] += 1 #.. .increment it...."
   ]
  },
  {
   "cell_type": "code",
   "execution_count": 38,
   "metadata": {},
   "outputs": [],
   "source": [
    "d = {}"
   ]
  },
  {
   "cell_type": "code",
   "execution_count": 39,
   "metadata": {},
   "outputs": [
    {
     "ename": "KeyError",
     "evalue": "1",
     "output_type": "error",
     "traceback": [
      "\u001b[0;31m---------------------------------------------------------------------------\u001b[0m",
      "\u001b[0;31mKeyError\u001b[0m                                  Traceback (most recent call last)",
      "\u001b[0;32m<ipython-input-39-b8f44857a8fd>\u001b[0m in \u001b[0;36m<module>\u001b[0;34m\u001b[0m\n\u001b[0;32m----> 1\u001b[0;31m \u001b[0md\u001b[0m\u001b[0;34m[\u001b[0m\u001b[0;36m1\u001b[0m\u001b[0;34m]\u001b[0m \u001b[0;34m+=\u001b[0m \u001b[0;36m1\u001b[0m\u001b[0;34m\u001b[0m\u001b[0;34m\u001b[0m\u001b[0m\n\u001b[0m",
      "\u001b[0;31mKeyError\u001b[0m: 1"
     ]
    }
   ],
   "source": [
    "d[1] += 1"
   ]
  },
  {
   "cell_type": "code",
   "execution_count": 57,
   "metadata": {},
   "outputs": [],
   "source": [
    "out_degrees = {}\n",
    "for node in graph.nodes():\n",
    "    out_degrees[node] = 0\n",
    "for source, target, attrs in graph.edges(data=True):\n",
    "    out_degrees[source] += 1 #.. .increment it...."
   ]
  },
  {
   "cell_type": "code",
   "execution_count": null,
   "metadata": {},
   "outputs": [],
   "source": []
  },
  {
   "cell_type": "code",
   "execution_count": 47,
   "metadata": {},
   "outputs": [
    {
     "data": {
      "text/plain": [
       "0"
      ]
     },
     "execution_count": 47,
     "metadata": {},
     "output_type": "execute_result"
    }
   ],
   "source": [
    "degrees['ALIEN']"
   ]
  },
  {
   "cell_type": "code",
   "execution_count": 48,
   "metadata": {},
   "outputs": [],
   "source": [
    "import collections"
   ]
  },
  {
   "cell_type": "code",
   "execution_count": 50,
   "metadata": {},
   "outputs": [],
   "source": [
    "dd = collections.defaultdict(int)"
   ]
  },
  {
   "cell_type": "code",
   "execution_count": 51,
   "metadata": {},
   "outputs": [],
   "source": [
    "dd[1]= 42"
   ]
  },
  {
   "cell_type": "code",
   "execution_count": 52,
   "metadata": {},
   "outputs": [],
   "source": [
    "dd[2] += 1"
   ]
  },
  {
   "cell_type": "code",
   "execution_count": 53,
   "metadata": {},
   "outputs": [
    {
     "data": {
      "text/plain": [
       "defaultdict(int, {1: 42, 2: 1})"
      ]
     },
     "execution_count": 53,
     "metadata": {},
     "output_type": "execute_result"
    }
   ],
   "source": [
    "dd"
   ]
  },
  {
   "cell_type": "code",
   "execution_count": 54,
   "metadata": {},
   "outputs": [
    {
     "data": {
      "text/plain": [
       "0"
      ]
     },
     "execution_count": 54,
     "metadata": {},
     "output_type": "execute_result"
    }
   ],
   "source": [
    "dd['ALIEN']"
   ]
  },
  {
   "cell_type": "code",
   "execution_count": 56,
   "metadata": {},
   "outputs": [],
   "source": [
    "in_degrees = {}\n",
    "for node in graph.nodes():\n",
    "    in_degrees[node] = 0\n",
    "for source, target, attrs in graph.edges(data=True):\n",
    "    in_degrees[target] += 1 #.. .increment it...."
   ]
  },
  {
   "cell_type": "code",
   "execution_count": null,
   "metadata": {},
   "outputs": [],
   "source": []
  },
  {
   "cell_type": "code",
   "execution_count": null,
   "metadata": {},
   "outputs": [],
   "source": []
  },
  {
   "cell_type": "code",
   "execution_count": null,
   "metadata": {},
   "outputs": [],
   "source": []
  },
  {
   "cell_type": "markdown",
   "metadata": {
    "slideshow": {
     "slide_type": "slide"
    }
   },
   "source": [
    "# Looking at the results"
   ]
  },
  {
   "cell_type": "code",
   "execution_count": 58,
   "metadata": {
    "slideshow": {
     "slide_type": "fragment"
    }
   },
   "outputs": [
    {
     "data": {
      "text/plain": [
       "7"
      ]
     },
     "execution_count": 58,
     "metadata": {},
     "output_type": "execute_result"
    }
   ],
   "source": [
    "in_degrees['ALIEN']"
   ]
  },
  {
   "cell_type": "code",
   "execution_count": 60,
   "metadata": {},
   "outputs": [
    {
     "data": {
      "text/plain": [
       "dict_values([7, 6, 1, 1, 47, 2, 35, 50, 47, 63, 9, 5, 51, 1, 1, 156, 11, 2, 10, 17, 18, 132, 49, 1, 1, 21, 70, 13, 1, 6, 83, 3, 1, 2, 34, 15, 158, 110, 1, 1, 22, 1, 1, 7, 10, 101, 2, 4, 1, 8, 70, 36, 63, 18, 14, 16, 36, 4, 8, 1, 5, 48, 1, 51, 1, 51, 13, 4, 53, 13, 50, 32, 12, 17, 6, 196, 1, 1, 3, 2, 50, 3, 11, 92, 28, 7, 10, 40, 1, 41, 3, 103, 19, 17, 30, 3, 25, 4, 18, 32, 14, 20, 12, 5, 27, 97, 38, 48, 65, 120, 2, 42, 1, 57, 95, 36, 15, 255, 24, 23, 24, 26, 2, 4, 33, 183, 90, 5, 6, 1, 5, 8, 43, 45, 3, 1, 14, 4, 52, 129, 10, 15, 21, 20, 46, 80, 16, 2, 70, 46, 11, 7, 35, 1, 53, 36, 6, 2, 6, 5, 2, 13, 73, 7, 1, 6, 4, 3, 324, 28, 4, 54, 46, 16, 46, 302, 26, 7, 1, 1, 154, 14, 1, 2, 17, 5, 276, 12, 44, 229, 25, 46, 90, 75, 137, 1, 5, 2, 11, 19, 17, 3, 259, 1, 85, 44, 70, 10, 4, 30, 49, 32, 94, 17, 9, 17, 19, 16, 18, 1, 33, 67, 40, 18, 17, 1, 40, 33, 23, 38, 4, 21, 61, 80, 19, 1, 19, 2, 71, 1, 9, 19, 7, 1, 10, 13, 8, 13, 13, 32, 29, 37, 10, 59, 2, 11, 1, 1, 4, 23, 1, 3, 1, 145, 1, 2, 18, 91, 1, 2, 14, 7, 1, 11, 37, 149, 14, 3, 1, 6, 19, 14, 66, 3, 63, 1, 7, 28, 6, 1, 35, 4, 9, 18, 10, 25, 19, 163, 7, 29, 10, 80, 25, 3, 10, 62, 2, 25, 1, 11, 28, 1, 13, 8, 47, 37, 22, 87, 7, 10, 4, 49, 61, 47, 10, 18, 26, 38, 34, 71, 60, 67, 2, 42, 14, 30, 5, 6, 17, 1, 7, 2, 53, 10, 46, 11, 1, 25, 19, 15, 47, 77, 27, 17, 12, 11, 24, 28, 8, 6, 19, 16, 41, 14, 12, 2, 45, 20, 71, 13, 8, 6, 10, 47, 21, 43, 15, 30, 3, 61, 16, 49, 6, 9, 7, 7, 10, 12, 38, 4, 12, 4, 4, 16, 4, 60, 72, 31, 3, 2, 17, 10, 10, 8, 106, 25, 34, 17, 2, 6, 17, 30, 3, 35, 38, 126, 53, 38, 7, 8, 19, 35, 2, 61, 12, 9, 6, 7, 64, 11, 1, 10, 1, 2, 34, 3, 12, 30, 1, 1, 1, 28, 25, 10, 84, 4, 95, 1, 8, 18, 3, 33, 20, 20, 31, 10, 20, 19, 99, 13, 58, 12, 103, 1, 11, 87, 2, 6, 10, 21, 8, 54, 12, 29, 40, 17, 22, 10, 1, 1, 28, 2, 6, 5, 9, 4, 21, 39, 9, 33, 22, 1, 151, 8, 74, 56, 5, 3, 6, 2, 20, 171, 134, 3, 19, 51, 70, 2, 31, 8, 127, 19, 71, 71, 8, 2, 4, 37, 8, 2, 8, 5, 29, 12, 32, 37, 25, 22, 9, 19, 8, 9, 9, 8, 11, 4, 34, 6, 1, 1, 32, 7, 24, 11, 1, 2, 12, 2, 4, 41, 97, 185, 21, 20, 27, 37, 15, 30, 2, 40, 86, 1, 5, 4, 61, 7, 43, 39, 10, 6, 5, 2, 1, 2, 77, 73, 18, 7, 9, 3, 25, 1, 3, 4, 14, 10, 52, 1, 6, 1, 48, 7, 22, 9, 3, 4, 61, 8, 37, 17, 3, 3, 4, 1, 181, 15, 10, 3, 11, 6, 21, 40, 23, 20, 55, 2, 27, 24, 52, 9, 17, 2, 34, 3, 11, 11, 1, 89, 2, 15, 1, 12, 7, 26, 64, 1, 31, 40, 9, 3, 55, 5, 11, 24, 4, 2, 62, 2, 19, 24, 3, 30, 3, 13, 48, 112, 32, 5, 1, 4, 26, 1, 37, 2, 11, 14, 4, 29, 120, 78, 41, 3, 1, 4, 3, 21, 2, 15, 1, 3, 11, 13, 19, 5, 3, 15, 3, 19, 6, 2, 2, 13, 2, 8, 1, 30, 8, 4, 83, 4, 2, 59, 17, 2, 8, 4, 20, 3, 1, 11, 10, 54, 50, 7, 6, 3, 8, 1, 2, 2, 1, 3, 3, 24, 4, 6, 22, 5, 114, 4, 15, 8, 3, 8, 2, 54, 13, 1, 43, 10, 20, 9, 5, 3, 50, 105, 29, 29, 8, 3, 11, 1, 20, 22, 46, 16, 12, 3, 6, 6, 2, 3, 9, 8, 13, 1, 35, 6, 19, 64, 9, 62, 5, 21, 1, 12, 36, 3, 9, 10, 12, 56, 3, 8, 1, 9, 84, 14, 17, 4, 17, 18, 3, 5, 10, 16, 43, 11, 2, 3, 12, 8, 9, 36, 3, 13, 23, 19, 82, 57, 14, 31, 58, 22, 15, 13, 2, 6, 6, 65, 24, 19, 4, 30, 127, 21, 33, 51, 12, 13, 10, 9, 9, 28, 5, 44, 11, 9, 4, 49, 1, 9, 21, 18, 1, 5, 8, 55, 30, 42, 81, 7, 6, 9, 18, 27, 7, 1, 13, 25, 3, 1, 10, 22, 9, 52, 1, 4, 4, 9, 3, 17, 7, 21, 16, 3, 4, 14, 2, 1, 1, 119, 2, 1, 44, 7, 11, 1, 67, 4, 23, 5, 5, 7, 45, 65, 12, 33, 3, 42, 4, 19, 8, 2, 35, 14, 31, 30, 18, 6, 8, 8, 5, 6, 19, 1, 39, 5, 6, 5, 33, 9, 2, 5, 1, 55, 30, 22, 4, 6, 9, 50, 2, 22, 10, 2, 119, 29, 2, 11, 8, 32, 46, 33, 2, 12, 2, 1, 2, 1, 2, 9, 5, 14, 48, 11, 14, 9, 16, 7, 13, 3, 9, 2, 1, 2, 2, 49, 4, 41, 13, 8, 41, 28, 54, 1, 1, 55, 23, 38, 16, 26, 17, 2, 73, 15, 9, 5, 10, 1, 5, 13, 1, 5, 8, 50, 20, 8, 3, 36, 44, 7, 74, 133, 31, 5, 26, 1, 73, 14, 100, 8, 5, 8, 91, 79, 66, 23, 19, 5, 30, 5, 7, 7, 16, 109, 9, 107, 5, 11, 39, 12, 5, 36, 1, 23, 12, 9, 2, 2, 2, 10, 10, 10, 79, 20, 2, 40, 36, 9, 18, 1, 2, 1, 3, 23, 16, 10, 16, 12, 16, 16, 20, 83, 56, 47, 4, 4, 1, 7, 14, 20, 1, 67, 101, 46, 1, 3, 10, 2, 1, 1, 23, 33, 8, 2, 12, 6, 2, 1, 135, 5, 6, 23, 7, 80, 32, 20, 3, 72, 19, 31, 9, 1, 12, 13, 8, 21, 7, 144, 4, 48, 15, 2, 3, 2, 7, 1, 11, 3, 5, 15, 3, 2, 3, 9, 11, 43, 9, 14, 1, 32, 6, 2, 4, 37, 4, 23, 138, 15, 21, 1, 14, 9, 17, 2, 42, 15, 1, 7, 5, 67, 5, 22, 23, 7, 10, 65, 19, 59, 37, 4, 37, 1, 24, 6, 30, 9, 42, 5, 9, 4, 40, 18, 5, 1, 7, 8, 10, 0, 4, 2, 5, 2, 4, 1, 18, 23, 20, 1, 29, 50, 37, 2, 87, 1, 10, 4, 46, 30, 45, 46, 31, 22, 2, 2, 11, 4, 24, 4, 16, 1, 23, 26, 1, 1, 2, 2, 21, 2, 10, 34, 17, 1, 13, 2, 5, 3, 7, 9, 1, 10, 2, 3, 10, 18, 1, 31, 1, 9, 19, 3, 39, 2, 19, 7, 3, 45, 5, 2, 29, 16, 9, 23, 6, 24, 5, 5, 50, 4, 7, 1, 2, 54, 1, 5, 8, 3, 3, 5, 3, 1, 6, 1, 1, 3, 13, 2, 19, 15, 1, 12, 16, 8, 6, 12, 7, 24, 40, 6, 10, 1, 1, 26, 72, 20, 8, 95, 3, 8, 31, 7, 1, 22, 6, 11, 2, 10, 3, 22, 5, 21, 24, 32, 1, 7, 2, 36, 2, 28, 32, 16, 16, 1, 26, 4, 117, 7, 3, 3, 37, 18, 17, 18, 24, 81, 9, 16, 6, 4, 3, 2, 3, 17, 12, 2, 10, 23, 42, 29, 37, 3, 12, 61, 10, 23, 9, 3, 3, 5, 60, 8, 3, 12, 7, 3, 11, 11, 2, 11, 2, 4, 25, 1, 27, 54, 1, 9, 9, 3, 1, 10, 2, 30, 27, 28, 25, 72, 7, 43, 1, 16, 17, 9, 1, 2, 13, 2, 8, 1, 5, 3, 3, 3, 3, 25, 1, 19, 1, 63, 66, 6, 12, 6, 7, 12, 13, 9, 13, 50, 15, 2, 42, 25, 11, 79, 131, 6, 26, 2, 12, 9, 22, 36, 6, 1, 1, 21, 13, 9, 68, 1, 2, 33, 10, 8, 27, 6, 13, 4, 144, 84, 79, 5, 8, 13, 1, 10, 7, 7, 27, 23, 11, 5, 8, 2, 23, 23, 1, 93, 5, 96, 21, 0, 35, 1, 22, 20, 7, 2, 35, 3, 6, 79, 6, 39, 12, 13, 40, 15, 2, 5, 8, 6, 2, 24, 5, 41, 2, 3, 3, 4, 1, 4, 2, 6, 33, 25, 1, 22, 52, 5, 12, 14, 6, 16, 2, 1, 2, 2, 36, 65, 4, 6, 3, 2, 2, 1, 6, 13, 1, 3, 2, 4, 1, 15, 7, 11, 26, 6, 18, 2, 30, 23, 9, 7, 8, 1, 16, 4, 3, 5, 5, 1, 20, 52, 1, 29, 7, 2, 42, 1, 2, 2, 1, 17, 1, 14, 14, 3, 46, 1, 3, 5, 39, 17, 14, 17, 18, 1, 4, 2, 3, 18, 9, 7, 31, 20, 36, 15, 21, 1, 43, 16, 3, 5, 4, 5, 7, 1, 2, 2, 2, 19, 14, 24, 19, 29, 18, 2, 61, 6, 12, 11, 79, 1, 6, 22, 11, 2, 115, 2, 9, 2, 6, 2, 9, 1, 2, 4, 1, 7, 21, 12, 4, 7, 13, 2, 9, 3, 20, 2, 2, 2, 58, 11, 2, 2, 7, 30, 2, 46, 14, 9, 12, 3, 3, 8, 10, 7, 69, 10, 4, 19, 5, 3, 16, 16, 7, 32, 1, 7, 7, 147, 2, 67, 114, 41, 19, 21, 1, 9, 31, 1, 7, 8, 13, 39, 3, 9, 126, 10, 6, 17, 4, 3, 1, 46, 1, 8, 16, 1, 26, 26, 6, 4, 15, 40, 6, 16, 5, 11, 2, 3, 1, 3, 13, 2, 22, 4, 5, 1, 10, 25, 10, 34, 7, 22, 1, 1, 37, 4, 4, 16, 9, 8, 2, 1, 3, 1, 2, 17, 0, 11, 9, 9, 13, 1, 4, 7, 21, 10, 15, 4, 17, 14, 10, 5, 30, 68, 7, 2, 2, 3, 7, 83, 2, 40, 2, 46, 16, 43, 39, 2, 28, 4, 5, 1, 1, 1, 1, 15, 2, 60, 9, 1, 3, 7, 5, 3, 16, 4, 9, 6, 6, 1, 0, 65, 20, 1, 5, 44, 3, 5, 30, 11, 20, 17, 7, 30, 23, 11, 10, 2, 16, 36, 2, 11, 1, 10, 23, 5, 24, 8, 28, 12, 1, 24, 14, 24, 12, 13, 22, 2, 3, 80, 14, 45, 14, 8, 5, 35, 1, 1, 55, 44, 7, 2, 2, 9, 4, 12, 10, 6, 8, 4, 21, 3, 4, 10, 28, 6, 11, 12, 15, 41, 4, 74, 1, 6, 9, 40, 1, 4, 12, 23, 30, 30, 38, 27, 22, 6, 9, 2, 2, 9, 3, 3, 2, 5, 9, 3, 23, 5, 1, 8, 14, 12, 1, 1, 1, 11, 7, 3, 6, 25, 2, 44, 10, 4, 1, 3, 11, 2, 2, 5, 8, 11, 1, 20, 75, 1, 3, 27, 20, 7, 8, 2, 2, 1, 14, 58, 29, 18, 2, 75, 3, 3, 9, 4, 18, 6, 6, 64, 13, 5, 27, 3, 3, 8, 4, 45, 2, 1, 1, 13, 6, 6, 14, 5, 7, 14, 20, 5, 3, 1, 6, 7, 11, 7, 1, 29, 6, 20, 11, 4, 2, 1, 1, 7, 1, 9, 19, 2, 7, 3, 5, 1, 11, 5, 16, 10, 1, 1, 7, 2, 2, 1, 4, 1, 3, 17, 5, 6, 3, 8, 3, 3, 3, 3, 1, 1, 37, 3, 7, 4, 15, 7, 27, 4, 17, 1, 3, 6, 28, 37, 15, 7, 1, 4, 6, 1, 14, 25, 24, 13, 3, 5, 3, 4, 1, 1, 14, 1, 9, 20, 1, 3, 15, 11, 6, 3, 25, 5, 55, 1, 15, 43, 2, 2, 28, 6, 1, 13, 85, 28, 2, 11, 11, 3, 21, 8, 3, 5, 1, 16, 2, 5, 5, 10, 5, 20, 18, 6, 5, 20, 1, 6, 10, 4, 17, 1, 3, 3, 13, 18, 15, 16, 4, 4, 4, 7, 8, 13, 3, 14, 13, 3, 18, 14, 5, 15, 21, 19, 32, 6, 15, 22, 8, 1, 1, 26, 3, 10, 2, 3, 3, 2, 19, 2, 5, 1, 4, 2, 5, 3, 2, 1, 1, 1, 45, 4, 2, 1, 11, 5, 7, 4, 16, 4, 3, 54, 24, 31, 2, 1, 22, 13, 2, 3, 5, 11, 16, 2, 8, 30, 4, 36, 9, 4, 17, 20, 4, 2, 2, 21, 27, 11, 2, 5, 14, 5, 14, 8, 2, 1, 3, 4, 2, 2, 1, 49, 8, 2, 6, 4, 1, 7, 15, 9, 3, 5, 22, 5, 2, 5, 2, 2, 1, 9, 40, 1, 3, 14, 6, 38, 13, 2, 1, 1, 1, 2, 7, 10, 7, 14, 4, 6, 14, 13, 18, 9, 9, 3, 5, 19, 1, 8, 13, 11, 7, 6, 10, 81, 14, 1, 17, 11, 34, 21, 1, 1, 39, 1, 1, 8, 2, 3, 2, 4, 3, 6, 4, 7, 2, 3, 23, 13, 9, 6, 1, 12, 6, 6, 4, 19, 3, 2, 3, 7, 1, 1, 3, 1, 3, 10, 3, 8, 25, 2, 2, 21, 16, 3, 3, 13, 22, 24, 14, 17, 16, 68, 12, 3, 13, 6, 10, 7, 8, 9, 7, 6, 2, 8, 21, 6, 6, 6, 36, 1, 12, 55, 18, 10, 7, 4, 5, 21, 4, 50, 39, 1, 9, 1, 24, 4, 7, 5, 90, 9, 4, 7, 16, 5, 57, 8, 8, 23, 3, 2, 2, 2, 1, 8, 5, 4, 6, 1, 11, 1, 13, 7, 11, 5, 2, 18, 5, 20, 4, 3, 7, 5, 5, 1, 1, 19, 4, 1, 2, 42, 84, 12, 7, 22, 6, 3, 6, 1, 19, 30, 21, 3, 11, 1, 5, 1, 1, 8, 3, 15, 3, 17, 17, 27, 1, 7, 4, 5, 11, 3, 1, 22, 9, 1, 10, 3, 4, 4, 4, 17, 1, 16, 4, 3, 10, 12, 16, 51, 9, 15, 12, 34, 1, 7, 46, 14, 3, 5, 2, 6, 18, 10, 1, 11, 22, 9, 26, 2, 41, 15, 15, 3, 32, 1, 5, 1, 13, 4, 4, 2, 8, 20, 16, 4, 9, 4, 12, 1, 1, 1, 17, 1, 10, 9, 1, 7, 3, 10, 2, 1, 3, 1, 2, 13, 5, 4, 1, 1, 7, 1, 8, 1, 51, 5, 21, 5, 18, 14, 10, 2, 3, 9, 3, 57, 14, 1, 2, 25, 5, 14, 4, 4, 20, 3, 20, 14, 16, 9, 4, 24, 11, 5, 13, 2, 9, 7, 2, 2, 9, 9, 7, 1, 22, 1, 6, 19, 22, 11, 3, 4, 0, 11, 6, 8, 4, 4, 39, 5, 2, 13, 21, 11, 4, 4, 1, 15, 6, 14, 9, 6, 3, 44, 5, 10, 9, 1, 40, 10, 17, 11, 1, 6, 3, 2, 19, 31, 23, 9, 2, 29, 83, 2, 29, 19, 5, 7, 2, 2, 2, 13, 21, 1, 24, 3, 13, 17, 10, 5, 15, 24, 23, 3, 52, 16, 10, 22, 4, 1, 4, 5, 10, 1, 4, 11, 0, 2, 1, 17, 13, 3, 21, 11, 20, 12, 14, 39, 24, 4, 6, 4, 24, 5, 9, 16, 42, 1, 1, 5, 1, 1, 1, 21, 1, 38, 10, 4, 1, 7, 2, 3, 7, 7, 33, 4, 7, 4, 10, 8, 1, 6, 60, 19, 19, 7, 35, 12, 50, 20, 1, 60, 12, 8, 19, 10, 2, 33, 2, 15, 1, 4, 32, 5, 4, 4, 26, 1, 1, 13, 16, 3, 2, 11, 7, 7, 1, 4, 9, 1, 4, 1, 1, 1, 7, 3, 28, 1, 1, 2, 1, 4, 29, 7, 9, 3, 8, 1, 13, 9, 3, 1, 2, 3, 22, 1, 5, 26, 7, 11, 2, 12, 12, 4, 7, 6, 24, 6, 2, 5, 3, 3, 23, 2, 6, 31, 1, 3, 1, 3, 1, 4, 2, 7, 23, 3, 3, 7, 3, 9, 2, 2, 1, 3, 9, 8, 5, 12, 2, 4, 1, 1, 5, 1, 2, 11, 27, 9, 17, 1, 1, 1, 1, 2, 7, 1, 12, 1, 25, 3, 5, 1, 12, 4, 1, 1, 2, 16, 13, 1, 24, 8, 4, 4, 1, 6, 17, 6, 6, 1, 24, 1, 9, 2, 21, 4, 11, 5, 4, 16, 2, 9, 28, 1, 1, 10, 21, 3, 15, 8, 1, 7, 19, 2, 33, 4, 7, 3, 1, 17, 4, 1, 13, 4, 3, 3, 31, 6, 4, 8, 1, 10, 20, 29, 3, 9, 1, 23, 2, 9, 2, 3, 2, 14, 6, 1, 4, 7, 5, 1, 3, 30, 8, 1, 11, 2, 2, 4, 7, 11, 5, 31, 1, 6, 4, 2, 10, 1, 30, 1, 3, 2, 9, 3, 3, 5, 1, 3, 1, 4, 2, 1, 6, 1, 1, 16, 4, 6, 2, 30, 6, 1, 13, 6, 6, 3, 3, 7, 1, 2, 8, 29, 24, 18, 18, 2, 9, 1, 21, 2, 9, 23, 6, 1, 1, 12, 8, 42, 15, 10, 13, 2, 10, 3, 6, 13, 5, 2, 6, 6, 6, 2, 1, 1, 3, 1, 11, 8, 13, 1, 12, 3, 6, 6, 4, 2, 2, 1, 1, 4, 3, 3, 1, 3, 5, 10, 14, 5, 1, 5, 8, 4, 6, 10, 7, 7, 13, 4, 5, 3, 1, 3, 4, 24, 1, 1, 19, 3, 26, 5, 15, 5, 10, 12, 3, 1, 10, 23, 25, 8, 10, 36, 6, 4, 52, 13, 3, 2, 18, 1, 3, 7, 7, 2, 1, 1, 5, 2, 1, 1, 5, 14, 5, 23, 13, 4, 6, 14, 9, 51, 7, 2, 26, 1, 6, 15, 15, 11, 9, 11, 8, 2, 11, 54, 4, 25, 1, 3, 3, 2, 12, 4, 10, 14, 2, 3, 2, 12, 4, 12, 17, 6, 1, 3, 2, 5, 29, 1, 1, 1, 2, 10, 1, 8, 12, 7, 14, 3, 16, 10, 8, 20, 23, 2, 26, 3, 1, 3, 3, 46, 1, 1, 2, 14, 2, 1, 9, 17, 1, 5, 5, 1, 1, 4, 3, 2, 6, 2, 8, 6, 2, 2, 7, 2, 4, 1, 4, 32, 1, 1, 3, 3, 3, 3, 1, 1, 2, 9, 40, 19, 6, 41, 43, 2, 9, 6, 49, 17, 14, 11, 4, 7, 1, 9, 1, 6, 11, 1, 1, 5, 18, 8, 1, 6, 4, 3, 15, 3, 3, 14, 1, 0, 10, 10, 1, 46, 5, 3, 1, 34, 1, 5, 9, 1, 9, 4, 2, 2, 15, 1, 2, 7, 1, 27, 6, 7, 18, 8, 8, 8, 14, 5, 2, 4, 8, 25, 3, 2, 1, 13, 9, 2, 27, 11, 9, 8, 11, 1, 8, 35, 4, 5, 4, 11, 1, 40, 3, 13, 16, 1, 1, 5, 37, 1, 1, 25, 5, 5, 11, 7, 4, 16, 1, 2, 5, 1, 1, 6, 6, 2, 4, 2, 1, 1, 9, 1, 1, 3, 11, 3, 5, 1, 1, 1, 1, 6, 12, 2, 9, 3, 7, 7, 4, 6, 3, 23, 21, 1, 35, 8, 3, 8, 2, 8, 7, 5, 14, 5, 8, 4, 3, 7, 15, 4, 5, 5, 4, 1, 4, 14, 14, 5, 6, 8, 31, 1, 4, 15, 28, 4, 3, 8, 24, 3, 16, 18, 4, 8, 1, 1, 1, 2, 8, 2, 2, 8, 3, 1, 7, 1, 3, 4, 1, 4, 1, 3, 7, 21, 4, 2, 1, 1, 3, 1, 5, 2, 8, 5, 1, 2, 1, 2, 4, 20, 33, 5, 10, 16, 7, 1, 5, 2, 1, 2, 6, 7, 3, 17, 11, 2, 4, 1, 1, 4, 17, 11, 22, 7, 2, 4, 2, 17, 12, 1, 1, 8, 3, 47, 1, 15, 3, 3, 6, 4, 4, 4, 10, 3, 10, 5, 4, 2, 2, 36, 5, 2, 1, 25, 4, 8, 1, 11, 6, 2, 12, 1, 12, 15, 9, 6, 0, 3, 3, 11, 13, 5, 38, 3, 3, 4, 8, 0, 2, 7, 3, 8, 8, 4, 12, 18, 5, 6, 1, 7, 20, 1, 41, 1, 4, 1, 7, 29, 15, 4, 4, 9, 8, 3, 1, 3, 1, 4, 1, 8, 3, 1, 1, 1, 1, 7, 9, 5, 2, 1, 8, 14, 1, 5, 12, 3, 1, 6, 2, 3, 4, 5, 91, 32, 5, 5, 1, 1, 1, 6, 2, 5, 27, 4, 4, 2, 5, 1, 0, 1, 20, 6, 2, 5, 19, 3, 3, 8, 4, 0, 3, 2, 1, 7, 4, 2, 9, 1, 3, 14, 6, 6, 1, 3, 20, 2, 10, 1, 2, 12, 2, 2, 4, 1, 1, 1, 8, 18, 3, 1, 4, 15, 3, 1, 15, 1, 7, 5, 8, 15, 3, 6, 1, 6, 14, 4, 8, 2, 6, 5, 8, 7, 5, 3, 3, 1, 2, 1, 14, 1, 4, 2, 12, 28, 13, 3, 7, 6, 2, 1, 2, 1, 4, 7, 4, 6, 2, 1, 3, 2, 8, 3, 1, 9, 3, 6, 4, 8, 8, 2, 0, 1, 1, 1, 17, 10, 2, 6, 4, 2, 2, 3, 1, 7, 2, 1, 1, 6, 9, 3, 3, 1, 3, 1, 2, 8, 1, 4, 1, 3, 11, 1, 1, 1, 1, 1, 2, 6, 2, 5, 2, 1, 2, 5, 19, 7, 6, 9, 2, 12, 3, 5, 2, 13, 2, 19, 6, 3, 17, 7, 1, 2, 1, 6, 6, 2, 1, 4, 6, 9, 6, 1, 13, 3, 1, 1, 1, 1, 1, 1, 6, 4, 13, 6, 4, 14, 3, 3, 3, 1, 2, 1, 23, 2, 3, 1, 8, 1, 0, 1, 2, 10, 6, 7, 20, 2, 3, 2, 14, 2, 2, 5, 6, 3, 2, 7, 2, 3, 32, 4, 7, 12, 3, 6, 3, 2, 4, 1, 3, 3, 8, 1, 2, 12, 5, 11, 2, 1, 8, 6, 2, 11, 7, 11, 1, 9, 2, 16, 2, 1, 4, 1, 2, 2, 18, 1, 1, 1, 7, 5, 1, 1, 4, 24, 2, 9, 14, 3, 3, 16, 3, 1, 1, 2, 1, 1, 9, 3, 2, 5, 3, 7, 39, 6, 7, 1, 6, 2, 12, 8, 1, 2, 2, 8, 11, 12, 5, 6, 15, 1, 11, 3, 24, 3, 0, 5, 8, 10, 20, 1, 3, 2, 18, 2, 7, 2, 14, 7, 4, 4, 1, 4, 1, 4, 5, 8, 1, 2, 1, 8, 7, 11, 5, 6, 2, 1, 8, 1, 5, 17, 11, 2, 1, 1, 1, 6, 1, 1, 7, 34, 5, 1, 4, 3, 7, 4, 7, 5, 4, 6, 24, 2, 0, 4, 1, 8, 10, 1, 7, 5, 9, 5, 4, 1, 3, 2, 2, 9, 6, 9, 2, 4, 3, 1, 1, 4, 15, 1, 1, 1, 11, 0, 9, 8, 5, 4, 4, 5, 6, 8, 14, 6, 12, 5, 1, 14, 2, 18, 2, 1, 2, 2, 0, 4, 3, 1, 3, 2, 2, 1, 12, 1, 7, 23, 2, 3, 2, 1, 4, 1, 2, 8, 1, 1, 13, 3, 3, 5, 3, 13, 14, 1, 4, 1, 6, 1, 19, 2, 9, 1, 6, 1, 13, 5, 7, 6, 4, 8, 3, 6, 1, 1, 6, 2, 4, 4, 2, 1, 11, 5, 13, 7, 3, 2, 1, 1, 10, 1, 3, 5, 16, 2, 7, 3, 26, 1, 1, 17, 33, 3, 11, 1, 1, 1, 1, 2, 2, 1, 1, 10, 11, 3, 13, 4, 9, 5, 5, 6, 1, 1, 4, 17, 14, 2, 1, 3, 6, 2, 2, 3, 3, 6, 11, 20, 4, 14, 19, 11, 10, 1, 1, 4, 2, 4, 3, 1, 7, 7, 5, 3, 1, 2, 2, 6, 5, 1, 4, 4, 13, 1, 6, 1, 2, 10, 14, 2, 5, 2, 11, 1, 1, 5, 1, 1, 6, 9, 4, 4, 4, 4, 8, 3, 2, 2, 1, 12, 3, 63, 2, 3, 0, 14, 7, 13, 1, 3, 1, 1, 8, 7, 1, 2, 3, 2, 2, 7, 2, 1, 1, 2, 2, 1, 13, 1, 1, 16, 1, 1, 6, 2, 3, 3, 2, 1, 2, 2, 1, 1, 1, 2, 1, 1, 4, 2, 1, 12, 4, 5, 3, 4, 2, 3, 6, 19, 8, 16, 11, 8, 1, 8, 1, 1, 2, 7, 6, 12, 10, 1, 4, 3, 8, 1, 4, 1, 2, 2, 2, 1, 2, 16, 5, 7, 14, 5, 3, 1, 4, 5, 6, 1, 6, 1, 2, 1, 1, 2, 1, 2, 9, 6, 4, 14, 9, 8, 5, 5, 1, 2, 3, 6, 6, 23, 1, 1, 12, 2, 10, 3, 11, 9, 1, 1, 4, 1, 3, 2, 4, 1, 6, 3, 2, 1, 2, 3, 2, 2, 2, 3, 2, 2, 2, 3, 7, 2, 10, 1, 2, 2, 3, 1, 7, 9, 1, 12, 5, 9, 1, 2, 8, 1, 2, 2, 2, 2, 5, 1, 2, 2, 1, 4, 5, 1, 3, 2, 1, 5, 4, 1, 12, 5, 2, 7, 1, 1, 1, 1, 1, 1, 7, 13, 7, 18, 8, 2, 1, 1, 1, 5, 4, 5, 1, 4, 11, 1, 10, 1, 4, 6, 2, 19, 2, 2, 3, 16, 8, 3, 7, 1, 3, 7, 7, 1, 1, 1, 1, 8, 9, 1, 9, 2, 3, 7, 1, 1, 0, 3, 13, 7, 2, 1, 3, 3, 4, 7, 13, 15, 3, 4, 2, 2, 1, 2, 11, 1, 1, 8, 1, 4, 9, 1, 1, 2, 4, 3, 2, 7, 7, 5, 3, 1, 3, 1, 2, 2, 1, 1, 1, 4, 8, 1, 3, 2, 1, 15, 16, 3, 4, 1, 1, 1, 2, 1, 3, 6, 2, 5, 1, 2, 3, 2, 1, 9, 7, 1, 2, 4, 1, 4, 2, 5, 0, 1, 1, 2, 1, 1, 2, 4, 7, 3, 3, 1, 3, 1, 9, 8, 0, 1, 5, 6, 10, 6, 10, 5, 3, 5, 13, 3, 7, 5, 1, 3, 1, 3, 2, 2, 7, 1, 1, 1, 8, 1, 3, 1, 1, 1, 1, 1, 5, 5, 5, 6, 1, 2, 2, 3, 2, 2, 2, 8, 7, 3, 11, 2, 2, 6, 2, 3, 5, 2, 1, 16, 5, 6, 5, 12, 8, 4, 18, 7, 4, 2, 10, 2, 1, 1, 1, 3, 7, 1, 2, 3, 3, 1, 1, 18, 3, 1, 10, 1, 1, 3, 1, 2, 2, 4, 13, 20, 13, 19, 7, 7, 9, 2, 7, 2, 6, 6, 3, 1, 1, 10, 7, 7, 1, 5, 8, 1, 5, 10, 2, 6, 15, 1, 3, 2, 1, 3, 1, 4, 5, 10, 2, 9, 6, 3, 20, 2, 12, 12, 2, 1, 2, 0, 11, 1, 2, 8, 21, 2, 1, 3, 11, 5, 8, 4, 2, 1, 5, 3, 17, 5, 1, 1, 1, 3, 7, 1, 1, 1, 1, 6, 8, 2, 12, 7, 4, 1, 1, 1, 7, 4, 3, 3, 2, 6, 3, 12, 5, 1, 15, 12, 4, 4, 1, 5, 4, 16, 1, 2, 5, 11, 3, 1, 1, 2, 3, 1, 6, 4, 1, 21, 4, 2, 1, 2, 2, 21, 1, 31, 1, 1, 9, 3, 1, 1, 9, 1, 1, 2, 1, 7, 1, 8, 10, 6, 1, 3, 2, 1, 1, 3, 1, 19, 3, 6, 3, 6, 8, 3, 1, 1, 4, 1, 12, 4, 8, 1, 6, 7, 6, 10, 7, 6, 3, 22, 8, 4, 9, 1, 1, 18, 2, 9, 4, 3, 1, 2, 1, 1, 4, 9, 3, 7, 3, 5, 3, 2, 5, 9, 14, 4, 7, 5, 3, 13, 1, 3, 7, 1, 4, 2, 1, 2, 3, 4, 1, 2, 2, 17, 1, 1, 1, 1, 2, 1, 4, 1, 2, 2, 3, 3, 1, 1, 4, 3, 4, 10, 7, 0, 1, 5, 2, 2, 1, 2, 4, 3, 5, 1, 4, 12, 2, 1, 1, 6, 0, 5, 4, 3, 7, 2, 2, 1, 3, 2, 1, 12, 2, 1, 3, 2, 14, 1, 4, 8, 1, 2, 1, 12, 3, 1, 1, 3, 6, 2, 3, 3, 1, 1, 6, 2, 13, 2, 16, 3, 1, 1, 13, 2, 14, 2, 1, 2, 16, 8, 2, 4, 2, 1, 7, 6, 2, 2, 4, 3, 3, 6, 2, 3, 2, 1, 1, 4, 6, 2, 2, 12, 3, 1, 1, 1, 2, 4, 3, 1, 2, 1, 1, 1, 1, 2, 4, 9, 1, 6, 2, 1, 1, 3, 8, 4, 2, 2, 2, 3, 9, 6, 2, 1, 1, 5, 14, 4, 3, 2, 2, 2, 3, 1, 1, 2, 1, 3, 0, 2, 3, 6, 1, 8, 1, 1, 5, 1, 2, 4, 3, 1, 2, 1, 2, 2, 1, 10, 2, 1, 1, 1, 1, 11, 4, 3, 1, 4, 9, 4, 3, 1, 7, 2, 4, 3, 2, 1, 1, 1, 2, 2, 1, 7, 4, 17, 1, 1, 1, 2, 1, 0, 1, 4, 3, 1, 9, 1, 4, 1, 4, 1, 2, 3, 1, 1, 1, 1, 1, 2, 1, 1, 1, 1, 1, 1, 1, 2, 2, 1, 2, 10, 1, 4, 4, 2, 1, 6, 7, 6, 1, 1, 1, 5, 2, 3, 1, 2, 2, 9, 2, 1, 3, 1, 16, 6, 2, 3, 5, 2, 3, 1, 2, 3, 1, 2, 1, 4, 5, 15, 1, 29, 11, 2, 2, 4, 1, 1, 2, 1, 1, 10, 2, 2, 4, 1, 3, 3, 8, 3, 4, 2, 1, 18, 1, 3, 1, 2, 2, 3, 2, 2, 2, 15, 1, 1, 2, 3, 1, 2, 1, 2, 2, 1, 8, 1, 1, 12, 1, 1, 1, 1, 2, 1, 1, 15, 4, 3, 3, 2, 6, 3, 3, 2, 10, 1, 7, 4, 1, 2, 1, 12, 1, 4, 1, 1, 11, 1, 1, 1, 6, 1, 4, 1, 1, 2, 1, 2, 3, 2, 3, 0, 2, 1, 9, 1, 2, 2, 5, 1, 1, 3, 3, 2, 1, 3, 3, 1, 1, 1, 1, 0, 2, 1, 6, 2, 7, 3, 6, 1, 1, 1, 2, 3, 2, 3, 1, 4, 9, 2, 7, 4, 2, 3, 4, 5, 1, 4, 1, 1, 1, 1, 1, 3, 4, 7, 10, 1, 2, 6, 4, 3, 7, 1, 1, 6, 1, 1, 1, 1, 1, 3, 9, 1, 1, 2, 3, 5, 3, 1, 3, 5, 7, 2, 4, 3, 3, 0, 2, 11, 2, 1, 1, 2, 2, 1, 1, 1, 1, 3, 7, 1, 2, 3, 2, 5, 4, 12, 1, 7, 2, 1, 1, 5, 3, 11, 5, 1, 12, 2, 1, 1, 4, 2, 1, 6, 7, 2, 1, 2, 4, 3, 1, 1, 5, 8, 3, 1, 2, 1, 5, 3, 1, 3, 10, 1, 3, 1, 1, 1, 2, 3, 1, 4, 1, 4, 3, 1, 1, 1, 15, 1, 1, 1, 4, 1, 3, 2, 2, 1, 1, 11, 1, 1, 12, 4, 2, 3, 3, 8, 1, 4, 3, 1, 6, 5, 3, 8, 10, 10, 2, 2, 2, 1, 1, 3, 4, 1, 1, 7, 1, 1, 3, 2, 1, 3, 2, 3, 3, 7, 4, 1, 1, 1, 8, 3, 3, 3, 3, 2, 2, 2, 7, 1, 2, 4, 1, 1, 4, 1, 5, 1, 3, 1, 1, 1, 1, 1, 2, 13, 5, 1, 1, 0, 1, 6, 9, 24, 1, 2, 1, 1, 1, 2, 8, 1, 0, 4, 1, 6, 2, 1, 6, 2, 10, 1, 4, 1, 7, 4, 4, 1, 2, 1, 7, 2, 6, 6, 3, 4, 5, 2, 1, 4, 3, 1, 1, 1, 1, 16, 4, 1, 3, 1, 1, 7, 2, 5, 3, 1, 2, 2, 1, 3, 4, 1, 1, 2, 1, 2, 1, 22, 1, 4, 6, 3, 9, 2, 3, 5, 8, 1, 3, 3, 7, 9, 9, 2, 6, 1, 1, 1, 3, 1, 10, 15, 2, 3, 2, 2, 1, 14, 1, 1, 2, 1, 1, 1, 6, 10, 5, 4, 5, 7, 1, 0, 1, 1, 4, 2, 1, 5, 5, 2, 12, 1, 3, 1, 2, 11, 4, 3, 6, 7, 5, 14, 2, 5, 2, 1, 6, 5, 1, 1, 1, 3, 4, 1, 2, 12, 1, 1, 5, 2, 5, 3, 2, 3, 2, 1, 2, 3, 1, 4, 7, 2, 1, 1, 3, 2, 10, 3, 3, 2, 5, 2, 1, 2, 3, 1, 3, 2, 3, 3, 2, 1, 4, 1, 4, 1, 7, 1, 2, 1, 3, 2, 8, 1, 1, 2, 7, 1, 1, 5, 1, 1, 1, 3, 4, 2, 2, 3, 1, 2, 7, 11, 1, 1, 1, 4, 2, 2, 1, 1, 1, 2, 2, 1, 1, 2, 1, 3, 2, 1, 2, 1, 2, 2, 2, 1, 3, 1, 7, 2, 2, 7, 7, 5, 4, 1, 3, 2, 1, 2, 11, 1, 15, 4, 1, 1, 5, 3, 1, 2, 1, 1, 1, 4, 5, 3, 2, 6, 5, 1, 3, 7, 5, 2, 4, 1, 2, 3, 1, 1, 3, 1, 5, 3, 8, 1, 2, 1, 1, 1, 1, 2, 1, 1, 1, 4, 1, 1, 2, 1, 1, 3, 5, 12, 3, 1, 2, 2, 5, 0, 1, 4, 7, 6, 3, 1, 1, 4, 1, 1, 4, 1, 1, 3, 7, 2, 1, 1, 1, 1, 2, 1, 1, 2, 1, 1, 1, 1, 4, 1, 2, 1, 3, 3, 1, 1, 2, 3, 2, 1, 1, 2, 1, 1, 1, 1, 1, 1, 1, 2, 2, 2, 1, 1, 5, 2, 2, 1, 2, 4, 1, 4, 3, 1, 8, 1, 2, 2, 3, 1, 6, 6, 6, 2, 1, 4, 1, 2, 1, 6, 1, 1, 1, 1, 1, 1, 3, 1, 1, 1, 9, 7, 1, 1, 4, 1, 1, 2, 6, 2, 11, 1, 1, 1, 9, 1, 2, 1, 3, 1, 5, 6, 1, 4, 3, 9, 2, 1, 2, 4, 4, 3, 3, 2, 1, 5, 4, 1, 1, 1, 2, 4, 1, 3, 3, 2, 9, 2, 1, 3, 14, 2, 3, 1, 2, 2, 4, 2, 1, 2, 6, 1, 1, 10, 3, 1, 2, 1, 1, 1, 5, 7, 4, 1, 9, 1, 3, 1, 5, 2, 1, 1, 1, 1, 1, 4, 1, 2, 1, 4, 6, 3, 3, 9, 1, 1, 1, 1, 1, 1, 4, 1, 2, 1, 1, 3, 1, 1, 2, 2, 1, 1, 1, 1, 1, 6, 1, 1, 2, 1, 1, 9, 10, 3, 2, 2, 1, 3, 8, 4, 4, 5, 4, 2, 1, 1, 5, 3, 1, 7, 2, 6, 1, 2, 1, 1, 6, 7, 4, 1, 2, 1, 1, 3, 10, 5, 3, 1, 2, 1, 7, 0, 3, 3, 1, 2, 1, 1, 2, 1, 2, 12, 12, 1, 6, 6, 4, 1, 3, 7, 4, 1, 10, 1, 1, 1, 6, 1, 8, 5, 1, 1, 9, 2, 1, 4, 1, 20, 2, 2, 8, 1, 8, 3, 2, 2, 2, 12, 13, 1, 1, 1, 1, 1, 1, 3, 1, 2, 15, 2, 3, 1, 1, 1, 2, 4, 1, 18, 3, 5, 2, 4, 1, 1, 8, 3, 7, 2, 3, 4, 1, 2, 1, 2, 5, 6, 1, 6, 1, 1, 1, 1, 2, 1, 3, 3, 6, 7, 3, 3, 5, 2, 1, 8, 2, 4, 1, 2, 4, 4, 1, 3, 0, 9, 2, 2, 3, 4, 5, 1, 2, 1, 1, 1, 1, 2, 2, 1, 4, 4, 1, 1, 2, 4, 1, 1, 1, 2, 3, 1, 2, 1, 3, 2, 3, 1, 1, 4, 8, 3, 2, 5, 4, 1, 1, 4, 3, 1, 2, 1, 1, 5, 1, 1, 1, 4, 2, 7, 1, 4, 3, 2, 3, 1, 2, 6, 0, 1, 1, 6, 1, 1, 2, 1, 4, 1, 1, 6, 2, 1, 3, 1, 6, 3, 7, 1, 1, 2, 2, 1, 1, 2, 3, 1, 4, 3, 5, 2, 2, 1, 2, 1, 1, 1, 1, 2, 3, 3, 5, 1, 1, 3, 2, 3, 2, 1, 2, 1, 1, 2, 2, 3, 1, 1, 4, 1, 1, 1, 1, 2, 1, 2, 2, 2, 8, 1, 2, 2, 2, 4, 2, 1, 2, 1, 1, 1, 1, 1, 3, 4, 4, 1, 2, 1, 1, 1, 1, 1, 6, 6, 2, 1, 2, 1, 3, 1, 5, 3, 1, 9, 1, 2, 2, 3, 1, 5, 6, 2, 4, 1, 1, 5, 5, 3, 3, 1, 10, 1, 1, 2, 2, 3, 1, 2, 2, 1, 2, 2, 1, 7, 1, 1, 1, 5, 1, 2, 7, 3, 13, 4, 2, 2, 1, 5, 1, 2, 4, 1, 2, 3, 1, 1, 4, 4, 5, 2, 5, 3, 2, 2, 7, 2, 1, 2, 3, 1, 3, 2, 3, 1, 1, 1, 3, 1, 2, 3, 1, 1, 6, 2, 2, 3, 0, 2, 1, 4, 4, 2, 8, 2, 1, 1, 2, 1, 1, 5, 3, 1, 1, 5, 2, 3, 2, 2, 1, 1, 2, 7, 1, 2, 7, 15, 1, 3, 1, 2, 2, 5, 7, 1, 5, 1, 5, 5, 1, 4, 5, 3, 1, 2, 3, 2, 7, 9, 2, 1, 2, 2, 3, 2, 2, 1, 3, 1, 19, 4, 2, 7, 2, 1, 3, 4, 1, 1, 6, 2, 1, 2, 1, 1, 2, 1, 2, 3, 2, 2, 2, 0, 1, 2, 1, 4, 2, 4, 1, 1, 1, 1, 1, 1, 1, 1, 3, 2, 1, 2, 1, 1, 6, 4, 9, 2, 4, 2, 2, 1, 1, 1, 2, 5, 8, 1, 6, 2, 6, 5, 1, 1, 1, 2, 1, 3, 3, 4, 2, 1, 1, 4, 5, 6, 1, 4, 1, 1, 1, 1, 2, 1, 1, 3, 2, 1, 1, 3, 1, 1, 5, 1, 1, 1, 5, 1, 2, 1, 2, 2, 1, 1, 1, 1, 2, 4, 1, 3, 1, 1, 3, 2, 2, 2, 4, 5, 1, 1, 1, 1, 4, 2, 1, 1, 7, 1, 12, 1, 1, 1, 1, 3, 9, 1, 10, 9, 1, 5, 2, 8, 3, 2, 2, 1, 1, 4, 2, 3, 1, 2, 1, 1, 1, 1, 4, 2, 3, 3, 1, 1, 3, 4, 1, 3, 1, 11, 1, 1, 2, 3, 1, 1, 3, 2, 11, 7, 9, 6, 7, 1, 2, 1, 4, 1, 2, 1, 1, 2, 1, 1, 1, 3, 1, 6, 1, 1, 8, 2, 1, 6, 0, 6, 1, 2, 1, 2, 1, 1, 2, 1, 2, 5, 3, 3, 2, 3, 3, 1, 1, 3, 2, 1, 1, 4, 1, 6, 2, 2, 2, 5, 3, 1, 3, 2, 2, 1, 2, 1, 12, 0, 2, 4, 0, 1, 2, 3, 2, 4, 1, 2, 2, 1, 2, 10, 1, 6, 3, 3, 2, 1, 1, 1, 1, 1, 1, 1, 1, 1, 2, 1, 1, 4, 1, 1, 4, 1, 3, 2, 2, 1, 1, 2, 1, 1, 2, 7, 4, 2, 9, 1, 1, 4, 1, 1, 1, 4, 1, 3, 1, 1, 1, 3, 1, 3, 1, 2, 1, 7, 1, 9, 1, 1, 2, 2, 1, 1, 4, 6, 1, 2, 2, 1, 1, 2, 4, 0, 1, 1, 5, 1, 1, 1, 1, 3, 1, 2, 1, 1, 1, 1, 2, 1, 1, 3, 2, 1, 3, 1, 1, 5, 1, 1, 5, 6, 1, 1, 4, 1, 5, 6, 4, 3, 2, 2, 2, 1, 1, 4, 3, 1, 1, 2, 5, 1, 3, 8, 3, 4, 3, 1, 2, 1, 3, 1, 2, 1, 1, 1, 1, 2, 1, 1, 1, 2, 1, 1, 4, 1, 0, 1, 1, 2, 1, 2, 2, 1, 1, 3, 3, 4, 2, 1, 1, 1, 1, 2, 3, 6, 3, 2, 1, 1, 1, 3, 2, 1, 1, 1, 1, 2, 1, 2, 6, 4, 5, 3, 1, 1, 7, 2, 2, 1, 1, 12, 2, 6, 3, 1, 1, 1, 1, 1, 1, 1, 1, 1, 1, 2, 2, 1, 1, 1, 3, 3, 1, 2, 2, 3, 1, 1, 10, 2, 1, 2, 6, 2, 1, 1, 2, 1, 2, 1, 2, 2, 1, 1, 2, 2, 0, 1, 5, 2, 3, 1, 2, 4, 11, 1, 7, 3, 1, 1, 1, 1, 3, 2, 1, 4, 2, 1, 1, 1, 2, 2, 1, 1, 2, 4, 2, 1, 1, 1, 1, 1, 5, 1, 6, 5, 4, 4, 1, 1, 2, 3, 1, 2, 4, 1, 1, 1, 1, 1, 1, 1, 1, 1, 7, 3, 12, 2, 0, 1, 1, 3, 16, 1, 4, 1, 2, 2, 1, 2, 3, 5, 1, 1, 5, 1, 1, 2, 2, 3, 1, 1, 2, 1, 1, 1, 1, 2, 1, 1, 1, 1, 1, 1, 2, 2, 2, 1, 2, 1, 5, 5, 1, 1, 6, 2, 1, 10, 2, 3, 12, 3, 3, 3, 2, 2, 6, 0, 1, 1, 2, 3, 1, 1, 2, 1, 2, 10, 2, 1, 1, 3, 4, 1, 2, 4, 10, 2, 1, 4, 2, 3, 1, 1, 1, 4, 3, 1, 1, 1, 2, 8, 6, 3, 1, 2, 1, 1, 1, 1, 1, 1, 2, 2, 0, 1, 1, 1, 3, 2, 1, 3, 1, 1, 1, 11, 1, 2, 3, 1, 2, 2, 2, 3, 2, 2, 2, 2, 2, 4, 3, 4, 1, 2, 2, 1, 1, 4, 3, 1, 1, 1, 1, 1, 3, 6, 2, 3, 2, 2, 2, 1, 2, 2, 1, 1, 1, 1, 1, 4, 1, 2, 1, 1, 3, 1, 2, 2, 1, 2, 1, 5, 1, 1, 1, 1, 2, 1, 4, 2, 3, 1, 2, 1, 2, 1, 1, 1, 1, 1, 9, 1, 2, 6, 2, 8, 5, 1, 2, 1, 2, 1, 2, 1, 4, 1, 1, 1, 3, 3, 1, 1, 1, 1, 1, 1, 2, 2, 1, 1, 1, 4, 2, 1, 1, 1, 2, 1, 2, 0, 2, 4, 3, 2, 1, 3, 1, 1, 3, 1, 1, 1, 1, 2, 2, 1, 0, 1, 1, 1, 1, 2, 3, 2, 1, 1, 3, 1, 1, 4, 4, 1, 1, 12, 1, 0, 1, 4, 1, 2, 1, 4, 4, 1, 1, 1, 2, 10, 3, 1, 1, 3, 2, 3, 2, 2, 3, 2, 6, 2, 1, 2, 5, 1, 5, 5, 1, 5, 1, 2, 1, 3, 1, 1, 1, 1, 3, 2, 5, 8, 3, 4, 1, 1, 2, 4, 2, 0, 1, 3, 1, 3, 2, 1, 3, 3, 7, 2, 3, 1, 1, 5, 2, 1, 1, 1, 1, 1, 1, 3, 1, 1, 1, 2, 1, 2, 5, 2, 1, 1, 2, 1, 2, 3, 5, 1, 2, 1, 3, 5, 1, 1, 2, 2, 6, 5, 4, 1, 1, 1, 2, 2, 2, 1, 0, 2, 1, 1, 1, 2, 1, 1, 2, 3, 3, 1, 5, 6, 1, 3, 4, 1, 12, 2, 1, 1, 1, 1, 2, 1, 1, 1, 3, 3, 1, 1, 1, 3, 1, 4, 5, 0, 1, 2, 3, 1, 2, 1, 1, 3, 1, 2, 1, 1, 2, 5, 1, 1, 1, 9, 1, 2, 2, 3, 1, 2, 2, 3, 1, 4, 4, 2, 3, 1, 1, 1, 1, 1, 1, 1, 1, 1, 1, 1, 2, 1, 5, 2, 1, 3, 1, 1, 1, 1, 1, 1, 2, 1, 1, 1, 0, 1, 1, 1, 1, 1, 1, 1, 1, 1, 2, 1, 11, 1, 2, 1, 1, 1, 1, 1, 7, 1, 2, 3, 1, 2, 2, 1, 1, 6, 2, 1, 2, 3, 2, 4, 1, 1, 1, 4, 4, 1, 1, 1, 1, 1, 1, 1, 1, 1, 1, 1, 1, 3, 4, 1, 2, 1, 2, 1, 1, 2, 3, 1, 1, 1, 7, 3, 1, 1, 2, 1, 1, 1, 2, 1, 5, 1, 1, 1, 2, 1, 2, 4, 3, 1, 1, 3, 1, 1, 1, 1, 1, 1, 1, 3, 2, 6, 4, 2, 1, 1, 2, 1, 1, 1, 1, 1, 3, 1, 1, 1, 4, 1, 2, 3, 6, 3, 2, 1, 1, 1, 1, 1, 1, 2, 1, 1, 3, 2, 2, 2, 2, 2, 2, 1, 1, 1, 3, 3, 2, 1, 1, 2, 1, 1, 3, 1, 3, 1, 0, 1, 1, 3, 6, 1, 2, 1, 1, 1, 1, 7, 2, 3, 1, 14, 1, 0, 1, 2, 4, 3, 3, 4, 2, 1, 2, 1, 0, 1, 2, 0, 1, 4, 3, 2, 3, 1, 1, 1, 2, 1, 1, 1, 6, 2, 1, 1, 1, 2, 4, 4, 1, 3, 1, 1, 1, 2, 1, 3, 1, 3, 2, 2, 1, 2, 1, 1, 1, 2, 1, 2, 1, 1, 1, 1, 2, 1, 1, 1, 2, 2, 1, 13, 1, 2, 2, 3, 1, 1, 2, 2, 3, 2, 3, 1, 1, 2, 2, 1, 1, 1, 5, 1, 1, 1, 1, 2, 1, 1, 2, 1, 1, 1, 7, 1, 1, 1, 3, 7, 1, 1, 1, 2, 1, 1, 1, 4, 1, 1, 2, 1, 1, 2, 1, 4, 3, 1, 1, 2, 1, 1, 1, 4, 1, 3, 1, 2, 1, 1, 1, 1, 1, 2, 1, 2, 1, 3, 2, 2, 1, 2, 2, 1, 1, 1, 1, 2, 2, 1, 1, 1, 2, 1, 1, 2, 1, 1, 5, 1, 1, 2, 1, 1, 1, 3, 1, 1, 2, 1, 1, 3, 2, 1, 1, 2, 3, 2, 1, 1, 2, 1, 1, 1, 4, 2, 1, 1, 1, 1, 1, 1, 1, 1, 1, 1, 1, 1, 2, 3, 1, 3, 3, 1, 5, 1, 1, 1, 1, 1, 1, 1, 4, 1, 1, 1, 1, 1, 0, 2, 3, 3, 1, 1, 2, 0, 1, 1, 2, 3, 1, 1, 1, 1, 2, 1, 1, 1, 1, 4, 3, 1, 1, 2, 3, 1, 1, 2, 4, 1, 3, 1, 1, 1, 1, 1, 1, 1, 2, 1, 1, 0, 2, 1, 2, 2, 1, 1, 2, 1, 1, 1, 2, 1, 1, 1, 1, 2, 1, 0, 2, 3, 1, 1, 2, 1, 2, 4, 3, 3, 4, 1, 1, 1, 2, 1, 1, 2, 2, 2, 1, 2, 3, 1, 1, 1, 1, 2, 3, 2, 0, 2, 3, 1, 1, 2, 3, 1, 3, 6, 7, 5, 1, 1, 1, 4, 1, 2, 1, 2, 1, 3, 1, 1, 3, 2, 2, 1, 1, 1, 10, 1, 3, 2, 1, 1, 3, 1, 3, 1, 1, 4, 3, 2, 3, 3, 1, 1, 6, 1, 5, 2, 1, 1, 1, 2, 1, 1, 1, 1, 2, 1, 1, 1, 1, 1, 1, 1, 1, 1, 1, 1, 6, 2, 1, 1, 0, 1, 1, 2, 3, 2, 1, 1, 2, 1, 1, 1, 1, 2, 1, 1, 1, 0, 1, 3, 1, 1, 1, 4, 3, 2, 2, 4, 3, 1, 5, 2, 1, 1, 5, 1, 1, 1, 2, 1, 1, 1, 2, 1, 1, 4, 2, 2, 2, 1, 1, 2, 0, 1, 1, 1, 2, 2, 3, 2, 2, 1, 1, 2, 1, 1, 2, 2, 1, 3, 1, 3, 1, 0, 4, 4, 1, 2, 2, 3, 3, 2, 4, 1, 1, 2, 1, 1, 2, 1, 1, 1, 2, 2, 0, 1, 1, 0, 1, 3, 4, 4, 1, 3, 1, 1, 1, 2, 1, 3, 1, 1, 3, 1, 1, 1, 1, 1, 2, 1, 1, 5, 1, 1, 1, 2, 2, 1, 1, 1, 3, 1, 1, 1, 1, 1, 1, 0, 1, 3, 1, 1, 1, 3, 2, 2, 3, 1, 1, 1, 1, 2, 3, 1, 1, 1, 1, 2, 2, 1, 2, 2, 1, 1, 1, 6, 4, 1, 1, 1, 1, 1, 1, 1, 1, 1, 1, 1, 4, 1, 2, 1, 1, 1, 1, 1, 2, 3, 1, 1, 1, 1, 1, 1, 1, 2, 2, 1, 1, 1, 1, 1, 2, 1, 1, 1, 2, 1, 2, 1, 1, 1, 1, 1, 1, 1, 2, 6, 1, 4, 1, 2, 2, 2, 1, 2, 1, 2, 4, 2, 1, 1, 1, 1, 2, 1, 1, 1, 1, 2, 1, 1, 1, 1, 1, 1, 1, 2, 1, 1, 1, 1, 1, 0, 1, 1, 1, 1, 1, 2, 1, 0, 1, 1, 0, 1, 1, 3, 5, 4, 1, 1, 1, 1, 4, 1, 1, 2, 1, 0, 3, 2, 1, 1, 1, 2, 2, 1, 1, 2, 1, 1, 1, 1, 1, 1, 7, 1, 1, 2, 2, 1, 1, 1, 1, 1, 1, 1, 2, 0, 1, 2, 1, 1, 1, 1, 5, 3, 2, 1, 1, 2, 1, 1, 2, 4, 1, 1, 1, 1, 2, 1, 4, 1, 2, 0, 1, 1, 2, 3, 1, 1, 1, 2, 1, 3, 1, 2, 1, 1, 3, 2, 2, 1, 3, 1, 1, 2, 3, 2, 1, 2, 1, 3, 3, 1, 1, 1, 2, 2, 1, 1, 2, 1, 1, 3, 1, 1, 3, 4, 3, 1, 2, 1, 1, 1, 1, 1, 2, 1, 1, 1, 0, 1, 1, 1, 1, 1, 1, 1, 1, 1, 2, 4, 1, 1, 2, 1, 1, 3, 1, 1, 1, 1, 2, 8, 2, 3, 1, 1, 1, 1, 3, 1, 2, 1, 1, 1, 1, 1, 1, 1, 1, 1, 1, 2, 1, 2, 1, 2, 1, 2, 1, 2, 2, 1, 2, 2, 1, 1, 3, 1, 1, 2, 2, 1, 4, 1, 1, 1, 1, 1, 1, 1, 2, 1, 1, 1, 2, 2, 2, 1, 1, 1, 1, 1, 1, 1, 2, 1, 1, 1, 1, 1, 1, 1, 1, 1, 1, 1, 1, 1, 1, 1, 2, 1, 2, 1, 1, 1, 1, 2, 1, 1, 3, 0, 1, 2, 2, 1, 1, 2, 1, 1, 2, 2, 1, 1, 1, 3, 3, 1, 2, 1, 1, 3, 1, 1, 2, 1, 1, 1, 1, 1, 1, 1, 1, 2, 1, 1, 1, 1, 1, 1, 1, 2, 1, 1, 2, 1, 1, 1, 1, 1, 1, 1, 3, 1, 1, 1, 2, 1, 1, 2, 2, 2, 1, 1, 1, 1, 1, 1, 1, 3, 2, 1, 1, 1, 1, 2, 1, 1, 1, 1, 1, 1, 1, 2, 3, 2, 1, 3, 1, 2, 4, 1, 1, 1, 1, 2, 2, 1, 1, 3, 1, 1, 1, 3, 1, 1, 1, 1, 1, 1, 0, 1, 1, 1, 1, 1, 3, 2, 1, 1, 1, 1, 1, 2, 1, 1, 1, 1, 1, 1, 1, 1, 2, 1, 1, 1, 1, 1, 1, 1, 4, 3, 1, 2, 1, 1, 1, 1, 1, 1, 1, 1, 3, 2, 1, 1, 1, 1, 1, 2, 1, 1, 1, 1, 2, 3, 1, 1, 1, 4, 1, 1, 4, 1, 1, 1, 1, 10, 1, 3, 1, 1, 1, 5, 4, 1, 4, 1, 1, 3, 2, 2, 1, 2, 1, 3, 1, 1, 1, 2, 1, 2, 2, 1, 1, 1, 1, 2, 1, 1, 1, 2, 1, 1, 4, 1, 1, 2, 1, 2, 1, 1, 0, 1, 2, 1, 1, 1, 1, 1, 2, 1, 1, 1, 1, 1, 1, 1, 1, 1, 1, 1, 1, 1, 2, 2, 1, 1, 1, 1, 2, 2, 1, 1, 2, 1, 3, 1, 4, 1, 1, 1, 0, 1, 1, 0, 1, 1, 3, 3, 1, 1, 1, 1, 1, 1, 3, 1, 1, 1, 1, 1, 1, 4, 1, 3, 2, 1, 0, 1, 1, 1, 2, 1, 1, 3, 1, 1, 1, 1, 1, 1, 1, 3, 2, 1, 1, 1, 1, 1, 1, 2, 1, 1, 1, 1, 1, 1, 2, 1, 0, 2, 2, 1, 1, 2, 1, 1, 1, 1, 3, 2, 1, 2, 1, 1, 1, 2, 1, 2, 1, 2, 2, 1, 1, 1, 1, 1, 1, 3, 2, 1, 1, 2, 1, 1, 7, 1, 1, 1, 1, 1, 1, 3, 2, 1, 1, 1, 1, 2, 7, 1, 1, 1, 1, 1, 1, 1, 1, 1, 1, 1, 1, 1, 1, 1, 1, 1, 3, 1, 1, 2, 1, 1, 2, 2, 1, 1, 1, 1, 1, 4, 1, 2, 1, 1, 1, 4, 1, 2, 2, 1, 1, 1, 2, 1, 1, 0, 0, 1, 1, 1, 1, 1, 1, 2, 2, 1, 2, 2, 0, 1, 1, 1, 1, 1, 1, 1, 1, 1, 1, 1, 1, 1, 0, 1, 2, 1, 0, 3, 2, 1, 2, 2, 1, 1, 2, 2, 1, 1, 0, 2, 1, 2, 2, 1, 2, 1, 1, 1, 2, 2, 2, 2, 1, 1, 1, 1, 1, 1, 2, 1, 1, 1, 1, 1, 1, 1, 1, 1, 0, 1, 5, 1, 1, 2, 1, 1, 1, 2, 1, 1, 2, 1, 1, 1, 2, 1, 1, 2, 1, 1, 1, 1, 4, 1, 1, 1, 1, 1, 1, 2, 4, 1, 1, 0, 1, 1, 1, 2, 1, 1, 1, 1, 1, 1, 1, 1, 1, 1, 1, 1, 1, 1, 1, 1, 2, 1, 1, 1, 1, 1, 1, 2, 4, 1, 4, 1, 3, 1, 1, 1, 1, 2, 0, 1, 1, 10, 1, 1, 3, 1, 2, 1, 1, 1, 2, 1, 1, 1, 3, 1, 1, 1, 1, 1, 1, 1, 2, 1, 2, 1, 2, 1, 2, 1, 2, 2, 1, 1, 1, 1, 1, 1, 1, 1, 1, 1, 1, 1, 1, 1, 1, 1, 1, 1, 1, 1, 2, 1, 1, 1, 1, 1, 1, 1, 3, 1, 2, 1, 4, 1, 3, 1, 1, 1, 2, 1, 1, 4, 0, 1, 1, 1, 2, 1, 1, 2, 1, 1, 2, 2, 1, 2, 1, 1, 1, 1, 1, 1, 2, 1, 2, 1, 1, 1, 1, 1, 1, 1, 1, 1, 1, 1, 1, 2, 1, 3, 1, 2, 1, 0, 1, 1, 4, 1, 1, 2, 1, 2, 1, 1, 1, 3, 1, 0, 1, 1, 1, 1, 1, 1, 1, 1, 2, 2, 1, 2, 1, 1, 1, 1, 1, 1, 0, 1, 1, 1, 0, 1, 1, 2, 2, 2, 1, 2, 1, 1, 0, 1, 1, 1, 1, 1, 1, 1, 1, 1, 2, 1, 1, 1, 1, 5, 3, 0, 1, 1, 2, 1, 1, 1, 3, 1, 1, 1, 1, 1, 1, 1, 1, 1, 0, 1, 1, 2, 2, 1, 1, 2, 1, 2, 1, 1, 2, 2, 2, 1, 2, 1, 1, 1, 1, 1, 1, 1, 1, 1, 1, 2, 1, 1, 1, 1, 1, 1, 1, 1, 1, 1, 2, 2, 1, 1, 1, 2, 2, 1, 2, 1, 1, 1, 1, 1, 1, 1, 2, 1, 2, 2, 1, 1, 1, 1, 1, 2, 1, 1, 1, 1, 1, 1, 1, 1, 1, 1, 1, 3, 1, 1, 1, 1, 2, 1, 2, 1, 1, 1, 1, 1, 1, 1, 1, 1, 0, 2, 1, 1, 2, 0, 1, 1, 1, 1, 1, 1, 1, 1, 1, 1, 1, 1, 1, 2, 2, 1, 1, 1, 2, 1, 1, 4, 1, 1, 2, 1, 1, 1, 1, 1, 1, 2, 1, 1, 5, 1, 1, 1, 3, 1, 1, 1, 1, 1, 2, 1, 1, 1, 1, 1, 1, 4, 2, 2, 0, 1, 2, 1, 0, 1, 1, 1, 1, 4, 1, 3, 1, 1, 1, 1, 2, 1, 1, 2, 1, 0, 2, 1, 1, 1, 2, 2, 0, 2, 0, 2, 1, 1, 1, 1, 1, 2, 1, 1, 0, 2, 1, 1, 1, 1, 1, 1, 1, 1, 1, 1, 1, 0, 1, 1, 1, 1, 1, 1, 1, 0, 1, 1, 1, 0, 1, 1, 2, 1, 1, 1, 1, 1, 2, 1, 1, 1, 1, 1, 1, 1, 1, 2, 1, 1, 1, 1, 1, 1, 1, 2, 1, 1, 1, 2, 1, 2, 1, 1, 1, 1, 1, 1, 1, 2, 1, 1, 1, 1, 2, 1, 1, 1, 1, 1, 1, 2, 1, 1, 1, 1, 2, 2, 1, 1, 2, 2, 1, 1, 2, 1, 1, 1, 2, 1, 1, 3, 1, 2, 1, 1, 1, 1, 1, 1, 1, 1, 1, 1, 1, 1, 1, 1, 1, 1, 1, 1, 1, 1, 1, 1, 1, 1, 1, 2, 1, 1, 1, 1, 1, 1, 1, 1, 2, 1, 1, 1, 1, 1, 1, 0, 1, 0, 1, 1, 1, 2, 1, 2, 1, 1, 1, 1, 1, 1, 2, 2, 1, 1, 1, 1, 1, 1, 1, 1, 1, 2, 1, 1, 1, 1, 1, 1, 1, 1, 1, 1, 1, 1, 3, 0, 2, 2, 1, 1, 1, 1, 1, 1, 1, 1, 1, 2, 1, 1, 1, 2, 2, 1, 2, 1, 1, 2, 3, 0, 1, 1, 1, 1, 1, 1, 1, 1, 1, 1, 1, 1, 1, 1, 1, 1, 1, 1, 1, 3, 1, 1, 0, 1, 1, 1, 1, 1, 1, 1, 1, 1, 1, 1, 1, 3, 1, 1, 1, 1, 1, 1, 1, 1, 1, 1, 1, 1, 1, 1, 1, 1, 1, 3, 6, 1, 1, 1, 1, 1, 1, 1, 2, 1, 1, 1, 1, 1, 1, 2, 1, 0, 2, 1, 0, 1, 1, 1, 1, 1, 1, 1, 1, 1, 1, 1, 1, 1, 1, 1, 1, 1, 1, 1, 2, 1, 1, 1, 1, 2, 1, 1, 1, 1, 1, 1, 1, 1, 1, 1, 1, 1, 1, 1, 3, 1, 1, 1, 1, 1, 1, 1, 1, 1, 1, 1, 1, 1, 1, 1, 0, 4, 1, 1, 1, 1, 1, 1, 1, 1, 1, 0, 2, 1, 3, 1, 1, 1, 1, 1, 1, 1, 1, 1, 1, 0, 1, 1, 1, 1, 1, 1, 1, 1, 0, 1, 1, 1, 1, 1, 2, 1, 1, 1, 1, 1, 1, 1, 1, 1, 1, 1, 1, 1, 1, 1, 1, 1, 1, 1, 1, 1, 1, 1, 1, 1, 1, 1, 1, 1, 1, 1, 1, 1, 1, 1, 1, 1, 2, 1, 1, 1, 1, 1, 1, 1, 1, 1, 1, 1, 1, 1, 1, 1, 1, 1, 1, 1, 1, 1, 1, 2, 1, 3, 1, 1, 1, 1, 1, 1, 1, 1, 1, 1, 1, 1, 1, 1, 1, 1, 1, 1, 1, 1, 1, 1, 1, 2, 1, 1, 1, 1, 1, 1, 1, 1, 3, 1, 1, 1, 1, 1, 1, 1, 1, 2, 1, 1, 2, 1, 2, 1, 2, 1, 1, 1, 1, 1, 1, 1, 1, 1, 1, 1, 1, 2, 1, 1, 1, 2, 1, 3, 2, 1, 1, 1, 1, 0, 1, 1, 1, 1, 1, 1, 1, 2, 1, 1, 1, 1, 1, 1, 1, 1, 1, 2, 1, 1, 1, 1, 4, 2, 1, 1, 1, 1, 1, 1, 1, 1, 1, 1, 1, 1, 1, 1, 1, 1, 1, 1, 0, 1, 1, 4, 1, 1, 1, 1, 1, 1, 1, 1, 1, 1, 1, 1, 1, 1, 1, 1, 2, 2, 1, 1, 1, 1, 1, 0, 1, 1, 1, 1, 1, 1, 2, 1, 1, 1, 1, 1, 2, 1, 1, 1, 2, 1, 1, 1, 2, 1, 1, 1, 1, 1, 1, 1, 4, 1, 3, 1, 1, 1, 0, 1, 2, 1, 1, 1, 1, 1, 1, 1, 0, 1, 1, 1, 1, 1, 1, 1, 1, 1, 1, 1, 1, 1, 1, 1, 1, 1, 1, 1, 1, 1, 2, 1, 1, 1, 1, 1, 2, 1, 1, 3, 1, 1, 1, 1, 1, 1, 1, 1, 1, 1, 2, 1, 1, 1, 1, 1, 1, 1, 1, 1, 1, 1, 1, 1, 1, 1, 1, 1, 1, 1, 2, 2, 1, 1, 1, 1, 1, 1, 0, 1, 1, 1, 1, 1, 1, 1, 1, 1, 1, 1, 0, 1, 1, 1, 1, 1, 1, 1, 1, 1, 1, 1, 1, 1, 1, 1, 1, 1, 1, 0, 1, 1, 1, 1, 1, 1, 1, 1, 1, 1, 1, 1, 1, 1, 1, 1, 1, 1, 2, 1, 1, 1, 1, 1, 1, 1, 1, 1, 1, 1, 1, 1, 1, 1, 1, 1, 1, 2, 1, 1, 1, 1, 1, 1, 1, 1, 1, 0, 1, 1, 1, 1, 1, 1, 1, 1, 1, 1, 1, 1, 1, 1, 1, 1, 1, 1, 2, 1, 1, 1, 1, 1, 1, 1, 1, 1, 0, 1, 1, 1, 1, 1, 2, 1, 1, 1, 1, 1, 1, 1, 1, 2, 1, 1, 1, 1, 1, 1, 1, 1, 1, 1, 1, 1, 0, 1, 1, 1, 1, 0, 1, 1, 1, 1, 1, 0, 1, 1, 1, 1, 1, 1, 1, 1, 1, 2, 1, 1, 1, 1, 1, 1, 0, 1, 1, 1, 1, 1, 1, 1, 1, 1, 1, 1, 1, 1, 1, 1, 1, 1, 1, 1, 1, 1, 1, 1, 1, 1, 1, 1, 1, 1, 1, 1, 1, 1, 1, 1, 1, 1, 2, 1, 1, 1, 2, 1, 1, 1, 1, 1, 1, 1, 1, 1, 1, 1, 1, 1, 1, 1, 1, 1, 1, 1, 0, 1, 1, 1, 1, 0, 1, 1, 1, 0, 1, 1, 1, 1, 1, 1, 1, 1, 1, 1, 1, 1, 1, 1, 1, 1, 1, 1, 1, 1, 1, 2, 1, 1, 1, 1, 2, 1, 1, 1, 1, 1, 1, 1, 1, 1, 1, 1, 1, 2, 1, 1, 1, 1, 1, 1, 1, 1, 1, 1, 1, 1, 1, 1, 1, 2, 2, 1, 1, 1, 1, 1, 1, 1, 1, 1, 1, 1, 1, 1, 1, 1, 1, 1, 1, 1, 1, 1, 1, 1, 2, 1, 1, 1, 1, 1, 1, 1, 2, 1, 1, 1, 1, 1, 1, 1, 1, 1, 0, 1, 1, 1, 1, 1, 1, 1, 1, 1, 1, 1, 1, 1, 2, 1, 1, 1, 2, 1, 1, 1, 0, 1, 1, 1, 1, 1, 1, 1, 0, 1, 1, 1, 1, 1, 1, 1, 1, 1, 1, 1, 1, 1, 1, 1, 1, 1, 1, 1, 1, 1, 1, 1, 1, 1, 1, 1, 1, 1, 1, 1, 1, 1, 2, 1, 1, 1, 1, 1, 1, 1, 1, 1, 1, 3, 1, 1, 1, 1, 1, 1, 1, 1, 1, 1, 1, 1, 1, 1, 1, 1, 1, 1, 1, 1, 1, 1, 2, 1, 1, 1, 1, 1, 1, 1, 1, 1, 0, 1, 1, 1, 1, 1, 1, 1, 1, 1, 2, 1, 1, 1, 1, 1, 1, 1, 1, 1, 1, 1, 1, 1, 1, 1, 1, 1, 1, 1, 1, 1, 1, 1, 1, 1, 1, 1, 1, 1, 1, 1, 1, 0, 1, 1, 1, 1, 1, 1, 1, 1, 1, 1, 1, 1, 1, 1, 1, 1, 1, 1, 1, 1, 1, 1, 1, 1, 1, 1, 1, 1, 1, 1, 1, 1, 1, 0, 1, 1, 1, 1, 1, 1, 1, 1, 1, 1, 1, 1, 1, 1, 1, 1, 1, 1, 1, 1, 1, 1, 1, 1, 1, 1, 1, 1, 1, 1, 1, 1, 1, 1, 1, 1, 1, 1, 1, 1, 1, 1, 0, 1, 1, 1, 0, 1, 0, 1, 1, 1, 1, 1])"
      ]
     },
     "execution_count": 60,
     "metadata": {},
     "output_type": "execute_result"
    }
   ],
   "source": [
    "in_degrees.values()"
   ]
  },
  {
   "cell_type": "code",
   "execution_count": 61,
   "metadata": {},
   "outputs": [],
   "source": [
    "import matplotlib.pyplot as plt"
   ]
  },
  {
   "cell_type": "code",
   "execution_count": 63,
   "metadata": {},
   "outputs": [
    {
     "data": {
      "text/plain": [
       "(array([5633.,  256.,  882., 1090., 1049., 1086.,  404.,  182.,   27.,\n",
       "           7.]),\n",
       " array([ 0. ,  3.4,  6.8, 10.2, 13.6, 17. , 20.4, 23.8, 27.2, 30.6, 34. ]),\n",
       " <a list of 10 Patch objects>)"
      ]
     },
     "execution_count": 63,
     "metadata": {},
     "output_type": "execute_result"
    },
    {
     "data": {
      "image/png": "[encoded data removed]",
      "text/plain": [
       "<Figure size 432x288 with 1 Axes>"
      ]
     },
     "metadata": {
      "needs_background": "light"
     },
     "output_type": "display_data"
    }
   ],
   "source": [
    "plt.hist(out_degrees.values())"
   ]
  },
  {
   "cell_type": "code",
   "execution_count": 65,
   "metadata": {},
   "outputs": [
    {
     "data": {
      "image/png": "[encoded data removed]",
      "text/plain": [
       "<Figure size 432x288 with 1 Axes>"
      ]
     },
     "metadata": {
      "needs_background": "light"
     },
     "output_type": "display_data"
    }
   ],
   "source": [
    "_ = plt.hist(out_degrees.values(), bins=20)"
   ]
  },
  {
   "cell_type": "code",
   "execution_count": 66,
   "metadata": {},
   "outputs": [
    {
     "data": {
      "image/png": "[encoded data removed]",
      "text/plain": [
       "<Figure size 432x288 with 1 Axes>"
      ]
     },
     "metadata": {
      "needs_background": "light"
     },
     "output_type": "display_data"
    }
   ],
   "source": [
    "_ = plt.hist(out_degrees.values(), bins=40)"
   ]
  },
  {
   "cell_type": "code",
   "execution_count": 67,
   "metadata": {},
   "outputs": [
    {
     "data": {
      "image/png": "[encoded data removed]",
      "text/plain": [
       "<Figure size 432x288 with 1 Axes>"
      ]
     },
     "metadata": {
      "needs_background": "light"
     },
     "output_type": "display_data"
    }
   ],
   "source": [
    "_ = plt.hist(out_degrees.values(), bins=38)"
   ]
  },
  {
   "cell_type": "code",
   "execution_count": 68,
   "metadata": {},
   "outputs": [
    {
     "data": {
      "text/plain": [
       "34"
      ]
     },
     "execution_count": 68,
     "metadata": {},
     "output_type": "execute_result"
    }
   ],
   "source": [
    "max(out_degrees.values())"
   ]
  },
  {
   "cell_type": "code",
   "execution_count": 69,
   "metadata": {},
   "outputs": [
    {
     "data": {
      "image/png": "[encoded data removed]",
      "text/plain": [
       "<Figure size 432x288 with 1 Axes>"
      ]
     },
     "metadata": {
      "needs_background": "light"
     },
     "output_type": "display_data"
    }
   ],
   "source": [
    "_ = plt.hist(out_degrees.values(), bins=35)"
   ]
  },
  {
   "cell_type": "code",
   "execution_count": 70,
   "metadata": {},
   "outputs": [
    {
     "data": {
      "text/plain": [
       "1"
      ]
     },
     "execution_count": 70,
     "metadata": {},
     "output_type": "execute_result"
    }
   ],
   "source": [
    "len([v for v in out_degrees.values() if v == 1])"
   ]
  },
  {
   "cell_type": "code",
   "execution_count": 71,
   "metadata": {},
   "outputs": [
    {
     "data": {
      "text/plain": [
       "13"
      ]
     },
     "execution_count": 71,
     "metadata": {},
     "output_type": "execute_result"
    }
   ],
   "source": [
    "len([v for v in out_degrees.values() if v == 2])"
   ]
  },
  {
   "cell_type": "code",
   "execution_count": 72,
   "metadata": {},
   "outputs": [
    {
     "data": {
      "text/plain": [
       "5598"
      ]
     },
     "execution_count": 72,
     "metadata": {},
     "output_type": "execute_result"
    }
   ],
   "source": [
    "len([v for v in out_degrees.values() if v == 0])"
   ]
  },
  {
   "cell_type": "code",
   "execution_count": 73,
   "metadata": {},
   "outputs": [
    {
     "data": {
      "image/png": "[encoded data removed]",
      "text/plain": [
       "<Figure size 432x288 with 1 Axes>"
      ]
     },
     "metadata": {
      "needs_background": "light"
     },
     "output_type": "display_data"
    }
   ],
   "source": [
    "_ = plt.hist(in_degrees.values())"
   ]
  },
  {
   "cell_type": "code",
   "execution_count": 74,
   "metadata": {},
   "outputs": [
    {
     "data": {
      "text/plain": [
       "324"
      ]
     },
     "execution_count": 74,
     "metadata": {},
     "output_type": "execute_result"
    }
   ],
   "source": [
    "max(in_degrees.values())"
   ]
  },
  {
   "cell_type": "code",
   "execution_count": 75,
   "metadata": {},
   "outputs": [
    {
     "data": {
      "image/png": "[encoded data removed]",
      "text/plain": [
       "<Figure size 432x288 with 1 Axes>"
      ]
     },
     "metadata": {
      "needs_background": "light"
     },
     "output_type": "display_data"
    }
   ],
   "source": [
    "_ = plt.hist(in_degrees.values(), bins=325)"
   ]
  },
  {
   "cell_type": "code",
   "execution_count": 76,
   "metadata": {},
   "outputs": [
    {
     "name": "stdout",
     "output_type": "stream",
     "text": [
      "Using matplotlib backend: Qt5Agg\n"
     ]
    }
   ],
   "source": [
    "%matplotlib"
   ]
  },
  {
   "cell_type": "code",
   "execution_count": 79,
   "metadata": {},
   "outputs": [],
   "source": [
    "_ = plt.hist(in_degrees.values(), bins=325)"
   ]
  },
  {
   "cell_type": "code",
   "execution_count": 80,
   "metadata": {},
   "outputs": [],
   "source": [
    "_ = plt.hist(in_degrees.values(), bins=325, log=True)"
   ]
  },
  {
   "cell_type": "code",
   "execution_count": 81,
   "metadata": {},
   "outputs": [
    {
     "data": {
      "image/png": "[encoded data removed]",
      "text/plain": [
       "<Figure size 432x288 with 1 Axes>"
      ]
     },
     "metadata": {
      "needs_background": "light"
     },
     "output_type": "display_data"
    }
   ],
   "source": [
    "%matplotlib inline\n",
    "_ = plt.hist(out_degrees.values(), bins=35, log=True)"
   ]
  },
  {
   "cell_type": "code",
   "execution_count": 82,
   "metadata": {},
   "outputs": [
    {
     "data": {
      "image/png": "[encoded data removed]",
      "text/plain": [
       "<Figure size 432x288 with 1 Axes>"
      ]
     },
     "metadata": {
      "needs_background": "light"
     },
     "output_type": "display_data"
    }
   ],
   "source": [
    "_ = plt.hist(in_degrees.values(), bins=325, log=True)"
   ]
  },
  {
   "cell_type": "markdown",
   "metadata": {
    "slideshow": {
     "slide_type": "slide"
    }
   },
   "source": [
    "# Homework assignment"
   ]
  },
  {
   "cell_type": "markdown",
   "metadata": {
    "slideshow": {
     "slide_type": "fragment"
    }
   },
   "source": [
    "Calculate, plot and describe the in- and out-strength (weighted degree) distribution of the word association dataset"
   ]
  },
  {
   "cell_type": "markdown",
   "metadata": {
    "slideshow": {
     "slide_type": "fragment"
    }
   },
   "source": [
    "Write a script to create a network of a ring of $N$ nodes, with first and second neighbors connected. An example:\n",
    "<center><img src='ring_network_example.png' style=\"width:25%;\"></center>"
   ]
  }
 ],
 "metadata": {
  "celltoolbar": "Slideshow",
  "kernelspec": {
   "display_name": "Python 3",
   "language": "python",
   "name": "python3"
  },
  "language_info": {
   "codemirror_mode": {
    "name": "ipython",
    "version": 3
   },
   "file_extension": ".py",
   "mimetype": "text/x-python",
   "name": "python",
   "nbconvert_exporter": "python",
   "pygments_lexer": "ipython3",
   "version": "3.7.1"
  },
  "rise": {
   "auto_select": "code",
   "auto_select_fragment": true,
   "autolaunch": true,
   "enable_chalkboard": true,
   "scroll": true,
   "theme": "moon",
   "transition": "none"
  }
 },
 "nbformat": 4,
 "nbformat_minor": 2
}
