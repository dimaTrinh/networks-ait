{
 "cells": [
  {
   "cell_type": "code",
   "execution_count": 1,
   "metadata": {},
   "outputs": [],
   "source": [
    "import networkx as nx;\n",
    "import numpy as np;\n",
    "import matplotlib.pyplot as plt;\n",
    "import math;"
   ]
  },
  {
   "cell_type": "markdown",
   "metadata": {},
   "source": [
    "# Giant components, percolation and robustness"
   ]
  },
  {
   "cell_type": "markdown",
   "metadata": {},
   "source": [
    "## Giant component in the Erdős - Rényi model\n",
    "\n",
    "### Simulations\n",
    "\n",
    "First we are going to examine the emergence of the giant component in the Erdős-Rényi model as a function of the average degree $\\left< k\\right>$ simply by generating samples, and measuring the size of the largest connected component."
   ]
  },
  {
   "cell_type": "code",
   "execution_count": 2,
   "metadata": {},
   "outputs": [
    {
     "name": "stdout",
     "output_type": "stream",
     "text": [
      "k=  0.05\n",
      "k=  0.1\n",
      "k=  0.15000000000000002\n",
      "k=  0.2\n",
      "k=  0.25\n",
      "k=  0.3\n",
      "k=  0.35000000000000003\n",
      "k=  0.4\n",
      "k=  0.45\n",
      "k=  0.5\n",
      "k=  0.55\n",
      "k=  0.6000000000000001\n",
      "k=  0.6500000000000001\n",
      "k=  0.7000000000000001\n",
      "k=  0.7500000000000001\n",
      "k=  0.8\n",
      "k=  0.8500000000000001\n",
      "k=  0.9000000000000001\n",
      "k=  0.9500000000000001\n",
      "k=  1.0\n",
      "k=  1.05\n",
      "k=  1.1\n",
      "k=  1.1500000000000001\n",
      "k=  1.2000000000000002\n",
      "k=  1.2500000000000002\n",
      "k=  1.3\n",
      "k=  1.35\n",
      "k=  1.4000000000000001\n",
      "k=  1.4500000000000002\n",
      "k=  1.5000000000000002\n",
      "k=  1.55\n",
      "k=  1.6\n",
      "k=  1.6500000000000001\n",
      "k=  1.7000000000000002\n",
      "k=  1.7500000000000002\n",
      "k=  1.8\n",
      "k=  1.85\n",
      "k=  1.9000000000000001\n",
      "k=  1.9500000000000002\n",
      "k=  2.0\n",
      "k=  2.05\n",
      "k=  2.1\n",
      "k=  2.15\n",
      "k=  2.1999999999999997\n",
      "k=  2.25\n",
      "k=  2.3\n",
      "k=  2.35\n",
      "k=  2.4\n",
      "k=  2.45\n",
      "k=  2.5\n",
      "k=  2.55\n",
      "k=  2.6\n",
      "k=  2.65\n",
      "k=  2.7\n",
      "k=  2.75\n",
      "k=  2.8\n",
      "k=  2.85\n",
      "k=  2.9\n",
      "k=  2.95\n"
     ]
    }
   ],
   "source": [
    "N, num_samp = 1000, 10;\n",
    "k_list = np.arange(0.05,3.0,0.05);\n",
    "av_lcc_size = [];\n",
    "av_lcc_size.clear();\n",
    "for k in k_list:\n",
    "    print('k= ',k);\n",
    "    comp_sizes = [];\n",
    "    comp_sizes.clear();\n",
    "    for i in range(0,num_samp):\n",
    "        ER_graph = nx.generators.erdos_renyi_graph(N,k/(N-1.0));\n",
    "        largest_comp_size = len(max(nx.connected_components(ER_graph), key = len));\n",
    "        comp_sizes.append(largest_comp_size);\n",
    "    av_lcc_size.append(np.mean(comp_sizes));"
   ]
  },
  {
   "cell_type": "markdown",
   "metadata": {},
   "source": [
    "Before plotting the results it is a good idea to divide the recorded (average) component sizes with $N$, yielding the relative size of the largest component denoted by $S$ in the slides. (This is guaranteed to be between 0 and 1)."
   ]
  },
  {
   "cell_type": "code",
   "execution_count": 3,
   "metadata": {},
   "outputs": [
    {
     "data": {
      "image/png": "[encoded data removed]",
      "text/plain": [
       "<Figure size 432x288 with 1 Axes>"
      ]
     },
     "metadata": {},
     "output_type": "display_data"
    }
   ],
   "source": [
    "rel_lcc_size =[comp_size/N for comp_size in av_lcc_size];\n",
    "\n",
    "plt.clf();\n",
    "plt.plot(k_list,rel_lcc_size,'-o');\n",
    "plt.xlabel(r'$\\left< k\\right>$');\n",
    "plt.ylabel(r'$S=\\frac{s_1}{N}$');\n",
    "plt.show();"
   ]
  },
  {
   "cell_type": "markdown",
   "metadata": {},
   "source": [
    "### Analytic curve\n",
    "\n",
    "In the slides we derived an interesting equation for $S$ in the form of\n",
    "$$\n",
    "S=1-e^{-\\left< k\\right>S}.\n",
    "$$\n",
    "Although this cannot be solved in a simple explicit form, for any given value of $\\left< k\\right>$ we can calculate the value of $S$ numerically from this equation to any desired precision. Let's do this, and compare the obtained curve to the previous numerical results.\n",
    "\n",
    "The simple trick is to turn the problem of finding roots of the above equation into the problem of finding zeros of\n",
    "$$\n",
    "g(S)=1-e^{-\\left< k\\right>S}-S.\n",
    "$$\n",
    "We are going to implement Newton's method for the detailes of this method see e.g.\n",
    "https://en.wikipedia.org/wiki/Newtons_method\n",
    "\n",
    "To do that we define the 3 functions:\n",
    "- calculating $g(S)$ for given $\\left< k\\right>$ and $S$,\n",
    "- calculating the derivative of $g(S)$ for given $\\left< k\\right>$ and $S$,\n",
    "- and calculating the zero of the tangent of $g(S)$ for given $\\left< k\\right>$, $S$, and derivative at $S$."
   ]
  },
  {
   "cell_type": "code",
   "execution_count": 4,
   "metadata": {},
   "outputs": [],
   "source": [
    "def Calc_g_S(k,S):\n",
    "    return 1.0-math.exp(-k*S)-S;"
   ]
  },
  {
   "cell_type": "code",
   "execution_count": 5,
   "metadata": {},
   "outputs": [],
   "source": [
    "def Calc_g_deriv(k,S):\n",
    "    return k*math.exp(-k*S)-1.0;"
   ]
  },
  {
   "cell_type": "code",
   "execution_count": 6,
   "metadata": {},
   "outputs": [],
   "source": [
    "def Zero_of_g_tangent(k,S,deriv):\n",
    "    return S-(1.0-math.exp(-k*S)-S)/deriv;"
   ]
  },
  {
   "cell_type": "markdown",
   "metadata": {},
   "source": [
    "Everything is ready for putting together Newton's method:"
   ]
  },
  {
   "cell_type": "code",
   "execution_count": 7,
   "metadata": {},
   "outputs": [],
   "source": [
    "def Anaytic_S_value(k):\n",
    "    if k <= 1.0:\n",
    "        return 0;\n",
    "    else:\n",
    "        S = 0.5;\n",
    "        while (abs(Calc_g_S(k,S)) > 0.0000001):\n",
    "            deriv = Calc_g_deriv(k,S);\n",
    "            S = Zero_of_g_tangent(k,S,deriv);\n",
    "        return S;"
   ]
  },
  {
   "cell_type": "markdown",
   "metadata": {},
   "source": [
    "Now we can calculate the analytic $S$ for all $\\left< k\\right>$ values we used during the numberical simulations:"
   ]
  },
  {
   "cell_type": "code",
   "execution_count": 8,
   "metadata": {},
   "outputs": [],
   "source": [
    "S_analytic = [Anaytic_S_value(k) for k in k_list];"
   ]
  },
  {
   "cell_type": "markdown",
   "metadata": {},
   "source": [
    "And finally, we can replot the simulation results together with the analytic curve:"
   ]
  },
  {
   "cell_type": "code",
   "execution_count": 9,
   "metadata": {},
   "outputs": [
    {
     "data": {
      "image/png": "[encoded data removed]",
      "text/plain": [
       "<Figure size 432x288 with 1 Axes>"
      ]
     },
     "metadata": {},
     "output_type": "display_data"
    }
   ],
   "source": [
    "plt.clf();\n",
    "plt.plot(k_list,rel_lcc_size,'-o',label ='numerical simulations');\n",
    "plt.plot(k_list,S_analytic,'-',label='analytic results');\n",
    "plt.xlabel(r'$\\left< k\\right>$');\n",
    "plt.ylabel(r'$S=\\frac{s_1}{N}$');\n",
    "plt.legend();\n",
    "plt.show();"
   ]
  },
  {
   "cell_type": "markdown",
   "metadata": {},
   "source": [
    "## Percolation transition in the Erdős-Rényi model\n",
    "\n",
    "As discussed on the slides, the above studied emergence of the giant component in the E-R model above the critical $\\left< k\\right>_{\\rm crit}=1$ is like a **phase transition** (to be more specific, like a percolation phase transition), where the control parameter is $\\left< k\\right>$, and the order parameter is $S$. The susceptibility $\\chi$ is a quantity that measurs how sensitive is the system with respect to small perturbations that try to drive the system from one phase to the other, and this quantity has a sharp peak at the transition point (critical point). As discussed in the slides, for the transition we are now interested in, the $\\chi$ can be given as \n",
    "$$\n",
    "\\chi = \\sum_{s_i \\neq s_{\\rm max}} s_i^2 p(s),\n",
    "$$\n",
    "where the summation runs over all the components except the largest one,  $s_i$ denotes the size of component $i$ and $p(s)$ is the component size distribution\n",
    "\n",
    "Let's define a function that can calculate $\\chi$ and $S$:"
   ]
  },
  {
   "cell_type": "code",
   "execution_count": 22,
   "metadata": {},
   "outputs": [],
   "source": [
    "def Calc_chi_and_S(network):\n",
    "    _network_N = network.number_of_nodes();\n",
    "    _comps = nx.connected_components(network);\n",
    "    _comp_sizes = [len(_comp) for _comp in _comps];\n",
    "    _sort_c_sizes = sorted(_comp_sizes,reverse=True);\n",
    "    _lcs = _sort_c_sizes[0]/_network_N;\n",
    "    _chi = 0;\n",
    "    if len(_sort_c_sizes) > 1:\n",
    "        _chi = sum([_sort_c_sizes[i]*_sort_c_sizes[i] for i in range(1,len(_sort_c_sizes))]);\n",
    "        return _chi/(len(_sort_c_sizes)),_lcs;\n",
    "    else:\n",
    "        return _chi,_lcs;"
   ]
  },
  {
   "cell_type": "markdown",
   "metadata": {},
   "source": [
    "Let's re-run the simulations, but now recording the average value of $\\chi$ as well."
   ]
  },
  {
   "cell_type": "code",
   "execution_count": 23,
   "metadata": {},
   "outputs": [
    {
     "name": "stdout",
     "output_type": "stream",
     "text": [
      "k=  0.05\n",
      "k=  0.1\n",
      "k=  0.15000000000000002\n",
      "k=  0.2\n",
      "k=  0.25\n",
      "k=  0.3\n",
      "k=  0.35000000000000003\n",
      "k=  0.4\n",
      "k=  0.45\n",
      "k=  0.5\n",
      "k=  0.55\n",
      "k=  0.6000000000000001\n",
      "k=  0.6500000000000001\n",
      "k=  0.7000000000000001\n",
      "k=  0.7500000000000001\n",
      "k=  0.8\n",
      "k=  0.8500000000000001\n",
      "k=  0.9000000000000001\n",
      "k=  0.9500000000000001\n",
      "k=  1.0\n",
      "k=  1.05\n",
      "k=  1.1\n",
      "k=  1.1500000000000001\n",
      "k=  1.2000000000000002\n",
      "k=  1.2500000000000002\n",
      "k=  1.3\n",
      "k=  1.35\n",
      "k=  1.4000000000000001\n",
      "k=  1.4500000000000002\n",
      "k=  1.5000000000000002\n",
      "k=  1.55\n",
      "k=  1.6\n",
      "k=  1.6500000000000001\n",
      "k=  1.7000000000000002\n",
      "k=  1.7500000000000002\n",
      "k=  1.8\n",
      "k=  1.85\n",
      "k=  1.9000000000000001\n",
      "k=  1.9500000000000002\n",
      "k=  2.0\n",
      "k=  2.05\n",
      "k=  2.1\n",
      "k=  2.15\n",
      "k=  2.1999999999999997\n",
      "k=  2.25\n",
      "k=  2.3\n",
      "k=  2.35\n",
      "k=  2.4\n",
      "k=  2.45\n",
      "k=  2.5\n",
      "k=  2.55\n",
      "k=  2.6\n",
      "k=  2.65\n",
      "k=  2.7\n",
      "k=  2.75\n",
      "k=  2.8\n",
      "k=  2.85\n",
      "k=  2.9\n",
      "k=  2.95\n"
     ]
    }
   ],
   "source": [
    "N, num_samp = 5000, 1;\n",
    "k_list = np.arange(0.05,3.0,0.05);\n",
    "av_S,av_chi = [],[];\n",
    "av_S.clear();\n",
    "av_chi.clear();\n",
    "for k in k_list:\n",
    "    print('k= ',k);\n",
    "    S_values, chi_values = [],[];\n",
    "    S_values.clear();\n",
    "    chi_values.clear();\n",
    "    for i in range(0,num_samp):\n",
    "        ER_graph = nx.generators.erdos_renyi_graph(N,k/(N-1.0));\n",
    "        chi,S = Calc_chi_and_S(ER_graph);\n",
    "        S_values.append(S);\n",
    "        chi_values.append(chi);\n",
    "    av_S.append(np.mean(S_values));\n",
    "    av_chi.append(np.mean(chi_values));"
   ]
  },
  {
   "cell_type": "markdown",
   "metadata": {},
   "source": [
    "We are going to plot $S$ and $\\chi$ together as a function of $\\left< k\\right>$. However, since they are diferent quantities we are going to have 2 y axes on the plot."
   ]
  },
  {
   "cell_type": "code",
   "execution_count": 24,
   "metadata": {},
   "outputs": [
    {
     "data": {
      "text/plain": [
       "<Figure size 432x288 with 0 Axes>"
      ]
     },
     "metadata": {},
     "output_type": "display_data"
    },
    {
     "data": {
      "image/png": "[encoded data removed]",
      "text/plain": [
       "<Figure size 432x288 with 2 Axes>"
      ]
     },
     "metadata": {},
     "output_type": "display_data"
    }
   ],
   "source": [
    "paired_color_map = plt.get_cmap('Paired');\n",
    "paired_colors = [paired_color_map(x) for x in np.arange(0.5/12,1.0,1.0/12)];\n",
    "\n",
    "plt.clf();\n",
    "fig = plt.figure()\n",
    "ax1 = fig.add_subplot(111)\n",
    "ax2 = ax1.twinx()\n",
    "\n",
    "ax1.plot(k_list,av_S,'o-',label = 'numerical S',color = paired_colors[0]);\n",
    "ax1.plot(k_list,S_analytic,'-',label = 'analytic S',color = paired_colors[1]);\n",
    "ax2.plot(k_list,av_chi,'s-',label = r'$\\chi$',color = paired_colors[5]);\n",
    "\n",
    "ax1.set_ylabel(r'$S=\\frac{s_1}{N}$')\n",
    "ax2.set_ylabel(r'$\\chi$')\n",
    "ax1.set_xlabel(r'$\\left< k\\right>$')\n",
    "ax1.legend(loc = 'upper left')\n",
    "ax2.legend(loc = 'lower right')\n",
    "plt.show();"
   ]
  },
  {
   "cell_type": "markdown",
   "metadata": {},
   "source": [
    "## Robustness analysis of netwokrs\n",
    "\n",
    "### Random node removal\n",
    "Probably the simplest definition of network robustness is given by the resilience against random node removal, where the 'magnitude of resilience' can be measured by the fraction of (randomly chosen) nodes $f$ we have to remove in order to destroy the giant component in the network. \n",
    "\n",
    "In order to analyse this, we need to define a function implementing the random removal of nodes. In order to make our analysis faster, instead of removing one by one, we are going to remove larger chunks at once.   "
   ]
  },
  {
   "cell_type": "code",
   "execution_count": 25,
   "metadata": {},
   "outputs": [],
   "source": [
    "def Random_node_remove(network,num_nodes_to_remove):\n",
    "    _net_copy = network.copy();\n",
    "    _nodes = _net_copy.nodes();\n",
    "    _remove_list = np.random.choice(_nodes,num_nodes_to_remove,replace=False);\n",
    "    for _node in _remove_list:\n",
    "        _net_copy.remove_node(_node);\n",
    "    return _net_copy;"
   ]
  },
  {
   "cell_type": "markdown",
   "metadata": {},
   "source": [
    "We are going to try out this both on a real network and an E-R graph with the same size and link density.\n",
    "\n",
    "First we read the network:"
   ]
  },
  {
   "cell_type": "code",
   "execution_count": 26,
   "metadata": {},
   "outputs": [
    {
     "name": "stdout",
     "output_type": "stream",
     "text": [
      "N =  1039  L=  4741\n"
     ]
    }
   ],
   "source": [
    "metabolic_net = nx.read_edgelist('metabolic.edgelist.txt');\n",
    "print('N = ',metabolic_net.number_of_nodes(),' L= ',metabolic_net.number_of_edges());"
   ]
  },
  {
   "cell_type": "markdown",
   "metadata": {},
   "source": [
    "OK, let's systematically remove nodes at random from this network, where we remove 10 nodes in one chunk. While doing this, we calculate and record $S$ and $\\chi$."
   ]
  },
  {
   "cell_type": "code",
   "execution_count": 27,
   "metadata": {},
   "outputs": [
    {
     "name": "stdout",
     "output_type": "stream",
     "text": [
      "current N =  1029\n",
      "current N =  1019\n",
      "current N =  1009\n",
      "current N =  999\n",
      "current N =  989\n",
      "current N =  979\n",
      "current N =  969\n",
      "current N =  959\n",
      "current N =  949\n",
      "current N =  939\n",
      "current N =  929\n",
      "current N =  919\n",
      "current N =  909\n",
      "current N =  899\n",
      "current N =  889\n",
      "current N =  879\n",
      "current N =  869\n",
      "current N =  859\n",
      "current N =  849\n",
      "current N =  839\n",
      "current N =  829\n",
      "current N =  819\n",
      "current N =  809\n",
      "current N =  799\n",
      "current N =  789\n",
      "current N =  779\n",
      "current N =  769\n",
      "current N =  759\n",
      "current N =  749\n",
      "current N =  739\n",
      "current N =  729\n",
      "current N =  719\n",
      "current N =  709\n",
      "current N =  699\n",
      "current N =  689\n",
      "current N =  679\n",
      "current N =  669\n",
      "current N =  659\n",
      "current N =  649\n",
      "current N =  639\n",
      "current N =  629\n",
      "current N =  619\n",
      "current N =  609\n",
      "current N =  599\n",
      "current N =  589\n",
      "current N =  579\n",
      "current N =  569\n",
      "current N =  559\n",
      "current N =  549\n",
      "current N =  539\n",
      "current N =  529\n",
      "current N =  519\n",
      "current N =  509\n",
      "current N =  499\n",
      "current N =  489\n",
      "current N =  479\n",
      "current N =  469\n",
      "current N =  459\n",
      "current N =  449\n",
      "current N =  439\n",
      "current N =  429\n",
      "current N =  419\n",
      "current N =  409\n",
      "current N =  399\n",
      "current N =  389\n",
      "current N =  379\n",
      "current N =  369\n",
      "current N =  359\n",
      "current N =  349\n",
      "current N =  339\n",
      "current N =  329\n",
      "current N =  319\n",
      "current N =  309\n",
      "current N =  299\n",
      "current N =  289\n",
      "current N =  279\n",
      "current N =  269\n",
      "current N =  259\n",
      "current N =  249\n",
      "current N =  239\n",
      "current N =  229\n",
      "current N =  219\n",
      "current N =  209\n",
      "current N =  199\n",
      "current N =  189\n",
      "current N =  179\n",
      "current N =  169\n",
      "current N =  159\n",
      "current N =  149\n",
      "current N =  139\n",
      "current N =  129\n",
      "current N =  119\n",
      "current N =  109\n",
      "current N =  99\n",
      "current N =  89\n",
      "current N =  79\n",
      "current N =  69\n",
      "current N =  59\n",
      "current N =  49\n",
      "current N =  39\n",
      "current N =  29\n",
      "current N =  19\n"
     ]
    }
   ],
   "source": [
    "met_copy = metabolic_net.copy();\n",
    "step = 10;\n",
    "met_rand_S, met_rand_chi, met_removed_N = [],[],[];\n",
    "met_rand_S.clear();\n",
    "met_rand_chi.clear();\n",
    "met_removed_N.clear();\n",
    "while (met_copy.number_of_nodes() > 2*step):\n",
    "    met_copy = Random_node_remove(met_copy,step);\n",
    "    print('current N = ',met_copy.number_of_nodes());\n",
    "    chi,S = Calc_chi_and_S(met_copy);\n",
    "    met_removed_N.append(metabolic_net.number_of_nodes() - met_copy.number_of_nodes());\n",
    "    met_rand_chi.append(chi);\n",
    "    met_rand_S.append(S);"
   ]
  },
  {
   "cell_type": "markdown",
   "metadata": {},
   "source": [
    "Before plotting the results, let's do the same for an E-R graph with the same N and same $\\left< k\\right>$."
   ]
  },
  {
   "cell_type": "code",
   "execution_count": 28,
   "metadata": {},
   "outputs": [
    {
     "name": "stdout",
     "output_type": "stream",
     "text": [
      "current N =  1029\n",
      "current N =  1019\n",
      "current N =  1009\n",
      "current N =  999\n",
      "current N =  989\n",
      "current N =  979\n",
      "current N =  969\n",
      "current N =  959\n",
      "current N =  949\n",
      "current N =  939\n",
      "current N =  929\n",
      "current N =  919\n",
      "current N =  909\n",
      "current N =  899\n",
      "current N =  889\n",
      "current N =  879\n",
      "current N =  869\n",
      "current N =  859\n",
      "current N =  849\n",
      "current N =  839\n",
      "current N =  829\n",
      "current N =  819\n",
      "current N =  809\n",
      "current N =  799\n",
      "current N =  789\n",
      "current N =  779\n",
      "current N =  769\n",
      "current N =  759\n",
      "current N =  749\n",
      "current N =  739\n",
      "current N =  729\n",
      "current N =  719\n",
      "current N =  709\n",
      "current N =  699\n",
      "current N =  689\n",
      "current N =  679\n",
      "current N =  669\n",
      "current N =  659\n",
      "current N =  649\n",
      "current N =  639\n",
      "current N =  629\n",
      "current N =  619\n",
      "current N =  609\n",
      "current N =  599\n",
      "current N =  589\n",
      "current N =  579\n",
      "current N =  569\n",
      "current N =  559\n",
      "current N =  549\n",
      "current N =  539\n",
      "current N =  529\n",
      "current N =  519\n",
      "current N =  509\n",
      "current N =  499\n",
      "current N =  489\n",
      "current N =  479\n",
      "current N =  469\n",
      "current N =  459\n",
      "current N =  449\n",
      "current N =  439\n",
      "current N =  429\n",
      "current N =  419\n",
      "current N =  409\n",
      "current N =  399\n",
      "current N =  389\n",
      "current N =  379\n",
      "current N =  369\n",
      "current N =  359\n",
      "current N =  349\n",
      "current N =  339\n",
      "current N =  329\n",
      "current N =  319\n",
      "current N =  309\n",
      "current N =  299\n",
      "current N =  289\n",
      "current N =  279\n",
      "current N =  269\n",
      "current N =  259\n",
      "current N =  249\n",
      "current N =  239\n",
      "current N =  229\n",
      "current N =  219\n",
      "current N =  209\n",
      "current N =  199\n",
      "current N =  189\n",
      "current N =  179\n",
      "current N =  169\n",
      "current N =  159\n",
      "current N =  149\n",
      "current N =  139\n",
      "current N =  129\n",
      "current N =  119\n",
      "current N =  109\n",
      "current N =  99\n",
      "current N =  89\n",
      "current N =  79\n",
      "current N =  69\n",
      "current N =  59\n",
      "current N =  49\n",
      "current N =  39\n",
      "current N =  29\n",
      "current N =  19\n"
     ]
    }
   ],
   "source": [
    "met_ER = nx.generators.erdos_renyi_graph(metabolic_net.number_of_nodes(),nx.density(metabolic_net));\n",
    "\n",
    "ER_copy = met_ER.copy();\n",
    "ER_rand_S, ER_rand_chi, ER_removed_N = [],[],[];\n",
    "ER_rand_S.clear();\n",
    "ER_rand_chi.clear();\n",
    "ER_removed_N.clear();\n",
    "while (ER_copy.number_of_nodes() > 2*step):\n",
    "    ER_copy = Random_node_remove(ER_copy,step);\n",
    "    print('current N = ',ER_copy.number_of_nodes());\n",
    "    chi,S = Calc_chi_and_S(ER_copy);\n",
    "    ER_removed_N.append(met_ER.number_of_nodes() - ER_copy.number_of_nodes());\n",
    "    ER_rand_chi.append(chi);\n",
    "    ER_rand_S.append(S);"
   ]
  },
  {
   "cell_type": "code",
   "execution_count": 29,
   "metadata": {},
   "outputs": [
    {
     "data": {
      "text/plain": [
       "<Figure size 432x288 with 0 Axes>"
      ]
     },
     "metadata": {},
     "output_type": "display_data"
    },
    {
     "data": {
      "image/png": "[encoded data removed]",
      "text/plain": [
       "<Figure size 432x288 with 2 Axes>"
      ]
     },
     "metadata": {},
     "output_type": "display_data"
    },
    {
     "data": {
      "text/plain": [
       "<Figure size 432x288 with 0 Axes>"
      ]
     },
     "metadata": {},
     "output_type": "display_data"
    },
    {
     "data": {
      "image/png": "[encoded data removed]",
      "text/plain": [
       "<Figure size 432x288 with 2 Axes>"
      ]
     },
     "metadata": {},
     "output_type": "display_data"
    }
   ],
   "source": [
    "plt.clf();\n",
    "\n",
    "fig = plt.figure()\n",
    "ax1 = fig.add_subplot(111)\n",
    "ax2 = ax1.twinx()\n",
    "met_f = [met_n/metabolic_net.number_of_nodes() for met_n in met_removed_N];\n",
    "\n",
    "ax1.plot(met_f,met_rand_S,'o-',color = paired_colors[1],markersize=5,label =r'$S$');\n",
    "ax2.plot(met_f,met_rand_chi,'s-',color = paired_colors[5],markersize=5,label = '$\\chi$');\n",
    "ax1.legend(loc = 'upper left');\n",
    "ax1.set_ylabel('$S$');\n",
    "ax2.legend(loc = 'upper right');\n",
    "ax2.set_ylabel('$\\chi$');\n",
    "ax1.set_xlabel('$f$');\n",
    "plt.title('Metabolic network, random node removal')\n",
    "plt.show();\n",
    "\n",
    "plt.clf();\n",
    "fig = plt.figure()\n",
    "ax1 = fig.add_subplot(111)\n",
    "ax2 = ax1.twinx()\n",
    "ER_f = [ER_n/met_ER.number_of_nodes() for ER_n in ER_removed_N];\n",
    "\n",
    "ax1.plot(ER_f,ER_rand_S,'o-',color = paired_colors[1],markersize=5,label =r'$S$');\n",
    "ax2.plot(ER_f,ER_rand_chi,'s-',color = paired_colors[5],markersize=5,label = '$\\chi$');\n",
    "ax1.legend(loc = 'upper left');\n",
    "ax1.set_ylabel('$S$');\n",
    "ax2.legend(loc = 'upper right');\n",
    "ax2.set_ylabel('$\\chi$');\n",
    "ax1.set_xlabel('$f$');\n",
    "plt.title('E-R graph, random node removal')\n",
    "plt.show();\n"
   ]
  },
  {
   "cell_type": "markdown",
   "metadata": {},
   "source": [
    "In case of the E-R graph, we **always** see a clear phase transition accompanied by a sharp peak in $\\chi$. In contrast, for the metabolic network, usually we do not see such a well defined sharp peak, so the phase transition is missing, and the giant component remains to exist even when $f$ is relatively large. This means that the real network is more resilient against random node removal compared to an E-R graph.\n",
    "\n",
    "**WARNING** Since the node removal is random, it may occure once in a while that with some luck we actually do manage to destroy the giant component in the metabolic network before $f$ is getting large. So in case you do see signs of a phase transition in your curves for the metabolic net, just re-run the cell calculating the data and re-plot."
   ]
  },
  {
   "cell_type": "markdown",
   "metadata": {},
   "source": [
    "### Targetted attack\n",
    "\n",
    "Beside random node removal, a quite simple idea to attack a network is to take out nodes in the order of their degree. Let's have a look at that too.\n",
    "\n",
    "First, we define a function implementing this:"
   ]
  },
  {
   "cell_type": "code",
   "execution_count": 30,
   "metadata": {},
   "outputs": [],
   "source": [
    "def Attack_node_remove(network,num_nodes_to_remove):\n",
    "    _net_copy = network.copy();\n",
    "    _node_deg = {_node: network.degree(_node) for _node in network.nodes};\n",
    "    _sort_nodes = sorted(_node_deg.items(), key = lambda x: x[1], reverse=True);\n",
    "    _remove_list = [_sort_nodes[i][0] for i in range(0,num_nodes_to_remove)];\n",
    "    for _node in _remove_list:\n",
    "        _net_copy.remove_node(_node);\n",
    "    return _net_copy;"
   ]
  },
  {
   "cell_type": "markdown",
   "metadata": {},
   "source": [
    "Next we apply it to the metabolic network and also to its E-R counterpart."
   ]
  },
  {
   "cell_type": "code",
   "execution_count": 31,
   "metadata": {},
   "outputs": [
    {
     "name": "stdout",
     "output_type": "stream",
     "text": [
      "current N =  1029\n",
      "current N =  1019\n",
      "current N =  1009\n",
      "current N =  999\n",
      "current N =  989\n",
      "current N =  979\n",
      "current N =  969\n",
      "current N =  959\n",
      "current N =  949\n",
      "current N =  939\n",
      "current N =  929\n",
      "current N =  919\n",
      "current N =  909\n",
      "current N =  899\n",
      "current N =  889\n",
      "current N =  879\n",
      "current N =  869\n",
      "current N =  859\n",
      "current N =  849\n",
      "current N =  839\n",
      "current N =  829\n",
      "current N =  819\n",
      "current N =  809\n",
      "current N =  799\n",
      "current N =  789\n",
      "current N =  779\n",
      "current N =  769\n",
      "current N =  759\n",
      "current N =  749\n",
      "current N =  739\n",
      "current N =  729\n",
      "current N =  719\n",
      "current N =  709\n",
      "current N =  699\n",
      "current N =  689\n",
      "current N =  679\n",
      "current N =  669\n",
      "current N =  659\n",
      "current N =  649\n",
      "current N =  639\n",
      "current N =  629\n",
      "current N =  619\n",
      "current N =  609\n",
      "current N =  599\n",
      "current N =  589\n",
      "current N =  579\n",
      "current N =  569\n",
      "current N =  559\n",
      "current N =  549\n",
      "current N =  539\n",
      "current N =  529\n",
      "current N =  519\n",
      "current N =  509\n",
      "current N =  499\n",
      "current N =  489\n",
      "current N =  479\n",
      "current N =  469\n",
      "current N =  459\n",
      "current N =  449\n",
      "current N =  439\n",
      "current N =  429\n",
      "current N =  419\n",
      "current N =  409\n",
      "current N =  399\n",
      "current N =  389\n",
      "current N =  379\n",
      "current N =  369\n",
      "current N =  359\n",
      "current N =  349\n",
      "current N =  339\n",
      "current N =  329\n",
      "current N =  319\n",
      "current N =  309\n",
      "current N =  299\n",
      "current N =  289\n",
      "current N =  279\n",
      "current N =  269\n",
      "current N =  259\n",
      "current N =  249\n",
      "current N =  239\n",
      "current N =  229\n",
      "current N =  219\n",
      "current N =  209\n",
      "current N =  199\n",
      "current N =  189\n",
      "current N =  179\n",
      "current N =  169\n",
      "current N =  159\n",
      "current N =  149\n",
      "current N =  139\n",
      "current N =  129\n",
      "current N =  119\n",
      "current N =  109\n",
      "current N =  99\n",
      "current N =  89\n",
      "current N =  79\n",
      "current N =  69\n",
      "current N =  59\n",
      "current N =  49\n",
      "current N =  39\n",
      "current N =  29\n",
      "current N =  19\n"
     ]
    }
   ],
   "source": [
    "met_copy = metabolic_net.copy();\n",
    "step = 10;\n",
    "met_atck_S, met_atck_chi, met_atck_N = [],[],[];\n",
    "met_atck_S.clear();\n",
    "met_atck_chi.clear();\n",
    "met_atck_N.clear();\n",
    "while (met_copy.number_of_nodes() > 2*step):\n",
    "    met_copy = Attack_node_remove(met_copy,step);\n",
    "    print('current N = ',met_copy.number_of_nodes());\n",
    "    chi,S = Calc_chi_and_S(met_copy);\n",
    "    met_atck_N.append(metabolic_net.number_of_nodes() - met_copy.number_of_nodes());\n",
    "    met_atck_chi.append(chi);\n",
    "    met_atck_S.append(S);"
   ]
  },
  {
   "cell_type": "code",
   "execution_count": 32,
   "metadata": {},
   "outputs": [
    {
     "name": "stdout",
     "output_type": "stream",
     "text": [
      "current N =  1029\n",
      "current N =  1019\n",
      "current N =  1009\n",
      "current N =  999\n",
      "current N =  989\n",
      "current N =  979\n",
      "current N =  969\n",
      "current N =  959\n",
      "current N =  949\n",
      "current N =  939\n",
      "current N =  929\n",
      "current N =  919\n",
      "current N =  909\n",
      "current N =  899\n",
      "current N =  889\n",
      "current N =  879\n",
      "current N =  869\n",
      "current N =  859\n",
      "current N =  849\n",
      "current N =  839\n",
      "current N =  829\n",
      "current N =  819\n",
      "current N =  809\n",
      "current N =  799\n",
      "current N =  789\n",
      "current N =  779\n",
      "current N =  769\n",
      "current N =  759\n",
      "current N =  749\n",
      "current N =  739\n",
      "current N =  729\n",
      "current N =  719\n",
      "current N =  709\n",
      "current N =  699\n",
      "current N =  689\n",
      "current N =  679\n",
      "current N =  669\n",
      "current N =  659\n",
      "current N =  649\n",
      "current N =  639\n",
      "current N =  629\n",
      "current N =  619\n",
      "current N =  609\n",
      "current N =  599\n",
      "current N =  589\n",
      "current N =  579\n",
      "current N =  569\n",
      "current N =  559\n",
      "current N =  549\n",
      "current N =  539\n",
      "current N =  529\n",
      "current N =  519\n",
      "current N =  509\n",
      "current N =  499\n",
      "current N =  489\n",
      "current N =  479\n",
      "current N =  469\n",
      "current N =  459\n",
      "current N =  449\n",
      "current N =  439\n",
      "current N =  429\n",
      "current N =  419\n",
      "current N =  409\n",
      "current N =  399\n",
      "current N =  389\n",
      "current N =  379\n",
      "current N =  369\n",
      "current N =  359\n",
      "current N =  349\n",
      "current N =  339\n",
      "current N =  329\n",
      "current N =  319\n",
      "current N =  309\n",
      "current N =  299\n",
      "current N =  289\n",
      "current N =  279\n",
      "current N =  269\n",
      "current N =  259\n",
      "current N =  249\n",
      "current N =  239\n",
      "current N =  229\n",
      "current N =  219\n",
      "current N =  209\n",
      "current N =  199\n",
      "current N =  189\n",
      "current N =  179\n",
      "current N =  169\n",
      "current N =  159\n",
      "current N =  149\n",
      "current N =  139\n",
      "current N =  129\n",
      "current N =  119\n",
      "current N =  109\n",
      "current N =  99\n",
      "current N =  89\n",
      "current N =  79\n",
      "current N =  69\n",
      "current N =  59\n",
      "current N =  49\n",
      "current N =  39\n",
      "current N =  29\n",
      "current N =  19\n"
     ]
    }
   ],
   "source": [
    "met_ER = nx.generators.erdos_renyi_graph(metabolic_net.number_of_nodes(),nx.density(metabolic_net));\n",
    "\n",
    "ER_copy = met_ER.copy();\n",
    "ER_atck_S, ER_atck_chi, ER_atck_N = [],[],[];\n",
    "ER_atck_S.clear();\n",
    "ER_atck_chi.clear();\n",
    "ER_atck_N.clear();\n",
    "while (ER_copy.number_of_nodes() > 2*step):\n",
    "    ER_copy = Attack_node_remove(ER_copy,step);\n",
    "    print('current N = ',ER_copy.number_of_nodes());\n",
    "    chi,S = Calc_chi_and_S(ER_copy);\n",
    "    ER_atck_N.append(met_ER.number_of_nodes() - ER_copy.number_of_nodes());\n",
    "    ER_atck_chi.append(chi);\n",
    "    ER_atck_S.append(S);"
   ]
  },
  {
   "cell_type": "markdown",
   "metadata": {},
   "source": [
    "We can plot the results in a similar fashion to the random removal procedure:"
   ]
  },
  {
   "cell_type": "code",
   "execution_count": 33,
   "metadata": {},
   "outputs": [
    {
     "data": {
      "text/plain": [
       "<Figure size 432x288 with 0 Axes>"
      ]
     },
     "metadata": {},
     "output_type": "display_data"
    },
    {
     "data": {
      "image/png": "[encoded data removed]",
      "text/plain": [
       "<Figure size 432x288 with 2 Axes>"
      ]
     },
     "metadata": {},
     "output_type": "display_data"
    },
    {
     "data": {
      "text/plain": [
       "<Figure size 432x288 with 0 Axes>"
      ]
     },
     "metadata": {},
     "output_type": "display_data"
    },
    {
     "data": {
      "image/png": "[encoded data removed]",
      "text/plain": [
       "<Figure size 432x288 with 2 Axes>"
      ]
     },
     "metadata": {},
     "output_type": "display_data"
    }
   ],
   "source": [
    "plt.clf();\n",
    "\n",
    "fig = plt.figure()\n",
    "ax1 = fig.add_subplot(111)\n",
    "ax2 = ax1.twinx()\n",
    "met_atck_f = [met_n/metabolic_net.number_of_nodes() for met_n in met_atck_N];\n",
    "\n",
    "ax1.plot(met_atck_f,met_atck_S,'o-',color = paired_colors[1],markersize=5,label =r'$S$');\n",
    "ax2.plot(met_atck_f,met_atck_chi,'s-',color = paired_colors[5],markersize=5,label = '$\\chi$');\n",
    "ax1.legend(loc = 'upper left');\n",
    "ax1.set_ylabel('$S$');\n",
    "ax2.legend(loc = 'upper right');\n",
    "ax2.set_ylabel('$\\chi$');\n",
    "ax1.set_xlabel('$f$');\n",
    "plt.title('Metabolic network, targetted attack')\n",
    "plt.show();\n",
    "\n",
    "plt.clf();\n",
    "fig = plt.figure()\n",
    "ax1 = fig.add_subplot(111)\n",
    "ax2 = ax1.twinx()\n",
    "ER_atck_f = [ER_n/met_ER.number_of_nodes() for ER_n in ER_atck_N];\n",
    "\n",
    "ax1.plot(ER_atck_f,ER_atck_S,'o-',color = paired_colors[1],markersize=5,label =r'$S$');\n",
    "ax2.plot(ER_atck_f,ER_atck_chi,'s-',color = paired_colors[5],markersize=5,label = '$\\chi$');\n",
    "ax1.legend(loc = 'upper left');\n",
    "ax1.set_ylabel('$S$');\n",
    "ax2.legend(loc = 'upper right');\n",
    "ax2.set_ylabel('$\\chi$');\n",
    "ax1.set_xlabel('$f$');\n",
    "plt.title('E-R graph, targetted attack')\n",
    "plt.show();\n"
   ]
  },
  {
   "cell_type": "markdown",
   "metadata": {},
   "source": [
    "In this case we see very prominent signs of a phase transition for both networks. In case of the original network this comes at a much lower $f$ value compared to the E-R graph, thus, the real network is more vulnrable against targetted attack. "
   ]
  },
  {
   "cell_type": "code",
   "execution_count": null,
   "metadata": {},
   "outputs": [],
   "source": []
  }
 ],
 "metadata": {
  "kernelspec": {
   "display_name": "Python 3",
   "language": "python",
   "name": "python3"
  },
  "language_info": {
   "codemirror_mode": {
    "name": "ipython",
    "version": 3
   },
   "file_extension": ".py",
   "mimetype": "text/x-python",
   "name": "python",
   "nbconvert_exporter": "python",
   "pygments_lexer": "ipython3",
   "version": "3.7.4"
  }
 },
 "nbformat": 4,
 "nbformat_minor": 2
}
