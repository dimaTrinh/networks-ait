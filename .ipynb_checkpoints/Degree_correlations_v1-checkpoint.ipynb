{
 "cells": [
  {
   "cell_type": "code",
   "execution_count": 1,
   "metadata": {},
   "outputs": [],
   "source": [
    "import numpy as np;\n",
    "import networkx as nx;\n",
    "import pandas as pd;\n",
    "import matplotlib.pyplot as plt;\n",
    "import math;"
   ]
  },
  {
   "cell_type": "markdown",
   "metadata": {},
   "source": [
    "## Reading the network data\n",
    "\n",
    "The yeast network was already used previously..."
   ]
  },
  {
   "cell_type": "code",
   "execution_count": 6,
   "metadata": {},
   "outputs": [],
   "source": [
    "yeast_net = nx.read_edgelist('yeastinter_st.txt',data = False);       # we ignore the 3rd column in the file"
   ]
  },
  {
   "cell_type": "markdown",
   "metadata": {},
   "source": [
    "The other network is the social network between FIFA leaders based on commitee co-memberships.\n",
    "\n",
    "Although we have learned that sparse networks should be better stored as link lists, this network is publicly available in a matrix format...\n",
    "\n",
    "First we just peek into the data using pandas:"
   ]
  },
  {
   "cell_type": "code",
   "execution_count": 2,
   "metadata": {},
   "outputs": [
    {
     "data": {
      "text/html": [
       "<div>\n",
       "<style scoped>\n",
       "    .dataframe tbody tr th:only-of-type {\n",
       "        vertical-align: middle;\n",
       "    }\n",
       "\n",
       "    .dataframe tbody tr th {\n",
       "        vertical-align: top;\n",
       "    }\n",
       "\n",
       "    .dataframe thead th {\n",
       "        text-align: right;\n",
       "    }\n",
       "</style>\n",
       "<table border=\"1\" class=\"dataframe\">\n",
       "  <thead>\n",
       "    <tr style=\"text-align: right;\">\n",
       "      <th></th>\n",
       "      <th>ABDULLAH Prince H.R.H</th>\n",
       "      <th>ABEGA Prosper</th>\n",
       "      <th>ABO RIDA Hany</th>\n",
       "      <th>ACHE Eduardo</th>\n",
       "      <th>ACKERMANN Nair</th>\n",
       "      <th>ACOSTA Francisco</th>\n",
       "      <th>ADAMS Mark</th>\n",
       "      <th>ADOUM Djibrine</th>\n",
       "      <th>AGHAZADA Sayed</th>\n",
       "      <th>AHMAD Ahmad</th>\n",
       "      <th>...</th>\n",
       "      <th>WILKINSON Rhian</th>\n",
       "      <th>WILLIAMSON Stephen</th>\n",
       "      <th>WINDTNER Leo</th>\n",
       "      <th>WONUHALI Linda</th>\n",
       "      <th>WOODSON Rochell</th>\n",
       "      <th>YAHYA Ahmed</th>\n",
       "      <th>ZAMBRANO Jose</th>\n",
       "      <th>ZAW Zaw</th>\n",
       "      <th>ZERGUINI Yacine</th>\n",
       "      <th>ZHANG Jian</th>\n",
       "    </tr>\n",
       "  </thead>\n",
       "  <tbody>\n",
       "    <tr>\n",
       "      <td>ABDULLAH Prince H.R.H</td>\n",
       "      <td>4</td>\n",
       "      <td>0</td>\n",
       "      <td>2</td>\n",
       "      <td>0</td>\n",
       "      <td>0</td>\n",
       "      <td>0</td>\n",
       "      <td>0</td>\n",
       "      <td>1</td>\n",
       "      <td>1</td>\n",
       "      <td>0</td>\n",
       "      <td>...</td>\n",
       "      <td>0</td>\n",
       "      <td>0</td>\n",
       "      <td>0</td>\n",
       "      <td>0</td>\n",
       "      <td>0</td>\n",
       "      <td>0</td>\n",
       "      <td>0</td>\n",
       "      <td>0</td>\n",
       "      <td>0</td>\n",
       "      <td>0</td>\n",
       "    </tr>\n",
       "    <tr>\n",
       "      <td>ABEGA Prosper</td>\n",
       "      <td>0</td>\n",
       "      <td>1</td>\n",
       "      <td>0</td>\n",
       "      <td>0</td>\n",
       "      <td>0</td>\n",
       "      <td>0</td>\n",
       "      <td>0</td>\n",
       "      <td>0</td>\n",
       "      <td>0</td>\n",
       "      <td>0</td>\n",
       "      <td>...</td>\n",
       "      <td>0</td>\n",
       "      <td>0</td>\n",
       "      <td>0</td>\n",
       "      <td>0</td>\n",
       "      <td>0</td>\n",
       "      <td>0</td>\n",
       "      <td>0</td>\n",
       "      <td>0</td>\n",
       "      <td>0</td>\n",
       "      <td>0</td>\n",
       "    </tr>\n",
       "    <tr>\n",
       "      <td>ABO RIDA Hany</td>\n",
       "      <td>2</td>\n",
       "      <td>0</td>\n",
       "      <td>4</td>\n",
       "      <td>0</td>\n",
       "      <td>1</td>\n",
       "      <td>0</td>\n",
       "      <td>1</td>\n",
       "      <td>1</td>\n",
       "      <td>1</td>\n",
       "      <td>0</td>\n",
       "      <td>...</td>\n",
       "      <td>0</td>\n",
       "      <td>0</td>\n",
       "      <td>0</td>\n",
       "      <td>0</td>\n",
       "      <td>0</td>\n",
       "      <td>0</td>\n",
       "      <td>0</td>\n",
       "      <td>0</td>\n",
       "      <td>0</td>\n",
       "      <td>0</td>\n",
       "    </tr>\n",
       "    <tr>\n",
       "      <td>ACHE Eduardo</td>\n",
       "      <td>0</td>\n",
       "      <td>0</td>\n",
       "      <td>0</td>\n",
       "      <td>1</td>\n",
       "      <td>0</td>\n",
       "      <td>0</td>\n",
       "      <td>0</td>\n",
       "      <td>0</td>\n",
       "      <td>0</td>\n",
       "      <td>0</td>\n",
       "      <td>...</td>\n",
       "      <td>0</td>\n",
       "      <td>0</td>\n",
       "      <td>0</td>\n",
       "      <td>0</td>\n",
       "      <td>0</td>\n",
       "      <td>0</td>\n",
       "      <td>0</td>\n",
       "      <td>0</td>\n",
       "      <td>0</td>\n",
       "      <td>0</td>\n",
       "    </tr>\n",
       "    <tr>\n",
       "      <td>ACKERMANN Nair</td>\n",
       "      <td>0</td>\n",
       "      <td>0</td>\n",
       "      <td>1</td>\n",
       "      <td>0</td>\n",
       "      <td>1</td>\n",
       "      <td>0</td>\n",
       "      <td>0</td>\n",
       "      <td>0</td>\n",
       "      <td>0</td>\n",
       "      <td>0</td>\n",
       "      <td>...</td>\n",
       "      <td>0</td>\n",
       "      <td>0</td>\n",
       "      <td>0</td>\n",
       "      <td>0</td>\n",
       "      <td>0</td>\n",
       "      <td>0</td>\n",
       "      <td>0</td>\n",
       "      <td>0</td>\n",
       "      <td>0</td>\n",
       "      <td>0</td>\n",
       "    </tr>\n",
       "    <tr>\n",
       "      <td>...</td>\n",
       "      <td>...</td>\n",
       "      <td>...</td>\n",
       "      <td>...</td>\n",
       "      <td>...</td>\n",
       "      <td>...</td>\n",
       "      <td>...</td>\n",
       "      <td>...</td>\n",
       "      <td>...</td>\n",
       "      <td>...</td>\n",
       "      <td>...</td>\n",
       "      <td>...</td>\n",
       "      <td>...</td>\n",
       "      <td>...</td>\n",
       "      <td>...</td>\n",
       "      <td>...</td>\n",
       "      <td>...</td>\n",
       "      <td>...</td>\n",
       "      <td>...</td>\n",
       "      <td>...</td>\n",
       "      <td>...</td>\n",
       "      <td>...</td>\n",
       "    </tr>\n",
       "    <tr>\n",
       "      <td>YAHYA Ahmed</td>\n",
       "      <td>0</td>\n",
       "      <td>0</td>\n",
       "      <td>0</td>\n",
       "      <td>0</td>\n",
       "      <td>0</td>\n",
       "      <td>0</td>\n",
       "      <td>0</td>\n",
       "      <td>0</td>\n",
       "      <td>0</td>\n",
       "      <td>0</td>\n",
       "      <td>...</td>\n",
       "      <td>0</td>\n",
       "      <td>0</td>\n",
       "      <td>0</td>\n",
       "      <td>0</td>\n",
       "      <td>0</td>\n",
       "      <td>1</td>\n",
       "      <td>0</td>\n",
       "      <td>0</td>\n",
       "      <td>0</td>\n",
       "      <td>0</td>\n",
       "    </tr>\n",
       "    <tr>\n",
       "      <td>ZAMBRANO Jose</td>\n",
       "      <td>0</td>\n",
       "      <td>0</td>\n",
       "      <td>0</td>\n",
       "      <td>0</td>\n",
       "      <td>0</td>\n",
       "      <td>0</td>\n",
       "      <td>0</td>\n",
       "      <td>0</td>\n",
       "      <td>0</td>\n",
       "      <td>0</td>\n",
       "      <td>...</td>\n",
       "      <td>0</td>\n",
       "      <td>1</td>\n",
       "      <td>0</td>\n",
       "      <td>0</td>\n",
       "      <td>0</td>\n",
       "      <td>0</td>\n",
       "      <td>1</td>\n",
       "      <td>0</td>\n",
       "      <td>0</td>\n",
       "      <td>0</td>\n",
       "    </tr>\n",
       "    <tr>\n",
       "      <td>ZAW Zaw</td>\n",
       "      <td>0</td>\n",
       "      <td>0</td>\n",
       "      <td>0</td>\n",
       "      <td>0</td>\n",
       "      <td>0</td>\n",
       "      <td>0</td>\n",
       "      <td>0</td>\n",
       "      <td>0</td>\n",
       "      <td>0</td>\n",
       "      <td>0</td>\n",
       "      <td>...</td>\n",
       "      <td>0</td>\n",
       "      <td>0</td>\n",
       "      <td>0</td>\n",
       "      <td>0</td>\n",
       "      <td>0</td>\n",
       "      <td>0</td>\n",
       "      <td>0</td>\n",
       "      <td>1</td>\n",
       "      <td>0</td>\n",
       "      <td>0</td>\n",
       "    </tr>\n",
       "    <tr>\n",
       "      <td>ZERGUINI Yacine</td>\n",
       "      <td>0</td>\n",
       "      <td>0</td>\n",
       "      <td>0</td>\n",
       "      <td>0</td>\n",
       "      <td>0</td>\n",
       "      <td>0</td>\n",
       "      <td>0</td>\n",
       "      <td>0</td>\n",
       "      <td>0</td>\n",
       "      <td>0</td>\n",
       "      <td>...</td>\n",
       "      <td>0</td>\n",
       "      <td>0</td>\n",
       "      <td>0</td>\n",
       "      <td>0</td>\n",
       "      <td>0</td>\n",
       "      <td>0</td>\n",
       "      <td>0</td>\n",
       "      <td>0</td>\n",
       "      <td>1</td>\n",
       "      <td>0</td>\n",
       "    </tr>\n",
       "    <tr>\n",
       "      <td>ZHANG Jian</td>\n",
       "      <td>0</td>\n",
       "      <td>0</td>\n",
       "      <td>0</td>\n",
       "      <td>0</td>\n",
       "      <td>0</td>\n",
       "      <td>0</td>\n",
       "      <td>0</td>\n",
       "      <td>0</td>\n",
       "      <td>0</td>\n",
       "      <td>0</td>\n",
       "      <td>...</td>\n",
       "      <td>0</td>\n",
       "      <td>0</td>\n",
       "      <td>0</td>\n",
       "      <td>0</td>\n",
       "      <td>0</td>\n",
       "      <td>0</td>\n",
       "      <td>0</td>\n",
       "      <td>0</td>\n",
       "      <td>0</td>\n",
       "      <td>1</td>\n",
       "    </tr>\n",
       "  </tbody>\n",
       "</table>\n",
       "<p>450 rows × 450 columns</p>\n",
       "</div>"
      ],
      "text/plain": [
       "                       ABDULLAH Prince H.R.H  ABEGA Prosper  ABO RIDA Hany  \\\n",
       "ABDULLAH Prince H.R.H                      4              0              2   \n",
       "ABEGA Prosper                              0              1              0   \n",
       "ABO RIDA Hany                              2              0              4   \n",
       "ACHE Eduardo                               0              0              0   \n",
       "ACKERMANN Nair                             0              0              1   \n",
       "...                                      ...            ...            ...   \n",
       "YAHYA Ahmed                                0              0              0   \n",
       "ZAMBRANO Jose                              0              0              0   \n",
       "ZAW Zaw                                    0              0              0   \n",
       "ZERGUINI Yacine                            0              0              0   \n",
       "ZHANG Jian                                 0              0              0   \n",
       "\n",
       "                       ACHE Eduardo  ACKERMANN Nair  ACOSTA Francisco  \\\n",
       "ABDULLAH Prince H.R.H             0               0                 0   \n",
       "ABEGA Prosper                     0               0                 0   \n",
       "ABO RIDA Hany                     0               1                 0   \n",
       "ACHE Eduardo                      1               0                 0   \n",
       "ACKERMANN Nair                    0               1                 0   \n",
       "...                             ...             ...               ...   \n",
       "YAHYA Ahmed                       0               0                 0   \n",
       "ZAMBRANO Jose                     0               0                 0   \n",
       "ZAW Zaw                           0               0                 0   \n",
       "ZERGUINI Yacine                   0               0                 0   \n",
       "ZHANG Jian                        0               0                 0   \n",
       "\n",
       "                       ADAMS Mark  ADOUM Djibrine  AGHAZADA Sayed  \\\n",
       "ABDULLAH Prince H.R.H           0               1               1   \n",
       "ABEGA Prosper                   0               0               0   \n",
       "ABO RIDA Hany                   1               1               1   \n",
       "ACHE Eduardo                    0               0               0   \n",
       "ACKERMANN Nair                  0               0               0   \n",
       "...                           ...             ...             ...   \n",
       "YAHYA Ahmed                     0               0               0   \n",
       "ZAMBRANO Jose                   0               0               0   \n",
       "ZAW Zaw                         0               0               0   \n",
       "ZERGUINI Yacine                 0               0               0   \n",
       "ZHANG Jian                      0               0               0   \n",
       "\n",
       "                       AHMAD Ahmad  ...  WILKINSON Rhian  WILLIAMSON Stephen  \\\n",
       "ABDULLAH Prince H.R.H            0  ...                0                   0   \n",
       "ABEGA Prosper                    0  ...                0                   0   \n",
       "ABO RIDA Hany                    0  ...                0                   0   \n",
       "ACHE Eduardo                     0  ...                0                   0   \n",
       "ACKERMANN Nair                   0  ...                0                   0   \n",
       "...                            ...  ...              ...                 ...   \n",
       "YAHYA Ahmed                      0  ...                0                   0   \n",
       "ZAMBRANO Jose                    0  ...                0                   1   \n",
       "ZAW Zaw                          0  ...                0                   0   \n",
       "ZERGUINI Yacine                  0  ...                0                   0   \n",
       "ZHANG Jian                       0  ...                0                   0   \n",
       "\n",
       "                       WINDTNER Leo  WONUHALI Linda  WOODSON Rochell  \\\n",
       "ABDULLAH Prince H.R.H             0               0                0   \n",
       "ABEGA Prosper                     0               0                0   \n",
       "ABO RIDA Hany                     0               0                0   \n",
       "ACHE Eduardo                      0               0                0   \n",
       "ACKERMANN Nair                    0               0                0   \n",
       "...                             ...             ...              ...   \n",
       "YAHYA Ahmed                       0               0                0   \n",
       "ZAMBRANO Jose                     0               0                0   \n",
       "ZAW Zaw                           0               0                0   \n",
       "ZERGUINI Yacine                   0               0                0   \n",
       "ZHANG Jian                        0               0                0   \n",
       "\n",
       "                       YAHYA Ahmed  ZAMBRANO Jose  ZAW Zaw  ZERGUINI Yacine  \\\n",
       "ABDULLAH Prince H.R.H            0              0        0                0   \n",
       "ABEGA Prosper                    0              0        0                0   \n",
       "ABO RIDA Hany                    0              0        0                0   \n",
       "ACHE Eduardo                     0              0        0                0   \n",
       "ACKERMANN Nair                   0              0        0                0   \n",
       "...                            ...            ...      ...              ...   \n",
       "YAHYA Ahmed                      1              0        0                0   \n",
       "ZAMBRANO Jose                    0              1        0                0   \n",
       "ZAW Zaw                          0              0        1                0   \n",
       "ZERGUINI Yacine                  0              0        0                1   \n",
       "ZHANG Jian                       0              0        0                0   \n",
       "\n",
       "                       ZHANG Jian  \n",
       "ABDULLAH Prince H.R.H           0  \n",
       "ABEGA Prosper                   0  \n",
       "ABO RIDA Hany                   0  \n",
       "ACHE Eduardo                    0  \n",
       "ACKERMANN Nair                  0  \n",
       "...                           ...  \n",
       "YAHYA Ahmed                     0  \n",
       "ZAMBRANO Jose                   0  \n",
       "ZAW Zaw                         0  \n",
       "ZERGUINI Yacine                 0  \n",
       "ZHANG Jian                      1  \n",
       "\n",
       "[450 rows x 450 columns]"
      ]
     },
     "execution_count": 2,
     "metadata": {},
     "output_type": "execute_result"
    }
   ],
   "source": [
    "pd.read_csv('2015_FIFA_1M.csv',sep = ',',index_col=0)"
   ]
  },
  {
   "cell_type": "markdown",
   "metadata": {},
   "source": [
    "And now we actually read the matrix into a pandas dataframe, which can then converted into a network by networkx."
   ]
  },
  {
   "cell_type": "code",
   "execution_count": 3,
   "metadata": {},
   "outputs": [],
   "source": [
    "FIFA_df = pd.read_csv('2015_FIFA_1M.csv',sep = ',',index_col=0);\n",
    "FIFA_net = nx.convert_matrix.from_pandas_adjacency(FIFA_df);"
   ]
  },
  {
   "cell_type": "markdown",
   "metadata": {},
   "source": [
    "Let's look at the basic network properties of the two networks:"
   ]
  },
  {
   "cell_type": "code",
   "execution_count": 7,
   "metadata": {},
   "outputs": [
    {
     "name": "stdout",
     "output_type": "stream",
     "text": [
      "yeast net N = 688 , L = 1078\n",
      "yeast net max. degree =  71\n",
      "\n",
      "FIFA net N = 450 , L = 5472\n",
      "yeast net max. degree =  117\n"
     ]
    }
   ],
   "source": [
    "print('yeast net N =',yeast_net.number_of_nodes(),', L =',yeast_net.number_of_edges());\n",
    "print('yeast net max. degree = ',max([yeast_net.degree(node) for node in yeast_net.nodes]));\n",
    "print();\n",
    "print('FIFA net N =',FIFA_net.number_of_nodes(),', L =',FIFA_net.number_of_edges());\n",
    "print('yeast net max. degree = ',max([FIFA_net.degree(node) for node in FIFA_net.nodes]));"
   ]
  },
  {
   "cell_type": "markdown",
   "metadata": {},
   "source": [
    "## Preparing the E and e matrices\n",
    "\n",
    "A straight forward approach to study the degree correlations in a network is offered by the **E** matrix, in which rows and collumns correspond to the possible node degrees in the network from 1 to $k_{\\rm max}$, and $E_{k_1,k_2}$ is simply the number of connected node pairs where the degree of the first node is $k_1$ and the degree of the second node is $k_2$. (The diagonal elements $E_{kk}$ correspond to twice the number of links between nodes of the same degree $k$ in order to treet all links and degree pairings in a fair manner). Since every link in the network contributes to **E** twice, the sum of all entries is $\\sum_{i,j}E_{k_i,k_j}=2L$, where $L$ is the total number of links. \n",
    "\n",
    "The **e** matrix is simply the **E** matrix, where we divide all entries by $2L$.  This way the sum of the elements in **e** is equal to 1.\n",
    "\n",
    "We prepare a function calculating the **E** and **e** matrices:"
   ]
  },
  {
   "cell_type": "code",
   "execution_count": 8,
   "metadata": {},
   "outputs": [],
   "source": [
    "def Prepare_Ee_matrices(network):\n",
    "    max_degree = max([network.degree(node) for node in network.nodes]);   # the maximum degree in the network.\n",
    "    E_matr = np.zeros(shape = (max_degree+1,max_degree+1),dtype = int);   # a matrix full of zeros.\n",
    "    for node1 in network.nodes:\n",
    "        k1 = network.degree(node1);\n",
    "        for node2 in network.neighbors(node1):\n",
    "            k2 = network.degree(node2);                                   # note that no 'extra' care is needed\n",
    "            E_matr[k1,k2] += 1;                                           # for the diagonal elements.\n",
    "            \n",
    "    e_matr = np.zeros(shape = (max_degree+1,max_degree+1),dtype = float);\n",
    "    for k1 in range(0,max_degree+1):\n",
    "        for k2 in range(0,max_degree+1):\n",
    "            e_matr[k1,k2] = E_matr[k1,k2]/(2.0*network.number_of_edges());\n",
    "    return E_matr,e_matr;"
   ]
  },
  {
   "cell_type": "markdown",
   "metadata": {},
   "source": [
    "First let's try it out on the yeast network."
   ]
  },
  {
   "cell_type": "code",
   "execution_count": 9,
   "metadata": {},
   "outputs": [],
   "source": [
    "yeast_E_matr,yeast_e_matr = Prepare_Ee_matrices(yeast_net);"
   ]
  },
  {
   "cell_type": "markdown",
   "metadata": {},
   "source": [
    "Let's have a look at basic properties of the **E** matrix:"
   ]
  },
  {
   "cell_type": "code",
   "execution_count": 10,
   "metadata": {},
   "outputs": [
    {
     "name": "stdout",
     "output_type": "stream",
     "text": [
      "yeast E matrix shape: (72, 72)\n",
      "yeast E matr.:\n",
      " [[ 0  0  0 ...  0  0  0]\n",
      " [ 0 12 12 ...  0  0 23]\n",
      " [ 0 12  8 ...  0  0 35]\n",
      " ...\n",
      " [ 0  0  0 ...  0  0  0]\n",
      " [ 0  0  0 ...  0  0  0]\n",
      " [ 0 23 35 ...  0  0  0]]\n",
      "yeast E matr. sum: 2156\n"
     ]
    }
   ],
   "source": [
    "print('yeast E matrix shape:',yeast_E_matr.shape);\n",
    "print('yeast E matr.:\\n',yeast_E_matr);\n",
    "print('yeast E matr. sum:',sum(sum(yeast_E_matr)));"
   ]
  },
  {
   "cell_type": "markdown",
   "metadata": {},
   "source": [
    "Same for the **e** matrix:"
   ]
  },
  {
   "cell_type": "code",
   "execution_count": 11,
   "metadata": {},
   "outputs": [
    {
     "name": "stdout",
     "output_type": "stream",
     "text": [
      "yeast e matrix shape: (72, 72)\n",
      "yeast e matr.:\n",
      " [[0.         0.         0.         ... 0.         0.         0.        ]\n",
      " [0.         0.00556586 0.00556586 ... 0.         0.         0.0106679 ]\n",
      " [0.         0.00556586 0.00371058 ... 0.         0.         0.01623377]\n",
      " ...\n",
      " [0.         0.         0.         ... 0.         0.         0.        ]\n",
      " [0.         0.         0.         ... 0.         0.         0.        ]\n",
      " [0.         0.0106679  0.01623377 ... 0.         0.         0.        ]]\n",
      "yeast e matr. sum: 1.0000000000000002\n"
     ]
    }
   ],
   "source": [
    "print('yeast e matrix shape:',yeast_e_matr.shape);\n",
    "print('yeast e matr.:\\n',yeast_e_matr);\n",
    "print('yeast e matr. sum:',sum(sum(yeast_e_matr)));"
   ]
  },
  {
   "cell_type": "markdown",
   "metadata": {},
   "source": [
    "Seems to work fine, let's prepare the matrices for the FIFA network as well."
   ]
  },
  {
   "cell_type": "code",
   "execution_count": 12,
   "metadata": {},
   "outputs": [],
   "source": [
    "FIFA_E_matr,FIFA_e_matr = Prepare_Ee_matrices(FIFA_net);"
   ]
  },
  {
   "cell_type": "markdown",
   "metadata": {},
   "source": [
    "## Heatmap from the E and e matrices\n",
    "\n",
    "Luckily, it is very easy to make a 2d heatmap of the matrices using pyplot."
   ]
  },
  {
   "cell_type": "code",
   "execution_count": 14,
   "metadata": {},
   "outputs": [
    {
     "data": {
      "text/plain": [
       "<Figure size 432x288 with 0 Axes>"
      ]
     },
     "metadata": {},
     "output_type": "display_data"
    },
    {
     "data": {
      "image/png": "[encoded data removed]",
      "text/plain": [
       "<Figure size 1080x720 with 2 Axes>"
      ]
     },
     "metadata": {
      "needs_background": "light"
     },
     "output_type": "display_data"
    }
   ],
   "source": [
    "plt.clf();\n",
    "f, axs = plt.subplots(2,2,figsize=(15,10))\n",
    "plt.subplot(121);\n",
    "plt.imshow(yeast_E_matr,cmap = 'viridis');\n",
    "plt.xlabel('$k_1$');\n",
    "plt.ylabel('$k_2$');\n",
    "plt.title('The yeast $E$ matrix.')\n",
    "#plt.colorbar();\n",
    "\n",
    "plt.subplot(122);\n",
    "plt.imshow(yeast_e_matr,cmap = 'plasma');\n",
    "plt.xlabel('$k_1$');\n",
    "plt.ylabel('$k_2$');\n",
    "plt.title('The yeast $e$ matrix.')\n",
    "#plt.colorbar();\n",
    "plt.show();"
   ]
  },
  {
   "cell_type": "markdown",
   "metadata": {},
   "source": [
    "Actually, it is much more interesting to compare the **e** matrices for the yeast and the FIFA network:"
   ]
  },
  {
   "cell_type": "code",
   "execution_count": 17,
   "metadata": {},
   "outputs": [
    {
     "data": {
      "text/plain": [
       "<Figure size 432x288 with 0 Axes>"
      ]
     },
     "metadata": {},
     "output_type": "display_data"
    },
    {
     "data": {
      "image/png": "[encoded data removed]",
      "text/plain": [
       "<Figure size 1080x720 with 2 Axes>"
      ]
     },
     "metadata": {
      "needs_background": "light"
     },
     "output_type": "display_data"
    }
   ],
   "source": [
    "plt.clf();\n",
    "f, axs = plt.subplots(2,2,figsize=(15,10))\n",
    "plt.subplot(121);\n",
    "plt.imshow(yeast_e_matr,cmap = 'viridis');\n",
    "plt.xlabel('$k_1$');\n",
    "plt.ylabel('$k_2$');\n",
    "plt.title('The yeast $e$ matrix.')\n",
    "#plt.colorbar();\n",
    "\n",
    "plt.subplot(122);\n",
    "plt.imshow(FIFA_e_matr,cmap = 'viridis');\n",
    "plt.xlabel('$k_1$');\n",
    "plt.ylabel('$k_2$');\n",
    "plt.title('The FIFA $e$ matrix.')\n",
    "#plt.colorbar();\n",
    "plt.show();"
   ]
  },
  {
   "cell_type": "markdown",
   "metadata": {},
   "source": [
    "## Calculating the neutral e matrix\n",
    "\n",
    "The **e** matrix corresponding to a neutral network with the same size and degree distribution can be obtained by first calculating the row (or column) sums $q_i = \\sum_j e_{ij}$ and then preparing a matrix where the entries are simply the products of the corresponding $q$ values, i.e., $$e^{\\rm (neut)}_{ij} =q_i\\cdot q_j$$"
   ]
  },
  {
   "cell_type": "code",
   "execution_count": 35,
   "metadata": {},
   "outputs": [],
   "source": [
    "def Prepare_neutral_matrix(network):\n",
    "    max_degree = max([network.degree(node) for node in network.nodes]);   # the maximum degree in the network.\n",
    "    E_matr = np.zeros(shape = (max_degree+1,max_degree+1),dtype = int);   # a matrix full of zeros.\n",
    "    for node1 in network.nodes:\n",
    "        k1 = network.degree(node1);\n",
    "        for node2 in network.neighbors(node1):\n",
    "            k2 = network.degree(node2);                                   # note that no 'extra' care is needed\n",
    "            E_matr[k1,k2] += 1;                                           # for the diagonal elements.\n",
    "            \n",
    "    e_matr = np.zeros(shape = (max_degree+1,max_degree+1),dtype = float);\n",
    "    for k1 in range(0,max_degree+1):\n",
    "        for k2 in range(0,max_degree+1):\n",
    "            e_matr[k1,k2] = E_matr[k1,k2]/(2.0*network.number_of_edges());\n",
    "    \n",
    "    q_i = np.zeros(shape = (max_degree+1,), dtype = float);\n",
    "    for k1 in range(0,max_degree+1):\n",
    "        for k2 in range(0,max_degree+1):\n",
    "            q_i[k1] += e_matr[k1,k2];\n",
    "    \n",
    "    q_j = np.zeros(shape = (max_degree+1,), dtype = float);\n",
    "    for k1 in range(0,max_degree+1):\n",
    "        for k2 in range(0,max_degree+1):\n",
    "            q_j[k2] += e_matr[k2,k1];\n",
    "    \n",
    "    e_matr_neutral = np.zeros(shape = (max_degree+1,max_degree+1),dtype = float);\n",
    "    for k1 in range(0,max_degree+1):\n",
    "        for k2 in range(0,max_degree+1):\n",
    "            e_matr_neutral[k1][k2] = q_i[k1]*q_j[k2];\n",
    "    \n",
    "    return e_matr_neutral"
   ]
  },
  {
   "cell_type": "code",
   "execution_count": 36,
   "metadata": {},
   "outputs": [],
   "source": [
    "FIFA_e_matr_neutral = Prepare_neutral_matrix(FIFA_net);"
   ]
  },
  {
   "cell_type": "code",
   "execution_count": 37,
   "metadata": {},
   "outputs": [
    {
     "name": "stdout",
     "output_type": "stream",
     "text": [
      "neutral e matrix shape: (118, 118)\n",
      "neutral e matr.:\n",
      " [[0.         0.         0.         ... 0.         0.         0.        ]\n",
      " [0.         0.         0.         ... 0.         0.         0.        ]\n",
      " [0.         0.         0.         ... 0.         0.         0.        ]\n",
      " ...\n",
      " [0.         0.         0.         ... 0.         0.         0.        ]\n",
      " [0.         0.         0.         ... 0.         0.         0.        ]\n",
      " [0.         0.         0.         ... 0.         0.         0.00011235]]\n",
      "neutral e matr. sum: 0.9194538824445984\n"
     ]
    }
   ],
   "source": [
    "print('neutral e matrix shape:',FIFA_e_matr_neutral.shape);\n",
    "print('neutral e matr.:\\n',FIFA_e_matr_neutral);\n",
    "print('neutral e matr. sum:',sum(sum(FIFA_e_matr_neutral)));"
   ]
  },
  {
   "cell_type": "code",
   "execution_count": 42,
   "metadata": {},
   "outputs": [
    {
     "data": {
      "text/plain": [
       "<Figure size 432x288 with 0 Axes>"
      ]
     },
     "metadata": {},
     "output_type": "display_data"
    },
    {
     "data": {
      "image/png": "[encoded data removed]",
      "text/plain": [
       "<Figure size 1080x720 with 2 Axes>"
      ]
     },
     "metadata": {
      "needs_background": "light"
     },
     "output_type": "display_data"
    }
   ],
   "source": [
    "plt.clf();\n",
    "f, axs = plt.subplots(2,2,figsize=(15,10))\n",
    "plt.subplot(121);\n",
    "plt.imshow(yeast_e_matr_neutral,cmap = 'viridis');\n",
    "plt.xlabel('$k_1$');\n",
    "plt.ylabel('$k_2$');\n",
    "plt.title('The yeast $e$ neutral matrix.')\n",
    "#plt.colorbar();\n",
    "\n",
    "plt.subplot(122);\n",
    "plt.imshow(FIFA_e_matr_neutral,cmap = 'viridis');\n",
    "plt.xlabel('$k_1$');\n",
    "plt.ylabel('$k_2$');\n",
    "plt.title('The FIFA $e$ neutral matrix.')\n",
    "#plt.colorbar();\n",
    "plt.show();"
   ]
  },
  {
   "cell_type": "code",
   "execution_count": 40,
   "metadata": {},
   "outputs": [],
   "source": [
    "yeast_e_matr_neutral = Prepare_neutral_matrix(yeast_net);"
   ]
  },
  {
   "cell_type": "code",
   "execution_count": 43,
   "metadata": {},
   "outputs": [
    {
     "data": {
      "text/plain": [
       "<Figure size 432x288 with 0 Axes>"
      ]
     },
     "metadata": {},
     "output_type": "display_data"
    },
    {
     "data": {
      "image/png": "[encoded data removed]",
      "text/plain": [
       "<Figure size 1080x720 with 2 Axes>"
      ]
     },
     "metadata": {
      "needs_background": "light"
     },
     "output_type": "display_data"
    }
   ],
   "source": [
    "plt.clf();\n",
    "f, axs = plt.subplots(2,2,figsize=(15,10))\n",
    "plt.subplot(121);\n",
    "plt.imshow(yeast_e_matr,cmap = 'viridis');\n",
    "plt.xlabel('$k_1$');\n",
    "plt.ylabel('$k_2$');\n",
    "plt.title('The yeast $e$ matrix.')\n",
    "#plt.colorbar();\n",
    "\n",
    "plt.subplot(122);\n",
    "plt.imshow(yeast_e_matr_neutral,cmap = 'viridis');\n",
    "plt.xlabel('$k_1$');\n",
    "plt.ylabel('$k_2$');\n",
    "plt.title('The yeast $e$ neutral matrix.')\n",
    "#plt.colorbar();\n",
    "plt.show();"
   ]
  },
  {
   "cell_type": "code",
   "execution_count": 44,
   "metadata": {},
   "outputs": [
    {
     "data": {
      "text/plain": [
       "<Figure size 432x288 with 0 Axes>"
      ]
     },
     "metadata": {},
     "output_type": "display_data"
    },
    {
     "data": {
      "image/png": "[encoded data removed]",
      "text/plain": [
       "<Figure size 1080x720 with 2 Axes>"
      ]
     },
     "metadata": {
      "needs_background": "light"
     },
     "output_type": "display_data"
    }
   ],
   "source": [
    "plt.clf();\n",
    "f, axs = plt.subplots(2,2,figsize=(15,10))\n",
    "plt.subplot(121);\n",
    "plt.imshow(FIFA_e_matr,cmap = 'viridis');\n",
    "plt.xlabel('$k_1$');\n",
    "plt.ylabel('$k_2$');\n",
    "plt.title('The FIFA $e$ matrix.')\n",
    "#plt.colorbar();\n",
    "\n",
    "plt.subplot(122);\n",
    "plt.imshow(FIFA_e_matr_neutral,cmap = 'viridis');\n",
    "plt.xlabel('$k_1$');\n",
    "plt.ylabel('$k_2$');\n",
    "plt.title('The FIFA $e$ neutral matrix.')\n",
    "#plt.colorbar();\n",
    "plt.show();"
   ]
  },
  {
   "cell_type": "code",
   "execution_count": null,
   "metadata": {},
   "outputs": [],
   "source": []
  }
 ],
 "metadata": {
  "kernelspec": {
   "display_name": "Python 3",
   "language": "python",
   "name": "python3"
  },
  "language_info": {
   "codemirror_mode": {
    "name": "ipython",
    "version": 3
   },
   "file_extension": ".py",
   "mimetype": "text/x-python",
   "name": "python",
   "nbconvert_exporter": "python",
   "pygments_lexer": "ipython3",
   "version": "3.7.4"
  }
 },
 "nbformat": 4,
 "nbformat_minor": 2
}
