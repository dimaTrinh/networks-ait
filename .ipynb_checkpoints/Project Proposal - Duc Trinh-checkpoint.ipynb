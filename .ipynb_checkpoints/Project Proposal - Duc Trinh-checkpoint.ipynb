{
 "cells": [
  {
   "cell_type": "markdown",
   "metadata": {},
   "source": [
    "# Project Proposal - Duc Trinh"
   ]
  },
  {
   "cell_type": "markdown",
   "metadata": {},
   "source": [
    "## Topic "
   ]
  },
  {
   "cell_type": "markdown",
   "metadata": {},
   "source": [
    "Study the percolation transition of the E-R graph numerically. How\n",
    "does the size of the largest connected component scale with the system\n",
    "size at the critical point? How does the size of the largest connected\n",
    "component grow with $p$ at the critical point?\n",
    "In the presentation show pictures of the generated graphs both below\n",
    "and above the critical point, and also figures revealing the scaling of the largest connected component at $p_{c}$."
   ]
  },
  {
   "cell_type": "markdown",
   "metadata": {},
   "source": [
    "## Outline "
   ]
  },
  {
   "cell_type": "markdown",
   "metadata": {},
   "source": [
    "## Code"
   ]
  },
  {
   "cell_type": "code",
   "execution_count": null,
   "metadata": {},
   "outputs": [],
   "source": []
  }
 ],
 "metadata": {
  "kernelspec": {
   "display_name": "Python 3",
   "language": "python",
   "name": "python3"
  },
  "language_info": {
   "codemirror_mode": {
    "name": "ipython",
    "version": 3
   },
   "file_extension": ".py",
   "mimetype": "text/x-python",
   "name": "python",
   "nbconvert_exporter": "python",
   "pygments_lexer": "ipython3",
   "version": "3.8.1"
  }
 },
 "nbformat": 4,
 "nbformat_minor": 4
}
