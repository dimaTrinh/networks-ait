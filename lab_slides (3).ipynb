{
 "cells": [
  {
   "cell_type": "markdown",
   "metadata": {
    "slideshow": {
     "slide_type": "slide"
    }
   },
   "source": [
    "# Python scripting for network analysis — III\n",
    "Lab session on March 5th"
   ]
  },
  {
   "cell_type": "code",
   "execution_count": 1,
   "metadata": {
    "slideshow": {
     "slide_type": "skip"
    }
   },
   "outputs": [],
   "source": [
    "import warnings\n",
    "import matplotlib.cbook\n",
    "warnings.filterwarnings(\"ignore\",category=matplotlib.cbook.mplDeprecation)"
   ]
  },
  {
   "cell_type": "markdown",
   "metadata": {
    "slideshow": {
     "slide_type": "slide"
    }
   },
   "source": [
    "# Homework review"
   ]
  },
  {
   "cell_type": "markdown",
   "metadata": {
    "slideshow": {
     "slide_type": "slide"
    }
   },
   "source": [
    "# Homework: ring & shortcuts network\n",
    "\n",
    "We construct the following network:\n",
    "1. ring of $N$ nodes with first and second neighbor connections\n",
    "1. add $N/2$ shortcuts (additional edges) at random\n",
    "\n",
    "Question: what is the average clustering coefficient of this network as $N \\to \\infty$?"
   ]
  },
  {
   "cell_type": "markdown",
   "metadata": {
    "slideshow": {
     "slide_type": "subslide"
    }
   },
   "source": [
    "1. Generate network\n",
    "1. Measure quantity (average clustering)\n",
    "1. Estimate for $N \\to \\infty$"
   ]
  },
  {
   "cell_type": "markdown",
   "metadata": {
    "slideshow": {
     "slide_type": "slide"
    }
   },
   "source": [
    "# Generate network\n",
    "\n",
    "1. Start with ring\n",
    "1. Add shortcuts"
   ]
  },
  {
   "cell_type": "code",
   "execution_count": 2,
   "metadata": {
    "slideshow": {
     "slide_type": "subslide"
    }
   },
   "outputs": [],
   "source": [
    "import networkx\n",
    "import matplotlib.pyplot as plt\n",
    "\n",
    "def ring_network(N):\n",
    "    g = networkx.Graph()\n",
    "    for i in range(N):\n",
    "        g.add_edge(i, (i+1)%N)\n",
    "        g.add_edge(i, (i+2)%N)\n",
    "    return g"
   ]
  },
  {
   "cell_type": "code",
   "execution_count": 3,
   "metadata": {
    "slideshow": {
     "slide_type": "fragment"
    }
   },
   "outputs": [],
   "source": [
    "import random\n",
    "def add_shortcuts_first_try(graph):\n",
    "    nodes = list(graph.nodes())\n",
    "    for i in range(int(len(nodes)/2)):\n",
    "        node_a = random.choice(nodes)\n",
    "        node_b = random.choice(nodes)\n",
    "        graph.add_edge(node_a, node_b)\n",
    "    return graph"
   ]
  },
  {
   "cell_type": "code",
   "execution_count": 4,
   "metadata": {},
   "outputs": [
    {
     "name": "stdout",
     "output_type": "stream",
     "text": [
      "10 24\n",
      "10 22\n",
      "10 21\n",
      "10 23\n",
      "10 22\n",
      "10 23\n",
      "10 24\n",
      "10 22\n",
      "10 24\n",
      "10 21\n"
     ]
    }
   ],
   "source": [
    "for i in range(10):\n",
    "    g = add_shortcuts_first_try(ring_network(10))\n",
    "    print(g.number_of_nodes(), g.number_of_edges())"
   ]
  },
  {
   "cell_type": "code",
   "execution_count": 5,
   "metadata": {
    "slideshow": {
     "slide_type": "subslide"
    }
   },
   "outputs": [
    {
     "name": "stdout",
     "output_type": "stream",
     "text": [
      "10 25\n",
      "10 25\n",
      "10 25\n",
      "10 25\n",
      "10 25\n",
      "10 25\n",
      "10 25\n",
      "10 25\n",
      "10 25\n",
      "10 25\n"
     ]
    }
   ],
   "source": [
    "import random\n",
    "def add_shortcuts(graph):\n",
    "    if graph.number_of_nodes() < 6:\n",
    "        raise ValueError(\"network is too small!\")\n",
    "    nodes = list(graph.nodes())\n",
    "    for i in range(int(len(nodes)/2)):\n",
    "        node_a = random.choice(nodes)\n",
    "        node_b = random.choice(nodes)\n",
    "        while graph.has_edge(node_a, node_b) or node_a == node_b:\n",
    "            node_a = random.choice(nodes)\n",
    "            node_b = random.choice(nodes)   \n",
    "        graph.add_edge(node_a, node_b)\n",
    "    return graph\n",
    "\n",
    "for i in range(10):\n",
    "    g = add_shortcuts(ring_network(10))\n",
    "    print(g.number_of_nodes(), g.number_of_edges())"
   ]
  },
  {
   "cell_type": "markdown",
   "metadata": {
    "slideshow": {
     "slide_type": "subslide"
    }
   },
   "source": [
    "# Estimating $N \\to \\infty$"
   ]
  },
  {
   "cell_type": "code",
   "execution_count": 6,
   "metadata": {
    "slideshow": {
     "slide_type": "-"
    }
   },
   "outputs": [
    {
     "data": {
      "text/plain": [
       "0.5809523809523809"
      ]
     },
     "execution_count": 6,
     "metadata": {},
     "output_type": "execute_result"
    }
   ],
   "source": [
    "networkx.average_clustering(add_shortcuts(ring_network(10)))"
   ]
  },
  {
   "cell_type": "code",
   "execution_count": 7,
   "metadata": {},
   "outputs": [
    {
     "data": {
      "text/plain": [
       "0.35037301587301584"
      ]
     },
     "execution_count": 7,
     "metadata": {},
     "output_type": "execute_result"
    }
   ],
   "source": [
    "networkx.average_clustering(add_shortcuts(ring_network(100)))"
   ]
  },
  {
   "cell_type": "code",
   "execution_count": 8,
   "metadata": {},
   "outputs": [
    {
     "data": {
      "text/plain": [
       "0.34191382900428413"
      ]
     },
     "execution_count": 8,
     "metadata": {},
     "output_type": "execute_result"
    }
   ],
   "source": [
    "networkx.average_clustering(add_shortcuts(ring_network(100000)))"
   ]
  },
  {
   "cell_type": "markdown",
   "metadata": {
    "slideshow": {
     "slide_type": "subslide"
    }
   },
   "source": [
    "# Make convincing!"
   ]
  },
  {
   "cell_type": "code",
   "execution_count": 9,
   "metadata": {},
   "outputs": [
    {
     "data": {
      "text/plain": [
       "[<matplotlib.lines.Line2D at 0x7fd911baeb00>]"
      ]
     },
     "execution_count": 9,
     "metadata": {},
     "output_type": "execute_result"
    },
    {
     "data": {
      "image/png": "[encoded data removed]",
      "text/plain": [
       "<Figure size 432x288 with 1 Axes>"
      ]
     },
     "metadata": {
      "needs_background": "light"
     },
     "output_type": "display_data"
    }
   ],
   "source": [
    "N_values = [10,20,50,100,200,500, 1000, 2000,5000]\n",
    "values = [networkx.average_clustering(add_shortcuts(ring_network(N))) for N in N_values]\n",
    "plt.plot(N_values, values)"
   ]
  },
  {
   "cell_type": "code",
   "execution_count": 10,
   "metadata": {},
   "outputs": [
    {
     "data": {
      "text/plain": [
       "[0.5733333333333335,\n",
       " 0.446904761904762,\n",
       " 0.3600000000000002,\n",
       " 0.3610714285714285,\n",
       " 0.3417619047619043,\n",
       " 0.3446460317460319,\n",
       " 0.34065000000000134,\n",
       " 0.3421999999999986,\n",
       " 0.34251857142856473]"
      ]
     },
     "execution_count": 10,
     "metadata": {},
     "output_type": "execute_result"
    }
   ],
   "source": [
    "values"
   ]
  },
  {
   "cell_type": "markdown",
   "metadata": {
    "slideshow": {
     "slide_type": "subslide"
    }
   },
   "source": [
    "# State the result!"
   ]
  },
  {
   "cell_type": "markdown",
   "metadata": {
    "slideshow": {
     "slide_type": "fragment"
    }
   },
   "source": [
    "* in this case, for example: \"the average clustering as $N \\to \\infty$ is between 0.340 and 0.342\"\n",
    "* specifying interval allows showing the uncertainty of the estimate"
   ]
  },
  {
   "cell_type": "markdown",
   "metadata": {
    "slideshow": {
     "slide_type": "slide"
    }
   },
   "source": [
    "# Does our result match the theoretical estimate?"
   ]
  },
  {
   "cell_type": "markdown",
   "metadata": {
    "slideshow": {
     "slide_type": "fragment"
    }
   },
   "source": [
    "* theoretical estimate was 0.3\n",
    "* this is outside the range of our estimate (\"between 0.340 and 0.342\"), thus the two results don't match"
   ]
  },
  {
   "cell_type": "markdown",
   "metadata": {
    "slideshow": {
     "slide_type": "slide"
    }
   },
   "source": [
    "# What causes the discrepancy?"
   ]
  },
  {
   "cell_type": "markdown",
   "metadata": {
    "slideshow": {
     "slide_type": "fragment"
    }
   },
   "source": [
    "* Is it the approximation done for the theoretical estimate? (that we ignore triangles created by the shortcut edges)"
   ]
  },
  {
   "cell_type": "code",
   "execution_count": 11,
   "metadata": {},
   "outputs": [
    {
     "data": {
      "text/plain": [
       "100.0"
      ]
     },
     "execution_count": 11,
     "metadata": {},
     "output_type": "execute_result"
    }
   ],
   "source": [
    "sum(networkx.triangles(ring_network(100)).values())/3.0"
   ]
  },
  {
   "cell_type": "code",
   "execution_count": 12,
   "metadata": {},
   "outputs": [
    {
     "data": {
      "text/plain": [
       "105.0"
      ]
     },
     "execution_count": 12,
     "metadata": {},
     "output_type": "execute_result"
    }
   ],
   "source": [
    "sum(networkx.triangles(add_shortcuts(ring_network(100))).values())/3.0"
   ]
  },
  {
   "cell_type": "code",
   "execution_count": 13,
   "metadata": {},
   "outputs": [],
   "source": [
    "def additional_triangles2(N):\n",
    "    return sum(networkx.triangles(add_shortcuts(ring_network(N))).values())/3.0 - sum(networkx.triangles(ring_network(N)).values())/3.0"
   ]
  },
  {
   "cell_type": "code",
   "execution_count": 14,
   "metadata": {},
   "outputs": [
    {
     "data": {
      "text/plain": [
       "5.0"
      ]
     },
     "execution_count": 14,
     "metadata": {},
     "output_type": "execute_result"
    }
   ],
   "source": [
    "additional_triangles2(100)"
   ]
  },
  {
   "cell_type": "code",
   "execution_count": 15,
   "metadata": {},
   "outputs": [
    {
     "data": {
      "text/plain": [
       "6.0"
      ]
     },
     "execution_count": 15,
     "metadata": {},
     "output_type": "execute_result"
    }
   ],
   "source": [
    "additional_triangles2(100000)"
   ]
  },
  {
   "cell_type": "markdown",
   "metadata": {
    "slideshow": {
     "slide_type": "subslide"
    }
   },
   "source": [
    "# What causes the discrepancy?\n",
    "* We are calculating an average, which is doing something strange. A important lession about statistical quantities:"
   ]
  },
  {
   "cell_type": "markdown",
   "metadata": {
    "slideshow": {
     "slide_type": "subslide"
    }
   },
   "source": [
    "# Anscombe's quartet\n",
    "\n",
    "* 11 (x,y) datapoints\n",
    "* Mean & variance of x match exactly\n",
    "* Mean & variance of y, correlation between x & y, fitted line (linear regression) match to at least 2 decimal places"
   ]
  },
  {
   "cell_type": "markdown",
   "metadata": {
    "slideshow": {
     "slide_type": "fragment"
    }
   },
   "source": [
    "<center><img src=\"Anscombe's_quartet.png\" style=\"width:25%;\"></center>"
   ]
  },
  {
   "cell_type": "markdown",
   "metadata": {
    "slideshow": {
     "slide_type": "subslide"
    }
   },
   "source": [
    "# Even better: Datasaurus\n",
    "<center><img src=\"Datasaurus.gif\" style=\"width:75%;\"></center>\n",
    "https://www.autodeskresearch.com/publications/samestats"
   ]
  },
  {
   "cell_type": "markdown",
   "metadata": {
    "slideshow": {
     "slide_type": "subslide"
    }
   },
   "source": [
    "# Let's look at what we are averaging!"
   ]
  },
  {
   "cell_type": "code",
   "execution_count": 16,
   "metadata": {},
   "outputs": [
    {
     "data": {
      "image/png": "[encoded data removed]",
      "text/plain": [
       "<Figure size 432x288 with 1 Axes>"
      ]
     },
     "metadata": {
      "needs_background": "light"
     },
     "output_type": "display_data"
    }
   ],
   "source": [
    "_ = plt.hist(list(networkx.clustering(add_shortcuts(ring_network(100))).values()), bins=100)"
   ]
  },
  {
   "cell_type": "code",
   "execution_count": 17,
   "metadata": {},
   "outputs": [
    {
     "data": {
      "image/png": "[encoded data removed]",
      "text/plain": [
       "<Figure size 432x288 with 1 Axes>"
      ]
     },
     "metadata": {
      "needs_background": "light"
     },
     "output_type": "display_data"
    }
   ],
   "source": [
    "_ = plt.hist(list(dict(networkx.degree(add_shortcuts(ring_network(100)))).values()), bins=100)"
   ]
  },
  {
   "cell_type": "code",
   "execution_count": 18,
   "metadata": {},
   "outputs": [
    {
     "data": {
      "image/png": "[encoded data removed]",
      "text/plain": [
       "<Figure size 432x288 with 1 Axes>"
      ]
     },
     "metadata": {
      "needs_background": "light"
     },
     "output_type": "display_data"
    }
   ],
   "source": [
    "_ = plt.hist(list(dict(networkx.degree(add_shortcuts(ring_network(10000)))).values()), bins=100)"
   ]
  },
  {
   "cell_type": "markdown",
   "metadata": {
    "slideshow": {
     "slide_type": "slide"
    }
   },
   "source": [
    "# Are we sure this explains the discrepancy?\n",
    "\n",
    "* There is some difference between the two methods, but there might be others\n",
    "* How can we check? → Homework assignment"
   ]
  },
  {
   "cell_type": "markdown",
   "metadata": {
    "slideshow": {
     "slide_type": "slide"
    }
   },
   "source": [
    "# Calculating at a fixed $N$\n",
    "* Given N, what is the average clustering coefficient of these networks?\n",
    "\n",
    "One possible way to calculate: generate a single network, and use that:"
   ]
  },
  {
   "cell_type": "code",
   "execution_count": 19,
   "metadata": {},
   "outputs": [
    {
     "data": {
      "text/plain": [
       "0.3421695238095362"
      ]
     },
     "execution_count": 19,
     "metadata": {},
     "output_type": "execute_result"
    }
   ],
   "source": [
    "networkx.average_clustering(add_shortcuts(ring_network(10000)))"
   ]
  },
  {
   "cell_type": "markdown",
   "metadata": {},
   "source": [
    "Obviously, we shouldn't use a single network for the estimate, but re-run it a few times:"
   ]
  },
  {
   "cell_type": "code",
   "execution_count": 20,
   "metadata": {},
   "outputs": [
    {
     "data": {
      "text/plain": [
       "0.3423485064935197"
      ]
     },
     "execution_count": 20,
     "metadata": {},
     "output_type": "execute_result"
    }
   ],
   "source": [
    "networkx.average_clustering(add_shortcuts(ring_network(10000)))"
   ]
  },
  {
   "cell_type": "code",
   "execution_count": 21,
   "metadata": {},
   "outputs": [
    {
     "data": {
      "text/plain": [
       "0.341968686868699"
      ]
     },
     "execution_count": 21,
     "metadata": {},
     "output_type": "execute_result"
    }
   ],
   "source": [
    "networkx.average_clustering(add_shortcuts(ring_network(10000)))"
   ]
  },
  {
   "cell_type": "markdown",
   "metadata": {},
   "source": [
    "Even better, we can calculate an average of these:"
   ]
  },
  {
   "cell_type": "code",
   "execution_count": 22,
   "metadata": {},
   "outputs": [],
   "source": [
    "values = [networkx.average_clustering(add_shortcuts(ring_network(10000))) for i in range(10)]"
   ]
  },
  {
   "cell_type": "code",
   "execution_count": 23,
   "metadata": {},
   "outputs": [],
   "source": [
    "def avg(values):\n",
    "    return sum(values) / len(values)"
   ]
  },
  {
   "cell_type": "code",
   "execution_count": 24,
   "metadata": {},
   "outputs": [
    {
     "data": {
      "text/plain": [
       "0.34188237373738656"
      ]
     },
     "execution_count": 24,
     "metadata": {},
     "output_type": "execute_result"
    }
   ],
   "source": [
    "avg([networkx.average_clustering(add_shortcuts(ring_network(10000))) for i in range(10)])"
   ]
  },
  {
   "cell_type": "markdown",
   "metadata": {},
   "source": [
    "And re-run this average calculation, as well:"
   ]
  },
  {
   "cell_type": "code",
   "execution_count": 25,
   "metadata": {},
   "outputs": [
    {
     "data": {
      "text/plain": [
       "0.34203490620491894"
      ]
     },
     "execution_count": 25,
     "metadata": {},
     "output_type": "execute_result"
    }
   ],
   "source": [
    "avg([networkx.average_clustering(add_shortcuts(ring_network(10000))) for i in range(10)])"
   ]
  },
  {
   "cell_type": "code",
   "execution_count": 26,
   "metadata": {},
   "outputs": [
    {
     "data": {
      "text/plain": [
       "0.3416269784104916"
      ]
     },
     "execution_count": 26,
     "metadata": {},
     "output_type": "execute_result"
    }
   ],
   "source": [
    "avg([networkx.average_clustering(add_shortcuts(ring_network(10000))) for i in range(10)])"
   ]
  },
  {
   "cell_type": "markdown",
   "metadata": {},
   "source": [
    "Of course, then we have the same problem as above -- do we average these averages? And then average those as well?\n",
    "\n",
    "A better approach: show how our estimate changes as we use larger and larger number of networks -- this is essentially the same as we did for estimating for $N \\to \\infty$."
   ]
  },
  {
   "cell_type": "code",
   "execution_count": 27,
   "metadata": {},
   "outputs": [
    {
     "data": {
      "text/plain": [
       "[<matplotlib.lines.Line2D at 0x7fd90b419278>]"
      ]
     },
     "execution_count": 27,
     "metadata": {},
     "output_type": "execute_result"
    },
    {
     "data": {
      "image/png": "[encoded data removed]",
      "text/plain": [
       "<Figure size 432x288 with 1 Axes>"
      ]
     },
     "metadata": {
      "needs_background": "light"
     },
     "output_type": "display_data"
    }
   ],
   "source": [
    "S_values = [3,5,10,15,20,50]\n",
    "values = [avg([networkx.average_clustering(add_shortcuts(ring_network(10000))) for i in range(S)]) for S in S_values]\n",
    "plt.plot(S_values, values)"
   ]
  },
  {
   "cell_type": "markdown",
   "metadata": {},
   "source": [
    "Note that there is an even better way to do this: we don't need to generate a lot of new networks for every datapoint. Instead, we generate a single list of values, and then take successive averages of the first $n$ elements:"
   ]
  },
  {
   "cell_type": "code",
   "execution_count": 28,
   "metadata": {},
   "outputs": [],
   "source": [
    "values = [networkx.average_clustering(add_shortcuts(ring_network(10000))) for i in range(100)]"
   ]
  },
  {
   "cell_type": "code",
   "execution_count": 29,
   "metadata": {},
   "outputs": [],
   "source": [
    "averages = [avg(values[:S]) for S in range(3, len(values))]"
   ]
  },
  {
   "cell_type": "code",
   "execution_count": 30,
   "metadata": {},
   "outputs": [
    {
     "data": {
      "text/plain": [
       "[<matplotlib.lines.Line2D at 0x7fd91181c828>]"
      ]
     },
     "execution_count": 30,
     "metadata": {},
     "output_type": "execute_result"
    },
    {
     "data": {
      "image/png": "[encoded data removed]",
      "text/plain": [
       "<Figure size 432x288 with 1 Axes>"
      ]
     },
     "metadata": {
      "needs_background": "light"
     },
     "output_type": "display_data"
    }
   ],
   "source": [
    "plt.plot(averages)"
   ]
  },
  {
   "cell_type": "markdown",
   "metadata": {},
   "source": [
    "As before, we should specify our estimate, as an interval. In this case, that is: $0.34185$ to $0.34195$"
   ]
  },
  {
   "cell_type": "markdown",
   "metadata": {
    "slideshow": {
     "slide_type": "slide"
    }
   },
   "source": [
    "# An important aspect about the sample sizes we might need:\n",
    "* plotting the histogram of the values for different $N$ shows some interesting details:"
   ]
  },
  {
   "cell_type": "code",
   "execution_count": 31,
   "metadata": {},
   "outputs": [],
   "source": [
    "values_100 = [networkx.average_clustering(add_shortcuts(ring_network(100))) for i in range(1000)]"
   ]
  },
  {
   "cell_type": "code",
   "execution_count": 32,
   "metadata": {},
   "outputs": [],
   "source": [
    "values_50 = [networkx.average_clustering(add_shortcuts(ring_network(50))) for i in range(1000)]\n",
    "values_25 = [networkx.average_clustering(add_shortcuts(ring_network(25))) for i in range(1000)]\n",
    "values_10 = [networkx.average_clustering(add_shortcuts(ring_network(10))) for i in range(1000)]"
   ]
  },
  {
   "cell_type": "code",
   "execution_count": 33,
   "metadata": {},
   "outputs": [
    {
     "data": {
      "image/png": "[encoded data removed]",
      "text/plain": [
       "<Figure size 432x288 with 1 Axes>"
      ]
     },
     "metadata": {
      "needs_background": "light"
     },
     "output_type": "display_data"
    }
   ],
   "source": [
    "_ = plt.hist([values_100, values_50, values_25, values_10], bins=50, histtype='step')"
   ]
  },
  {
   "cell_type": "markdown",
   "metadata": {},
   "source": [
    "For each $N$, the histogram shows a bell-shaped curve, which is wider for smaller $N$ and much narrower for larger $N$. The center of the peak moves to the left as $N$ increases.\n",
    "\n",
    "Of these, the change in the width is a very general feature: most network quantites behave this way: using a larger network decreases the variance, which also lowers the required sample size (number of networks) needed for achieveing a given accuracy. The movement of the peak is specific to this problem, and this is the same as we have seen when plotting the convergence as a function of $N$ before."
   ]
  },
  {
   "cell_type": "markdown",
   "metadata": {
    "slideshow": {
     "slide_type": "slide"
    }
   },
   "source": [
    "# Some interesting features of the random module\n",
    "\n",
    "\n",
    "We have used or mentioned:"
   ]
  },
  {
   "cell_type": "code",
   "execution_count": 7,
   "metadata": {
    "slideshow": {
     "slide_type": "-"
    }
   },
   "outputs": [],
   "source": [
    "import random\n",
    "random.shuffle()\n",
    "random.choice()"
   ]
  },
  {
   "cell_type": "code",
   "execution_count": null,
   "metadata": {
    "slideshow": {
     "slide_type": "fragment"
    }
   },
   "outputs": [],
   "source": [
    "But there is also:"
   ]
  },
  {
   "cell_type": "code",
   "execution_count": 8,
   "metadata": {
    "slideshow": {
     "slide_type": "-"
    }
   },
   "outputs": [],
   "source": [
    "random.seed()"
   ]
  },
  {
   "cell_type": "markdown",
   "metadata": {
    "slideshow": {
     "slide_type": "subslide"
    }
   },
   "source": [
    "# An example for using random.seed():"
   ]
  },
  {
   "cell_type": "code",
   "execution_count": 9,
   "metadata": {},
   "outputs": [
    {
     "name": "stdout",
     "output_type": "stream",
     "text": [
      "0.6394267984578837\n",
      "0.025010755222666936\n",
      "0.27502931836911926\n"
     ]
    }
   ],
   "source": [
    "random.seed(42)\n",
    "print(random.random())\n",
    "print(random.random())\n",
    "print(random.random())"
   ]
  },
  {
   "cell_type": "code",
   "execution_count": 10,
   "metadata": {
    "slideshow": {
     "slide_type": "fragment"
    }
   },
   "outputs": [
    {
     "name": "stdout",
     "output_type": "stream",
     "text": [
      "0.6394267984578837\n",
      "0.025010755222666936\n",
      "0.27502931836911926\n"
     ]
    }
   ],
   "source": [
    "random.seed(42)\n",
    "print(random.random())\n",
    "print(random.random())\n",
    "print(random.random())"
   ]
  },
  {
   "cell_type": "markdown",
   "metadata": {},
   "source": [
    "Which means that we can generate the same random numbers again -- does this make sense?"
   ]
  },
  {
   "cell_type": "markdown",
   "metadata": {
    "slideshow": {
     "slide_type": "subslide"
    }
   },
   "source": [
    "<center><img src=\"xkcd_random_number.png\"></center>\n",
    "\n",
    "### From https://xkcd.com/221/"
   ]
  },
  {
   "cell_type": "markdown",
   "metadata": {
    "slideshow": {
     "slide_type": "subslide"
    }
   },
   "source": [
    "## John von Neumann: \"Anyone who attempts to generate random numbers by deterministic means is, of course, living in a state of sin.\""
   ]
  },
  {
   "cell_type": "markdown",
   "metadata": {
    "slideshow": {
     "slide_type": "subslide"
    }
   },
   "source": [
    "# Having random.seed()\n",
    "* is it a problem?\n",
    "* what is it good for?"
   ]
  },
  {
   "cell_type": "markdown",
   "metadata": {
    "slideshow": {
     "slide_type": "fragment"
    }
   },
   "source": [
    "* PRNG: Pseudo Random Number Generator"
   ]
  },
  {
   "cell_type": "markdown",
   "metadata": {
    "slideshow": {
     "slide_type": "subslide"
    }
   },
   "source": [
    "* PRNG has internal state, updating that internal state every time it is used\n",
    "* Starting point of internal state is set by seed()\n",
    "* PRNG shouldn't be used for cryptography -- attacker might guess internal state, breaking the encryption\n",
    "* Why can we use a PRNG for network analysis / simulation?"
   ]
  },
  {
   "cell_type": "markdown",
   "metadata": {
    "slideshow": {
     "slide_type": "subslide"
    }
   },
   "source": [
    "# What do we actually need?\n",
    "* Want to calculate average over a set of objects\n",
    "* Can't use all objects (like \"networks of size N\"), need to use a small sample to approximate\n",
    "* As long as sample is unbiased, it is fine if it is deterministic"
   ]
  },
  {
   "cell_type": "markdown",
   "metadata": {
    "slideshow": {
     "slide_type": "subslide"
    }
   },
   "source": [
    "# Also: random.getstate(), random.setstate()\n",
    "\n",
    "* Can't use random.seed() to get the current state of the PRNG -- need .getstate() for that\n",
    "* Note that random.getstate() returns a much larger state than a hash of an object, which seed() uses to initialize if not a number is passed in\n",
    "* seed() initializes in a small sub-space of the total possible states of the PRNG"
   ]
  },
  {
   "cell_type": "code",
   "execution_count": 12,
   "metadata": {},
   "outputs": [
    {
     "data": {
      "text/plain": [
       "(3,\n",
       " (2468570525,\n",
       "  44967195,\n",
       "  2667364560,\n",
       "  2449893699,\n",
       "  1652692239,\n",
       "  766678126,\n",
       "  273175325,\n",
       "  1513475390,\n",
       "  2407048223,\n",
       "  2326550691,\n",
       "  3055735416,\n",
       "  2487780036,\n",
       "  476975371,\n",
       "  81632736,\n",
       "  1598452444,\n",
       "  3338301038,\n",
       "  3898475993,\n",
       "  1749546629,\n",
       "  4084786842,\n",
       "  949316744,\n",
       "  2086501466,\n",
       "  4175211502,\n",
       "  3792229788,\n",
       "  1718685282,\n",
       "  2499662139,\n",
       "  4222931543,\n",
       "  3063257123,\n",
       "  910424605,\n",
       "  1400804300,\n",
       "  830603822,\n",
       "  3216023045,\n",
       "  2756927633,\n",
       "  3684278863,\n",
       "  3724968901,\n",
       "  332416530,\n",
       "  52016619,\n",
       "  2751489098,\n",
       "  1877715228,\n",
       "  1932382287,\n",
       "  3281876149,\n",
       "  3597828351,\n",
       "  330629843,\n",
       "  142483984,\n",
       "  1379430288,\n",
       "  83784318,\n",
       "  2266112133,\n",
       "  1736800492,\n",
       "  3746267091,\n",
       "  2610492607,\n",
       "  2079803227,\n",
       "  3463890091,\n",
       "  615297649,\n",
       "  2445958069,\n",
       "  138783768,\n",
       "  741209753,\n",
       "  3721915402,\n",
       "  2027708325,\n",
       "  4005341927,\n",
       "  2093884772,\n",
       "  119215273,\n",
       "  551524651,\n",
       "  3739622759,\n",
       "  3782730527,\n",
       "  404717681,\n",
       "  321534867,\n",
       "  1286801508,\n",
       "  1706479953,\n",
       "  2882329788,\n",
       "  1029701930,\n",
       "  2373551443,\n",
       "  3296995744,\n",
       "  468358352,\n",
       "  746091816,\n",
       "  4096927057,\n",
       "  641317208,\n",
       "  2423816852,\n",
       "  662051236,\n",
       "  1347945045,\n",
       "  744683282,\n",
       "  3532103569,\n",
       "  3323996770,\n",
       "  674188488,\n",
       "  2147579353,\n",
       "  4002509157,\n",
       "  1635774310,\n",
       "  2870381986,\n",
       "  1633495405,\n",
       "  3350196287,\n",
       "  225215418,\n",
       "  1170120648,\n",
       "  915993856,\n",
       "  814856433,\n",
       "  196876581,\n",
       "  2157558451,\n",
       "  3897838842,\n",
       "  3150173549,\n",
       "  626324766,\n",
       "  2067876245,\n",
       "  2163845165,\n",
       "  4042368565,\n",
       "  1376677108,\n",
       "  1262248675,\n",
       "  2205442378,\n",
       "  3993334766,\n",
       "  9743238,\n",
       "  2593325684,\n",
       "  2920379669,\n",
       "  1534455130,\n",
       "  3818766181,\n",
       "  931649853,\n",
       "  2158376649,\n",
       "  3577176492,\n",
       "  4105269980,\n",
       "  2743411340,\n",
       "  2855498512,\n",
       "  3468322221,\n",
       "  4289135738,\n",
       "  3070378031,\n",
       "  130878110,\n",
       "  2012459331,\n",
       "  3649976437,\n",
       "  1132601439,\n",
       "  747682378,\n",
       "  48846564,\n",
       "  660000069,\n",
       "  1790312343,\n",
       "  3727890972,\n",
       "  1155723235,\n",
       "  1514429407,\n",
       "  1230076367,\n",
       "  1013715474,\n",
       "  4196577359,\n",
       "  1320124222,\n",
       "  2614278628,\n",
       "  1297893158,\n",
       "  4083753327,\n",
       "  2352894470,\n",
       "  947894400,\n",
       "  2642100948,\n",
       "  1169889630,\n",
       "  1286436482,\n",
       "  3306394082,\n",
       "  3164045139,\n",
       "  1094362406,\n",
       "  809487105,\n",
       "  2843373296,\n",
       "  2280653556,\n",
       "  2080861721,\n",
       "  1562856334,\n",
       "  994764831,\n",
       "  4181417961,\n",
       "  1060980731,\n",
       "  2404272427,\n",
       "  3309777776,\n",
       "  1336994281,\n",
       "  634755732,\n",
       "  3631638369,\n",
       "  1391515368,\n",
       "  1418228798,\n",
       "  4257897983,\n",
       "  2054225289,\n",
       "  567832856,\n",
       "  1330177904,\n",
       "  2462727694,\n",
       "  814045371,\n",
       "  2591348022,\n",
       "  743574337,\n",
       "  2789138291,\n",
       "  2041853854,\n",
       "  894395601,\n",
       "  2564448893,\n",
       "  2991512555,\n",
       "  661658788,\n",
       "  4244382938,\n",
       "  592840949,\n",
       "  4198784705,\n",
       "  4208381264,\n",
       "  1027548464,\n",
       "  1699297713,\n",
       "  3507187687,\n",
       "  4228784501,\n",
       "  3944198753,\n",
       "  393010807,\n",
       "  1855658975,\n",
       "  2650303920,\n",
       "  837948699,\n",
       "  3219332495,\n",
       "  2923291683,\n",
       "  2860126530,\n",
       "  3856051376,\n",
       "  2249134764,\n",
       "  165767879,\n",
       "  2468337443,\n",
       "  1781864276,\n",
       "  2657744714,\n",
       "  35449830,\n",
       "  828146831,\n",
       "  117482919,\n",
       "  3433429317,\n",
       "  1819066727,\n",
       "  710883018,\n",
       "  3107854316,\n",
       "  3076257894,\n",
       "  928245986,\n",
       "  1936492070,\n",
       "  1083117887,\n",
       "  4108585320,\n",
       "  313911202,\n",
       "  235106869,\n",
       "  3091059945,\n",
       "  905889358,\n",
       "  259789608,\n",
       "  3447145250,\n",
       "  988142971,\n",
       "  2178196317,\n",
       "  859662840,\n",
       "  1908755715,\n",
       "  1247277970,\n",
       "  1481142601,\n",
       "  819671330,\n",
       "  2548134350,\n",
       "  1495134650,\n",
       "  4034870622,\n",
       "  2814194974,\n",
       "  2761218509,\n",
       "  2977430738,\n",
       "  614006212,\n",
       "  981226091,\n",
       "  413177493,\n",
       "  3471336991,\n",
       "  2131872665,\n",
       "  4009914404,\n",
       "  612529023,\n",
       "  378607496,\n",
       "  2988973248,\n",
       "  2418016553,\n",
       "  3050435072,\n",
       "  3405173865,\n",
       "  239315520,\n",
       "  553425169,\n",
       "  2806326921,\n",
       "  2194625577,\n",
       "  1297818883,\n",
       "  557367713,\n",
       "  1339678305,\n",
       "  625637250,\n",
       "  3007124173,\n",
       "  1403416408,\n",
       "  963253146,\n",
       "  557613038,\n",
       "  2995233521,\n",
       "  1599272606,\n",
       "  2877491804,\n",
       "  3025784937,\n",
       "  3444226192,\n",
       "  3778689225,\n",
       "  2511282536,\n",
       "  2036290414,\n",
       "  3663672933,\n",
       "  870613663,\n",
       "  3288722796,\n",
       "  1883286129,\n",
       "  2240711678,\n",
       "  1598432647,\n",
       "  1653428643,\n",
       "  1037288789,\n",
       "  3417332711,\n",
       "  632265342,\n",
       "  2992319607,\n",
       "  2229992519,\n",
       "  2627094451,\n",
       "  2902395192,\n",
       "  1798625598,\n",
       "  1888821172,\n",
       "  2928617356,\n",
       "  2806510607,\n",
       "  2169745473,\n",
       "  3263400237,\n",
       "  477483472,\n",
       "  2684152104,\n",
       "  2047416023,\n",
       "  1061764082,\n",
       "  3888197689,\n",
       "  3665203944,\n",
       "  3081648115,\n",
       "  1585188167,\n",
       "  979304208,\n",
       "  3283599107,\n",
       "  515443754,\n",
       "  3528859579,\n",
       "  2646985622,\n",
       "  1179116369,\n",
       "  3174096483,\n",
       "  3622666293,\n",
       "  1094110660,\n",
       "  982532210,\n",
       "  3915875056,\n",
       "  3442760653,\n",
       "  2482674618,\n",
       "  3543561277,\n",
       "  4242258297,\n",
       "  1883210421,\n",
       "  198934262,\n",
       "  3881993543,\n",
       "  3270985024,\n",
       "  3814018289,\n",
       "  3842198594,\n",
       "  3180274062,\n",
       "  349497396,\n",
       "  2056365044,\n",
       "  3662991668,\n",
       "  2471767104,\n",
       "  2872942732,\n",
       "  1154111690,\n",
       "  3142477833,\n",
       "  2062459812,\n",
       "  3422415124,\n",
       "  352502659,\n",
       "  3206123932,\n",
       "  769305078,\n",
       "  1282348479,\n",
       "  3011976512,\n",
       "  1592394005,\n",
       "  976424517,\n",
       "  3257644548,\n",
       "  2159244792,\n",
       "  3015546726,\n",
       "  1321951765,\n",
       "  1457127034,\n",
       "  1008018749,\n",
       "  1340492242,\n",
       "  3250697729,\n",
       "  1439525819,\n",
       "  2116389080,\n",
       "  3128629141,\n",
       "  3912463512,\n",
       "  2778908372,\n",
       "  5179345,\n",
       "  2764285036,\n",
       "  4013718511,\n",
       "  76636421,\n",
       "  2440399146,\n",
       "  4124147582,\n",
       "  1565329027,\n",
       "  2314846721,\n",
       "  2825257189,\n",
       "  554997050,\n",
       "  2676063690,\n",
       "  3230428478,\n",
       "  4066464853,\n",
       "  3785792675,\n",
       "  3491102306,\n",
       "  1012514472,\n",
       "  710423760,\n",
       "  1104362914,\n",
       "  1402276434,\n",
       "  870434098,\n",
       "  64327618,\n",
       "  245834932,\n",
       "  4099459452,\n",
       "  3866904251,\n",
       "  2240453378,\n",
       "  1724463324,\n",
       "  1330601334,\n",
       "  3433676187,\n",
       "  829295067,\n",
       "  3806454686,\n",
       "  950099493,\n",
       "  4293362446,\n",
       "  594307004,\n",
       "  79190971,\n",
       "  2311908688,\n",
       "  54171305,\n",
       "  62487414,\n",
       "  3504337811,\n",
       "  2771970015,\n",
       "  1836590151,\n",
       "  2595431378,\n",
       "  3416341100,\n",
       "  3453307109,\n",
       "  1174988285,\n",
       "  2852396363,\n",
       "  346848325,\n",
       "  2368812712,\n",
       "  226406421,\n",
       "  3941277996,\n",
       "  3989222844,\n",
       "  3009299209,\n",
       "  1702732764,\n",
       "  2598609657,\n",
       "  3925497101,\n",
       "  331397553,\n",
       "  388553728,\n",
       "  3553027581,\n",
       "  2831176302,\n",
       "  1171547784,\n",
       "  2429194224,\n",
       "  1919275555,\n",
       "  2943364212,\n",
       "  392528745,\n",
       "  2077320491,\n",
       "  416107366,\n",
       "  3505919650,\n",
       "  2641506636,\n",
       "  3367202201,\n",
       "  2496764115,\n",
       "  223919825,\n",
       "  271108961,\n",
       "  2545966472,\n",
       "  1316212361,\n",
       "  3137675020,\n",
       "  49774935,\n",
       "  2744430138,\n",
       "  3230926645,\n",
       "  1183214045,\n",
       "  1795720081,\n",
       "  3453588112,\n",
       "  891938360,\n",
       "  4144344690,\n",
       "  2777301904,\n",
       "  1995233055,\n",
       "  3359734316,\n",
       "  896930090,\n",
       "  3330969507,\n",
       "  3223398016,\n",
       "  1321717194,\n",
       "  4215086939,\n",
       "  3506673919,\n",
       "  100418703,\n",
       "  2598322782,\n",
       "  1873905913,\n",
       "  1698737593,\n",
       "  1965703533,\n",
       "  60435064,\n",
       "  1751428005,\n",
       "  1152971074,\n",
       "  3618663090,\n",
       "  3158488445,\n",
       "  3727477430,\n",
       "  657970680,\n",
       "  1511931134,\n",
       "  1717050987,\n",
       "  310598970,\n",
       "  2234372010,\n",
       "  1017571582,\n",
       "  4084110079,\n",
       "  2305036871,\n",
       "  4254307802,\n",
       "  2941750258,\n",
       "  2165051637,\n",
       "  1472622743,\n",
       "  2543351527,\n",
       "  1796705211,\n",
       "  2214600371,\n",
       "  686749318,\n",
       "  4022876929,\n",
       "  2100068217,\n",
       "  3727699398,\n",
       "  3217299548,\n",
       "  275738892,\n",
       "  78573358,\n",
       "  2500678662,\n",
       "  2944914056,\n",
       "  1277909152,\n",
       "  2318080503,\n",
       "  3799903604,\n",
       "  2033312710,\n",
       "  1430582106,\n",
       "  2681053359,\n",
       "  427226790,\n",
       "  4052010686,\n",
       "  1405513990,\n",
       "  283355798,\n",
       "  2154582023,\n",
       "  3237342184,\n",
       "  2326232545,\n",
       "  3053750987,\n",
       "  3682467274,\n",
       "  4258665988,\n",
       "  1693455081,\n",
       "  3276042809,\n",
       "  1890575484,\n",
       "  3321173492,\n",
       "  1435919955,\n",
       "  372744468,\n",
       "  2288550928,\n",
       "  130181578,\n",
       "  464432903,\n",
       "  2644098717,\n",
       "  850876397,\n",
       "  366381834,\n",
       "  1912868480,\n",
       "  4114884255,\n",
       "  2076074274,\n",
       "  2025154398,\n",
       "  3191648339,\n",
       "  1180631776,\n",
       "  1821926123,\n",
       "  142706752,\n",
       "  3139028750,\n",
       "  3108622860,\n",
       "  1876156978,\n",
       "  3356317510,\n",
       "  3260050869,\n",
       "  2334989316,\n",
       "  747109268,\n",
       "  4016280193,\n",
       "  2897996881,\n",
       "  2994915453,\n",
       "  803723030,\n",
       "  1933605890,\n",
       "  3104516246,\n",
       "  533383945,\n",
       "  701195023,\n",
       "  2592103620,\n",
       "  1356972692,\n",
       "  1491149426,\n",
       "  4160117465,\n",
       "  3960597945,\n",
       "  2567279869,\n",
       "  1374045353,\n",
       "  3117232482,\n",
       "  139766291,\n",
       "  2589485771,\n",
       "  1707073928,\n",
       "  3210823559,\n",
       "  537281128,\n",
       "  10518971,\n",
       "  1901873126,\n",
       "  2898897661,\n",
       "  573642982,\n",
       "  760245815,\n",
       "  3807024923,\n",
       "  2334167321,\n",
       "  1211114995,\n",
       "  3530176240,\n",
       "  1229318785,\n",
       "  3602144670,\n",
       "  1250553934,\n",
       "  1010089880,\n",
       "  2172233573,\n",
       "  2688964066,\n",
       "  3758094780,\n",
       "  2941802101,\n",
       "  1581001398,\n",
       "  3746782544,\n",
       "  2917164021,\n",
       "  252667418,\n",
       "  1150188760,\n",
       "  3542252877,\n",
       "  1389159379,\n",
       "  1906599979,\n",
       "  3288259755,\n",
       "  778740684,\n",
       "  358910446,\n",
       "  26153786,\n",
       "  443928973,\n",
       "  1407665083,\n",
       "  298990169,\n",
       "  3405562703,\n",
       "  504530202,\n",
       "  3362938768,\n",
       "  1086122129,\n",
       "  3588952012,\n",
       "  177358838,\n",
       "  1668686040,\n",
       "  1788441005,\n",
       "  2920778456,\n",
       "  3450590302,\n",
       "  1707705043,\n",
       "  3940504028,\n",
       "  1650147200,\n",
       "  2144853533,\n",
       "  429939140,\n",
       "  2060161875,\n",
       "  226622212,\n",
       "  1271791848,\n",
       "  3603087696,\n",
       "  48155551,\n",
       "  966813043,\n",
       "  984177119,\n",
       "  3033759521,\n",
       "  3492815891,\n",
       "  2391190442,\n",
       "  3575857178,\n",
       "  3965974952,\n",
       "  459455113,\n",
       "  59851712,\n",
       "  416034666,\n",
       "  1727702234,\n",
       "  3862955095,\n",
       "  2038677741,\n",
       "  405912737,\n",
       "  3651584525,\n",
       "  1433865433,\n",
       "  4162114042,\n",
       "  319642522,\n",
       "  120211088,\n",
       "  3610217925,\n",
       "  1667950605,\n",
       "  284010502,\n",
       "  2536690859,\n",
       "  1757606927,\n",
       "  98163371,\n",
       "  1298766898,\n",
       "  2843598018,\n",
       "  2749694903,\n",
       "  3031345259,\n",
       "  2633279512,\n",
       "  2812045979,\n",
       "  34084905,\n",
       "  2989448216,\n",
       "  3311204930,\n",
       "  763257776,\n",
       "  747261640,\n",
       "  127287928,\n",
       "  326017657,\n",
       "  2610204813,\n",
       "  3746483709,\n",
       "  1345625337,\n",
       "  76875111,\n",
       "  1840566970,\n",
       "  4008707741,\n",
       "  1079217633,\n",
       "  6),\n",
       " None)"
      ]
     },
     "execution_count": 12,
     "metadata": {},
     "output_type": "execute_result"
    }
   ],
   "source": [
    "random.getstate()"
   ]
  }
 ],
 "metadata": {
  "celltoolbar": "Slideshow",
  "kernelspec": {
   "display_name": "Python 3",
   "language": "python",
   "name": "python3"
  },
  "language_info": {
   "codemirror_mode": {
    "name": "ipython",
    "version": 3
   },
   "file_extension": ".py",
   "mimetype": "text/x-python",
   "name": "python",
   "nbconvert_exporter": "python",
   "pygments_lexer": "ipython3",
   "version": "3.7.4"
  },
  "rise": {
   "auto_select": "code",
   "auto_select_fragment": true,
   "autolaunch": true,
   "enable_chalkboard": true,
   "scroll": true,
   "theme": "moon",
   "transition": "none"
  }
 },
 "nbformat": 4,
 "nbformat_minor": 2
}
