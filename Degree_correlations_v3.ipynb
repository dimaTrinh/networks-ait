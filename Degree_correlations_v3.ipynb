{
 "cells": [
  {
   "cell_type": "code",
   "execution_count": 1,
   "metadata": {},
   "outputs": [],
   "source": [
    "import numpy as np;\n",
    "import networkx as nx;\n",
    "import pandas as pd;\n",
    "import matplotlib.pyplot as plt;\n",
    "import math;"
   ]
  },
  {
   "cell_type": "markdown",
   "metadata": {},
   "source": [
    "## Reading the network data\n",
    "\n",
    "The yeast network was already used previously..."
   ]
  },
  {
   "cell_type": "code",
   "execution_count": 2,
   "metadata": {},
   "outputs": [],
   "source": [
    "yeast_net = nx.read_edgelist('yeastinter_st.txt',data = False);       # we ignore the 3rd column in the file"
   ]
  },
  {
   "cell_type": "markdown",
   "metadata": {},
   "source": [
    "The other network is the social network between FIFA leaders based on commitee co-memberships.\n",
    "\n",
    "Although we have learned that sparse networks should be better stored as link lists, this network is publicly available in a matrix format...\n",
    "\n",
    "First we just peek into the data using pandas:"
   ]
  },
  {
   "cell_type": "code",
   "execution_count": 3,
   "metadata": {},
   "outputs": [
    {
     "data": {
      "text/html": [
       "<div>\n",
       "<style scoped>\n",
       "    .dataframe tbody tr th:only-of-type {\n",
       "        vertical-align: middle;\n",
       "    }\n",
       "\n",
       "    .dataframe tbody tr th {\n",
       "        vertical-align: top;\n",
       "    }\n",
       "\n",
       "    .dataframe thead th {\n",
       "        text-align: right;\n",
       "    }\n",
       "</style>\n",
       "<table border=\"1\" class=\"dataframe\">\n",
       "  <thead>\n",
       "    <tr style=\"text-align: right;\">\n",
       "      <th></th>\n",
       "      <th>ABDULLAH Prince H.R.H</th>\n",
       "      <th>ABEGA Prosper</th>\n",
       "      <th>ABO RIDA Hany</th>\n",
       "      <th>ACHE Eduardo</th>\n",
       "      <th>ACKERMANN Nair</th>\n",
       "      <th>ACOSTA Francisco</th>\n",
       "      <th>ADAMS Mark</th>\n",
       "      <th>ADOUM Djibrine</th>\n",
       "      <th>AGHAZADA Sayed</th>\n",
       "      <th>AHMAD Ahmad</th>\n",
       "      <th>...</th>\n",
       "      <th>WILKINSON Rhian</th>\n",
       "      <th>WILLIAMSON Stephen</th>\n",
       "      <th>WINDTNER Leo</th>\n",
       "      <th>WONUHALI Linda</th>\n",
       "      <th>WOODSON Rochell</th>\n",
       "      <th>YAHYA Ahmed</th>\n",
       "      <th>ZAMBRANO Jose</th>\n",
       "      <th>ZAW Zaw</th>\n",
       "      <th>ZERGUINI Yacine</th>\n",
       "      <th>ZHANG Jian</th>\n",
       "    </tr>\n",
       "  </thead>\n",
       "  <tbody>\n",
       "    <tr>\n",
       "      <td>ABDULLAH Prince H.R.H</td>\n",
       "      <td>4</td>\n",
       "      <td>0</td>\n",
       "      <td>2</td>\n",
       "      <td>0</td>\n",
       "      <td>0</td>\n",
       "      <td>0</td>\n",
       "      <td>0</td>\n",
       "      <td>1</td>\n",
       "      <td>1</td>\n",
       "      <td>0</td>\n",
       "      <td>...</td>\n",
       "      <td>0</td>\n",
       "      <td>0</td>\n",
       "      <td>0</td>\n",
       "      <td>0</td>\n",
       "      <td>0</td>\n",
       "      <td>0</td>\n",
       "      <td>0</td>\n",
       "      <td>0</td>\n",
       "      <td>0</td>\n",
       "      <td>0</td>\n",
       "    </tr>\n",
       "    <tr>\n",
       "      <td>ABEGA Prosper</td>\n",
       "      <td>0</td>\n",
       "      <td>1</td>\n",
       "      <td>0</td>\n",
       "      <td>0</td>\n",
       "      <td>0</td>\n",
       "      <td>0</td>\n",
       "      <td>0</td>\n",
       "      <td>0</td>\n",
       "      <td>0</td>\n",
       "      <td>0</td>\n",
       "      <td>...</td>\n",
       "      <td>0</td>\n",
       "      <td>0</td>\n",
       "      <td>0</td>\n",
       "      <td>0</td>\n",
       "      <td>0</td>\n",
       "      <td>0</td>\n",
       "      <td>0</td>\n",
       "      <td>0</td>\n",
       "      <td>0</td>\n",
       "      <td>0</td>\n",
       "    </tr>\n",
       "    <tr>\n",
       "      <td>ABO RIDA Hany</td>\n",
       "      <td>2</td>\n",
       "      <td>0</td>\n",
       "      <td>4</td>\n",
       "      <td>0</td>\n",
       "      <td>1</td>\n",
       "      <td>0</td>\n",
       "      <td>1</td>\n",
       "      <td>1</td>\n",
       "      <td>1</td>\n",
       "      <td>0</td>\n",
       "      <td>...</td>\n",
       "      <td>0</td>\n",
       "      <td>0</td>\n",
       "      <td>0</td>\n",
       "      <td>0</td>\n",
       "      <td>0</td>\n",
       "      <td>0</td>\n",
       "      <td>0</td>\n",
       "      <td>0</td>\n",
       "      <td>0</td>\n",
       "      <td>0</td>\n",
       "    </tr>\n",
       "    <tr>\n",
       "      <td>ACHE Eduardo</td>\n",
       "      <td>0</td>\n",
       "      <td>0</td>\n",
       "      <td>0</td>\n",
       "      <td>1</td>\n",
       "      <td>0</td>\n",
       "      <td>0</td>\n",
       "      <td>0</td>\n",
       "      <td>0</td>\n",
       "      <td>0</td>\n",
       "      <td>0</td>\n",
       "      <td>...</td>\n",
       "      <td>0</td>\n",
       "      <td>0</td>\n",
       "      <td>0</td>\n",
       "      <td>0</td>\n",
       "      <td>0</td>\n",
       "      <td>0</td>\n",
       "      <td>0</td>\n",
       "      <td>0</td>\n",
       "      <td>0</td>\n",
       "      <td>0</td>\n",
       "    </tr>\n",
       "    <tr>\n",
       "      <td>ACKERMANN Nair</td>\n",
       "      <td>0</td>\n",
       "      <td>0</td>\n",
       "      <td>1</td>\n",
       "      <td>0</td>\n",
       "      <td>1</td>\n",
       "      <td>0</td>\n",
       "      <td>0</td>\n",
       "      <td>0</td>\n",
       "      <td>0</td>\n",
       "      <td>0</td>\n",
       "      <td>...</td>\n",
       "      <td>0</td>\n",
       "      <td>0</td>\n",
       "      <td>0</td>\n",
       "      <td>0</td>\n",
       "      <td>0</td>\n",
       "      <td>0</td>\n",
       "      <td>0</td>\n",
       "      <td>0</td>\n",
       "      <td>0</td>\n",
       "      <td>0</td>\n",
       "    </tr>\n",
       "    <tr>\n",
       "      <td>...</td>\n",
       "      <td>...</td>\n",
       "      <td>...</td>\n",
       "      <td>...</td>\n",
       "      <td>...</td>\n",
       "      <td>...</td>\n",
       "      <td>...</td>\n",
       "      <td>...</td>\n",
       "      <td>...</td>\n",
       "      <td>...</td>\n",
       "      <td>...</td>\n",
       "      <td>...</td>\n",
       "      <td>...</td>\n",
       "      <td>...</td>\n",
       "      <td>...</td>\n",
       "      <td>...</td>\n",
       "      <td>...</td>\n",
       "      <td>...</td>\n",
       "      <td>...</td>\n",
       "      <td>...</td>\n",
       "      <td>...</td>\n",
       "      <td>...</td>\n",
       "    </tr>\n",
       "    <tr>\n",
       "      <td>YAHYA Ahmed</td>\n",
       "      <td>0</td>\n",
       "      <td>0</td>\n",
       "      <td>0</td>\n",
       "      <td>0</td>\n",
       "      <td>0</td>\n",
       "      <td>0</td>\n",
       "      <td>0</td>\n",
       "      <td>0</td>\n",
       "      <td>0</td>\n",
       "      <td>0</td>\n",
       "      <td>...</td>\n",
       "      <td>0</td>\n",
       "      <td>0</td>\n",
       "      <td>0</td>\n",
       "      <td>0</td>\n",
       "      <td>0</td>\n",
       "      <td>1</td>\n",
       "      <td>0</td>\n",
       "      <td>0</td>\n",
       "      <td>0</td>\n",
       "      <td>0</td>\n",
       "    </tr>\n",
       "    <tr>\n",
       "      <td>ZAMBRANO Jose</td>\n",
       "      <td>0</td>\n",
       "      <td>0</td>\n",
       "      <td>0</td>\n",
       "      <td>0</td>\n",
       "      <td>0</td>\n",
       "      <td>0</td>\n",
       "      <td>0</td>\n",
       "      <td>0</td>\n",
       "      <td>0</td>\n",
       "      <td>0</td>\n",
       "      <td>...</td>\n",
       "      <td>0</td>\n",
       "      <td>1</td>\n",
       "      <td>0</td>\n",
       "      <td>0</td>\n",
       "      <td>0</td>\n",
       "      <td>0</td>\n",
       "      <td>1</td>\n",
       "      <td>0</td>\n",
       "      <td>0</td>\n",
       "      <td>0</td>\n",
       "    </tr>\n",
       "    <tr>\n",
       "      <td>ZAW Zaw</td>\n",
       "      <td>0</td>\n",
       "      <td>0</td>\n",
       "      <td>0</td>\n",
       "      <td>0</td>\n",
       "      <td>0</td>\n",
       "      <td>0</td>\n",
       "      <td>0</td>\n",
       "      <td>0</td>\n",
       "      <td>0</td>\n",
       "      <td>0</td>\n",
       "      <td>...</td>\n",
       "      <td>0</td>\n",
       "      <td>0</td>\n",
       "      <td>0</td>\n",
       "      <td>0</td>\n",
       "      <td>0</td>\n",
       "      <td>0</td>\n",
       "      <td>0</td>\n",
       "      <td>1</td>\n",
       "      <td>0</td>\n",
       "      <td>0</td>\n",
       "    </tr>\n",
       "    <tr>\n",
       "      <td>ZERGUINI Yacine</td>\n",
       "      <td>0</td>\n",
       "      <td>0</td>\n",
       "      <td>0</td>\n",
       "      <td>0</td>\n",
       "      <td>0</td>\n",
       "      <td>0</td>\n",
       "      <td>0</td>\n",
       "      <td>0</td>\n",
       "      <td>0</td>\n",
       "      <td>0</td>\n",
       "      <td>...</td>\n",
       "      <td>0</td>\n",
       "      <td>0</td>\n",
       "      <td>0</td>\n",
       "      <td>0</td>\n",
       "      <td>0</td>\n",
       "      <td>0</td>\n",
       "      <td>0</td>\n",
       "      <td>0</td>\n",
       "      <td>1</td>\n",
       "      <td>0</td>\n",
       "    </tr>\n",
       "    <tr>\n",
       "      <td>ZHANG Jian</td>\n",
       "      <td>0</td>\n",
       "      <td>0</td>\n",
       "      <td>0</td>\n",
       "      <td>0</td>\n",
       "      <td>0</td>\n",
       "      <td>0</td>\n",
       "      <td>0</td>\n",
       "      <td>0</td>\n",
       "      <td>0</td>\n",
       "      <td>0</td>\n",
       "      <td>...</td>\n",
       "      <td>0</td>\n",
       "      <td>0</td>\n",
       "      <td>0</td>\n",
       "      <td>0</td>\n",
       "      <td>0</td>\n",
       "      <td>0</td>\n",
       "      <td>0</td>\n",
       "      <td>0</td>\n",
       "      <td>0</td>\n",
       "      <td>1</td>\n",
       "    </tr>\n",
       "  </tbody>\n",
       "</table>\n",
       "<p>450 rows × 450 columns</p>\n",
       "</div>"
      ],
      "text/plain": [
       "                       ABDULLAH Prince H.R.H  ABEGA Prosper  ABO RIDA Hany  \\\n",
       "ABDULLAH Prince H.R.H                      4              0              2   \n",
       "ABEGA Prosper                              0              1              0   \n",
       "ABO RIDA Hany                              2              0              4   \n",
       "ACHE Eduardo                               0              0              0   \n",
       "ACKERMANN Nair                             0              0              1   \n",
       "...                                      ...            ...            ...   \n",
       "YAHYA Ahmed                                0              0              0   \n",
       "ZAMBRANO Jose                              0              0              0   \n",
       "ZAW Zaw                                    0              0              0   \n",
       "ZERGUINI Yacine                            0              0              0   \n",
       "ZHANG Jian                                 0              0              0   \n",
       "\n",
       "                       ACHE Eduardo  ACKERMANN Nair  ACOSTA Francisco  \\\n",
       "ABDULLAH Prince H.R.H             0               0                 0   \n",
       "ABEGA Prosper                     0               0                 0   \n",
       "ABO RIDA Hany                     0               1                 0   \n",
       "ACHE Eduardo                      1               0                 0   \n",
       "ACKERMANN Nair                    0               1                 0   \n",
       "...                             ...             ...               ...   \n",
       "YAHYA Ahmed                       0               0                 0   \n",
       "ZAMBRANO Jose                     0               0                 0   \n",
       "ZAW Zaw                           0               0                 0   \n",
       "ZERGUINI Yacine                   0               0                 0   \n",
       "ZHANG Jian                        0               0                 0   \n",
       "\n",
       "                       ADAMS Mark  ADOUM Djibrine  AGHAZADA Sayed  \\\n",
       "ABDULLAH Prince H.R.H           0               1               1   \n",
       "ABEGA Prosper                   0               0               0   \n",
       "ABO RIDA Hany                   1               1               1   \n",
       "ACHE Eduardo                    0               0               0   \n",
       "ACKERMANN Nair                  0               0               0   \n",
       "...                           ...             ...             ...   \n",
       "YAHYA Ahmed                     0               0               0   \n",
       "ZAMBRANO Jose                   0               0               0   \n",
       "ZAW Zaw                         0               0               0   \n",
       "ZERGUINI Yacine                 0               0               0   \n",
       "ZHANG Jian                      0               0               0   \n",
       "\n",
       "                       AHMAD Ahmad  ...  WILKINSON Rhian  WILLIAMSON Stephen  \\\n",
       "ABDULLAH Prince H.R.H            0  ...                0                   0   \n",
       "ABEGA Prosper                    0  ...                0                   0   \n",
       "ABO RIDA Hany                    0  ...                0                   0   \n",
       "ACHE Eduardo                     0  ...                0                   0   \n",
       "ACKERMANN Nair                   0  ...                0                   0   \n",
       "...                            ...  ...              ...                 ...   \n",
       "YAHYA Ahmed                      0  ...                0                   0   \n",
       "ZAMBRANO Jose                    0  ...                0                   1   \n",
       "ZAW Zaw                          0  ...                0                   0   \n",
       "ZERGUINI Yacine                  0  ...                0                   0   \n",
       "ZHANG Jian                       0  ...                0                   0   \n",
       "\n",
       "                       WINDTNER Leo  WONUHALI Linda  WOODSON Rochell  \\\n",
       "ABDULLAH Prince H.R.H             0               0                0   \n",
       "ABEGA Prosper                     0               0                0   \n",
       "ABO RIDA Hany                     0               0                0   \n",
       "ACHE Eduardo                      0               0                0   \n",
       "ACKERMANN Nair                    0               0                0   \n",
       "...                             ...             ...              ...   \n",
       "YAHYA Ahmed                       0               0                0   \n",
       "ZAMBRANO Jose                     0               0                0   \n",
       "ZAW Zaw                           0               0                0   \n",
       "ZERGUINI Yacine                   0               0                0   \n",
       "ZHANG Jian                        0               0                0   \n",
       "\n",
       "                       YAHYA Ahmed  ZAMBRANO Jose  ZAW Zaw  ZERGUINI Yacine  \\\n",
       "ABDULLAH Prince H.R.H            0              0        0                0   \n",
       "ABEGA Prosper                    0              0        0                0   \n",
       "ABO RIDA Hany                    0              0        0                0   \n",
       "ACHE Eduardo                     0              0        0                0   \n",
       "ACKERMANN Nair                   0              0        0                0   \n",
       "...                            ...            ...      ...              ...   \n",
       "YAHYA Ahmed                      1              0        0                0   \n",
       "ZAMBRANO Jose                    0              1        0                0   \n",
       "ZAW Zaw                          0              0        1                0   \n",
       "ZERGUINI Yacine                  0              0        0                1   \n",
       "ZHANG Jian                       0              0        0                0   \n",
       "\n",
       "                       ZHANG Jian  \n",
       "ABDULLAH Prince H.R.H           0  \n",
       "ABEGA Prosper                   0  \n",
       "ABO RIDA Hany                   0  \n",
       "ACHE Eduardo                    0  \n",
       "ACKERMANN Nair                  0  \n",
       "...                           ...  \n",
       "YAHYA Ahmed                     0  \n",
       "ZAMBRANO Jose                   0  \n",
       "ZAW Zaw                         0  \n",
       "ZERGUINI Yacine                 0  \n",
       "ZHANG Jian                      1  \n",
       "\n",
       "[450 rows x 450 columns]"
      ]
     },
     "execution_count": 3,
     "metadata": {},
     "output_type": "execute_result"
    }
   ],
   "source": [
    "pd.read_csv('2015_FIFA_1M.csv',sep = ',',index_col=0)"
   ]
  },
  {
   "cell_type": "markdown",
   "metadata": {},
   "source": [
    "And now we actually read the matrix into a pandas dataframe, which can then converted into a network by networkx."
   ]
  },
  {
   "cell_type": "code",
   "execution_count": 4,
   "metadata": {},
   "outputs": [],
   "source": [
    "FIFA_df = pd.read_csv('2015_FIFA_1M.csv',sep = ',',index_col=0);\n",
    "FIFA_net = nx.convert_matrix.from_pandas_adjacency(FIFA_df);"
   ]
  },
  {
   "cell_type": "markdown",
   "metadata": {},
   "source": [
    "Let's look at the basic network properties of the two networks:"
   ]
  },
  {
   "cell_type": "code",
   "execution_count": 5,
   "metadata": {},
   "outputs": [
    {
     "name": "stdout",
     "output_type": "stream",
     "text": [
      "yeast net N = 688 , L = 1078\n",
      "yeast net max. degree =  71\n",
      "\n",
      "FIFA net N = 450 , L = 5472\n",
      "yeast net max. degree =  117\n"
     ]
    }
   ],
   "source": [
    "print('yeast net N =',yeast_net.number_of_nodes(),', L =',yeast_net.number_of_edges());\n",
    "print('yeast net max. degree = ',max([yeast_net.degree(node) for node in yeast_net.nodes]));\n",
    "print();\n",
    "print('FIFA net N =',FIFA_net.number_of_nodes(),', L =',FIFA_net.number_of_edges());\n",
    "print('yeast net max. degree = ',max([FIFA_net.degree(node) for node in FIFA_net.nodes]));"
   ]
  },
  {
   "cell_type": "markdown",
   "metadata": {},
   "source": [
    "## Preparing the E and e matrices\n",
    "\n",
    "A straight forward approach to study the degree correlations in a network is offered by the **E** matrix, in which rows and collumns correspond to the possible node degrees in the network from 1 to $k_{\\rm max}$, and $E_{k_1,k_2}$ is simply the number of connected node pairs where the degree of the first node is $k_1$ and the degree of the second node is $k_2$. (The diagonal elements $E_{kk}$ correspond to twice the number of links between nodes of the same degree $k$ in order to treet all links and degree pairings in a fair manner). Since every link in the network contributes to **E** twice, the sum of all entries is $\\sum_{i,j}E_{k_i,k_j}=2L$, where $L$ is the total number of links. \n",
    "\n",
    "The **e** matrix is simply the **E** matrix, where we divide all entries by $2L$.  This way the sum of the elements in **e** is equal to 1.\n",
    "\n",
    "We prepare a function calculating the **E** and **e** matrices:"
   ]
  },
  {
   "cell_type": "code",
   "execution_count": 6,
   "metadata": {},
   "outputs": [],
   "source": [
    "def Prepare_Ee_matrices(network):\n",
    "    max_degree = max([network.degree(node) for node in network.nodes]);   # the maximum degree in the network.\n",
    "    E_matr = np.zeros(shape = (max_degree+1,max_degree+1),dtype = int);   # a matrix full of zeros.\n",
    "    for node1 in network.nodes:\n",
    "        k1 = network.degree(node1);\n",
    "        for node2 in network.neighbors(node1):\n",
    "            k2 = network.degree(node2);                                   # note that no 'extra' care is needed\n",
    "            E_matr[k1,k2] += 1;                                           # for the diagonal elements.\n",
    "            \n",
    "    e_matr = np.zeros(shape = (max_degree+1,max_degree+1),dtype = float);\n",
    "    for k1 in range(0,max_degree+1):\n",
    "        for k2 in range(0,max_degree+1):\n",
    "            e_matr[k1,k2] = E_matr[k1,k2]/(2.0*network.number_of_edges());\n",
    "    return E_matr,e_matr;"
   ]
  },
  {
   "cell_type": "markdown",
   "metadata": {},
   "source": [
    "First let's try it out on the yeast network."
   ]
  },
  {
   "cell_type": "code",
   "execution_count": 7,
   "metadata": {},
   "outputs": [],
   "source": [
    "yeast_E_matr,yeast_e_matr = Prepare_Ee_matrices(yeast_net);"
   ]
  },
  {
   "cell_type": "markdown",
   "metadata": {},
   "source": [
    "Let's have a look at basic properties of the **E** matrix:"
   ]
  },
  {
   "cell_type": "code",
   "execution_count": 8,
   "metadata": {},
   "outputs": [
    {
     "name": "stdout",
     "output_type": "stream",
     "text": [
      "yeast E matrix shape: (72, 72)\n",
      "yeast E matr.:\n",
      " [[ 0  0  0 ...  0  0  0]\n",
      " [ 0 12 12 ...  0  0 23]\n",
      " [ 0 12  8 ...  0  0 35]\n",
      " ...\n",
      " [ 0  0  0 ...  0  0  0]\n",
      " [ 0  0  0 ...  0  0  0]\n",
      " [ 0 23 35 ...  0  0  0]]\n",
      "yeast E matr. sum: 2156\n"
     ]
    }
   ],
   "source": [
    "print('yeast E matrix shape:',yeast_E_matr.shape);\n",
    "print('yeast E matr.:\\n',yeast_E_matr);\n",
    "print('yeast E matr. sum:',sum(sum(yeast_E_matr)));"
   ]
  },
  {
   "cell_type": "markdown",
   "metadata": {},
   "source": [
    "Same for the **e** matrix:"
   ]
  },
  {
   "cell_type": "code",
   "execution_count": 9,
   "metadata": {},
   "outputs": [
    {
     "name": "stdout",
     "output_type": "stream",
     "text": [
      "yeast e matrix shape: (72, 72)\n",
      "yeast e matr.:\n",
      " [[0.         0.         0.         ... 0.         0.         0.        ]\n",
      " [0.         0.00556586 0.00556586 ... 0.         0.         0.0106679 ]\n",
      " [0.         0.00556586 0.00371058 ... 0.         0.         0.01623377]\n",
      " ...\n",
      " [0.         0.         0.         ... 0.         0.         0.        ]\n",
      " [0.         0.         0.         ... 0.         0.         0.        ]\n",
      " [0.         0.0106679  0.01623377 ... 0.         0.         0.        ]]\n",
      "yeast e matr. sum: 1.0000000000000002\n"
     ]
    }
   ],
   "source": [
    "print('yeast e matrix shape:',yeast_e_matr.shape);\n",
    "print('yeast e matr.:\\n',yeast_e_matr);\n",
    "print('yeast e matr. sum:',sum(sum(yeast_e_matr)));"
   ]
  },
  {
   "cell_type": "markdown",
   "metadata": {},
   "source": [
    "Seems to work fine, let's prepare the matrices for the FIFA network as well."
   ]
  },
  {
   "cell_type": "code",
   "execution_count": 10,
   "metadata": {},
   "outputs": [],
   "source": [
    "FIFA_E_matr,FIFA_e_matr = Prepare_Ee_matrices(FIFA_net);"
   ]
  },
  {
   "cell_type": "markdown",
   "metadata": {},
   "source": [
    "## Heatmap from the E and e matrices\n",
    "\n",
    "Luckily, it is very easy to make a 2d heatmap of the matrices using pyplot."
   ]
  },
  {
   "cell_type": "code",
   "execution_count": 11,
   "metadata": {},
   "outputs": [
    {
     "data": {
      "text/plain": [
       "<Figure size 432x288 with 0 Axes>"
      ]
     },
     "metadata": {},
     "output_type": "display_data"
    },
    {
     "data": {
      "image/png": "[encoded data removed]",
      "text/plain": [
       "<Figure size 1080x720 with 2 Axes>"
      ]
     },
     "metadata": {
      "needs_background": "light"
     },
     "output_type": "display_data"
    }
   ],
   "source": [
    "plt.clf();\n",
    "f, axs = plt.subplots(2,2,figsize=(15,10))\n",
    "plt.subplot(121);\n",
    "plt.imshow(yeast_E_matr,cmap = 'viridis');\n",
    "plt.xlabel('$k_1$');\n",
    "plt.ylabel('$k_2$');\n",
    "plt.title('The yeast $E$ matrix.')\n",
    "#plt.colorbar();\n",
    "\n",
    "plt.subplot(122);\n",
    "plt.imshow(yeast_e_matr,cmap = 'viridis');\n",
    "plt.xlabel('$k_1$');\n",
    "plt.ylabel('$k_2$');\n",
    "plt.title('The yeast $e$ matrix.')\n",
    "#plt.colorbar();\n",
    "plt.show();"
   ]
  },
  {
   "cell_type": "markdown",
   "metadata": {},
   "source": [
    "Actually, it is much more interesting to compare the **e** matrices for the yeast and the FIFA network:"
   ]
  },
  {
   "cell_type": "code",
   "execution_count": 12,
   "metadata": {},
   "outputs": [
    {
     "data": {
      "text/plain": [
       "<Figure size 432x288 with 0 Axes>"
      ]
     },
     "metadata": {},
     "output_type": "display_data"
    },
    {
     "data": {
      "image/png": "[encoded data removed]",
      "text/plain": [
       "<Figure size 1080x720 with 2 Axes>"
      ]
     },
     "metadata": {
      "needs_background": "light"
     },
     "output_type": "display_data"
    }
   ],
   "source": [
    "plt.clf();\n",
    "f, axs = plt.subplots(2,2,figsize=(15,10))\n",
    "plt.subplot(121);\n",
    "plt.imshow(yeast_e_matr,cmap = 'viridis');\n",
    "plt.xlabel('$k_1$');\n",
    "plt.ylabel('$k_2$');\n",
    "plt.title('The yeast $e$ matrix.')\n",
    "#plt.colorbar();\n",
    "\n",
    "plt.subplot(122);\n",
    "plt.imshow(FIFA_e_matr,cmap = 'viridis');\n",
    "plt.xlabel('$k_1$');\n",
    "plt.ylabel('$k_2$');\n",
    "plt.title('The FIFA $e$ matrix.')\n",
    "#plt.colorbar();\n",
    "plt.show();"
   ]
  },
  {
   "cell_type": "markdown",
   "metadata": {},
   "source": [
    "## Calculating the neutral e matrix\n",
    "\n",
    "The **e** matrix corresponding to a neutral network with the same size and degree distribution can be obtained by first calculating the row (or column) sums $q_i = \\sum_j e_{ij}$ and then preparing a matrix where the entries are simply the products of the corresponding $q$ values, i.e., $$e^{\\rm (neut)}_{ij} =q_i\\cdot q_j$$"
   ]
  },
  {
   "cell_type": "code",
   "execution_count": 13,
   "metadata": {},
   "outputs": [],
   "source": [
    "def Calc_neutral_matr(orig_e_matr):\n",
    "    _q_list = [sum(orig_e_matr[i]) for i in range(orig_e_matr.shape[1])];\n",
    "    _neut_matr = np.zeros(orig_e_matr.shape);\n",
    "    for i in range(0,len(_q_list)):\n",
    "        for j in range(0,len(_q_list)):\n",
    "            _neut_matr[i,j] = _q_list[i]*_q_list[j];\n",
    "    return _neut_matr;"
   ]
  },
  {
   "cell_type": "code",
   "execution_count": 14,
   "metadata": {},
   "outputs": [],
   "source": [
    "yeast_neut_e = Calc_neutral_matr(yeast_e_matr);\n",
    "FIFA_neut_e = Calc_neutral_matr(FIFA_e_matr);"
   ]
  },
  {
   "cell_type": "code",
   "execution_count": 15,
   "metadata": {},
   "outputs": [
    {
     "data": {
      "text/plain": [
       "<Figure size 432x288 with 0 Axes>"
      ]
     },
     "metadata": {},
     "output_type": "display_data"
    },
    {
     "data": {
      "image/png": "[encoded data removed]",
      "text/plain": [
       "<Figure size 1080x720 with 2 Axes>"
      ]
     },
     "metadata": {
      "needs_background": "light"
     },
     "output_type": "display_data"
    }
   ],
   "source": [
    "plt.clf();\n",
    "f, axs = plt.subplots(2,2,figsize=(15,10))\n",
    "plt.subplot(121);\n",
    "plt.imshow(yeast_e_matr,cmap = 'viridis');\n",
    "plt.xlabel('$k_1$');\n",
    "plt.ylabel('$k_2$');\n",
    "plt.title('The yeast $e$ matrix.')\n",
    "#plt.colorbar();\n",
    "\n",
    "plt.subplot(122);\n",
    "plt.imshow(yeast_neut_e,cmap = 'viridis');\n",
    "plt.xlabel('$k_1$');\n",
    "plt.ylabel('$k_2$');\n",
    "plt.title('The neutral $e$ matrix for yeast.')\n",
    "#plt.colorbar();\n",
    "plt.show();"
   ]
  },
  {
   "cell_type": "code",
   "execution_count": 16,
   "metadata": {},
   "outputs": [
    {
     "data": {
      "text/plain": [
       "<Figure size 432x288 with 0 Axes>"
      ]
     },
     "metadata": {},
     "output_type": "display_data"
    },
    {
     "data": {
      "image/png": "[encoded data removed]",
      "text/plain": [
       "<Figure size 1080x720 with 2 Axes>"
      ]
     },
     "metadata": {
      "needs_background": "light"
     },
     "output_type": "display_data"
    }
   ],
   "source": [
    "plt.clf();\n",
    "f, axs = plt.subplots(2,2,figsize=(15,10))\n",
    "plt.subplot(121);\n",
    "plt.imshow(FIFA_e_matr,cmap = 'viridis');\n",
    "plt.xlabel('$k_1$');\n",
    "plt.ylabel('$k_2$');\n",
    "plt.title('The FIFA $e$ matrix.')\n",
    "#plt.colorbar();\n",
    "\n",
    "plt.subplot(122);\n",
    "plt.imshow(FIFA_neut_e,cmap = 'viridis');\n",
    "plt.xlabel('$k_1$');\n",
    "plt.ylabel('$k_2$');\n",
    "plt.title('The neutral $e$ matrix for FIFA.')\n",
    "#plt.colorbar();\n",
    "plt.show();"
   ]
  },
  {
   "cell_type": "markdown",
   "metadata": {},
   "source": [
    "## Logarithmic values in the e matrix\n",
    "\n",
    "In case of the FIFA network, the range of the matrix elements is over several orders of magnitude, thus, the heatmap actually hides a lot of information. A simple way to overcome this is to take the logarithm of the non-zero elements, and replace the 0 elements with a uniform low value."
   ]
  },
  {
   "cell_type": "code",
   "execution_count": 17,
   "metadata": {},
   "outputs": [
    {
     "name": "stdout",
     "output_type": "stream",
     "text": [
      "max. elem. in FIFA e-matr.: 0.1095577485380117\n",
      "possible min. non-zero elem. in FIFA e-matr.: 9.137426900584795e-05\n"
     ]
    }
   ],
   "source": [
    "print('max. elem. in FIFA e-matr.:',max([max(FIFA_e_matr[i]) for i in range(0,FIFA_e_matr.shape[0])]));\n",
    "print('possible min. non-zero elem. in FIFA e-matr.:',0.5/FIFA_net.number_of_edges());"
   ]
  },
  {
   "cell_type": "code",
   "execution_count": 18,
   "metadata": {},
   "outputs": [],
   "source": [
    "def Log_e_matr(orig_e_matr):\n",
    "    _log_e_matr = np.ndarray(orig_e_matr.shape,dtype=float);\n",
    "    _min_val = 1.0;\n",
    "    for i in range(orig_e_matr.shape[0]):\n",
    "        for j in range(orig_e_matr.shape[1]):\n",
    "            if (orig_e_matr[i,j] > 0) and (orig_e_matr[i,j] < _min_val):\n",
    "                _min_val = orig_e_matr[i,j];\n",
    "    _min_val *= 0.01;\n",
    "    for i in range(orig_e_matr.shape[0]):\n",
    "        for j in range(orig_e_matr.shape[1]):\n",
    "            if orig_e_matr[i,j] == 0:\n",
    "                _log_e_matr[i,j] = math.log(_min_val);\n",
    "            else:\n",
    "                _log_e_matr[i,j] = math.log(orig_e_matr[i,j]);\n",
    "    return _log_e_matr;"
   ]
  },
  {
   "cell_type": "code",
   "execution_count": 19,
   "metadata": {},
   "outputs": [],
   "source": [
    "log_FIFA_e_matr = Log_e_matr(FIFA_e_matr);\n",
    "log_FIFA_neut_e = Log_e_matr(FIFA_neut_e);"
   ]
  },
  {
   "cell_type": "code",
   "execution_count": 20,
   "metadata": {},
   "outputs": [
    {
     "data": {
      "text/plain": [
       "<Figure size 432x288 with 0 Axes>"
      ]
     },
     "metadata": {},
     "output_type": "display_data"
    },
    {
     "data": {
      "image/png": "[encoded data removed]",
      "text/plain": [
       "<Figure size 1080x720 with 2 Axes>"
      ]
     },
     "metadata": {
      "needs_background": "light"
     },
     "output_type": "display_data"
    }
   ],
   "source": [
    "plt.clf();\n",
    "f, axs = plt.subplots(2,2,figsize=(15,10))\n",
    "plt.subplot(121);\n",
    "plt.imshow(log_FIFA_e_matr,cmap = 'viridis');\n",
    "plt.xlabel('$k_1$');\n",
    "plt.ylabel('$k_2$');\n",
    "plt.title('The logarithmic FIFA $e$ matrix.')\n",
    "#plt.colorbar();\n",
    "\n",
    "plt.subplot(122);\n",
    "plt.imshow(log_FIFA_neut_e,cmap = 'viridis');\n",
    "plt.xlabel('$k_1$');\n",
    "plt.ylabel('$k_2$');\n",
    "plt.title('The logarithmic neutral $e$ matrix for FIFA.')\n",
    "#plt.colorbar();\n",
    "plt.show();"
   ]
  },
  {
   "cell_type": "code",
   "execution_count": 21,
   "metadata": {},
   "outputs": [],
   "source": [
    "log_yeast_e_matr = Log_e_matr(yeast_e_matr);\n",
    "log_yeast_neut_e = Log_e_matr(yeast_neut_e);"
   ]
  },
  {
   "cell_type": "code",
   "execution_count": 22,
   "metadata": {},
   "outputs": [
    {
     "data": {
      "text/plain": [
       "<Figure size 432x288 with 0 Axes>"
      ]
     },
     "metadata": {},
     "output_type": "display_data"
    },
    {
     "data": {
      "image/png": "[encoded data removed]",
      "text/plain": [
       "<Figure size 1080x720 with 2 Axes>"
      ]
     },
     "metadata": {
      "needs_background": "light"
     },
     "output_type": "display_data"
    }
   ],
   "source": [
    "plt.clf();\n",
    "f, axs = plt.subplots(2,2,figsize=(15,10))\n",
    "plt.subplot(121);\n",
    "plt.imshow(log_yeast_e_matr,cmap = 'viridis');\n",
    "plt.xlabel('$k_1$');\n",
    "plt.ylabel('$k_2$');\n",
    "plt.title('The logarithmic yeast $e$ matrix.')\n",
    "#plt.colorbar();\n",
    "\n",
    "plt.subplot(122);\n",
    "plt.imshow(log_yeast_neut_e,cmap = 'viridis');\n",
    "plt.xlabel('$k_1$');\n",
    "plt.ylabel('$k_2$');\n",
    "plt.title('The logarithmic neutral $e$ matrix for yeast.')\n",
    "#plt.colorbar();\n",
    "plt.show();"
   ]
  },
  {
   "cell_type": "markdown",
   "metadata": {},
   "source": [
    "## Average Nearest Neighbours Degree\n",
    "\n",
    "A simpler description of the degree correlations can be given using the neighbours average degree as a function of the node degree, which is often denoted by $k_{nn}(k)$. Luckily there is a built in function in networkx to calculate the neighbours average degree, so based on that we can construct $k_{nn}(k)$.\n",
    "\n",
    "First let's just demonstrate the built in function for calculating the neighbours average degrees:"
   ]
  },
  {
   "cell_type": "code",
   "execution_count": 23,
   "metadata": {},
   "outputs": [
    {
     "name": "stdout",
     "output_type": "stream",
     "text": [
      "{'ABDULLAH Prince H.R.H': 38.13793103448276, 'ABEGA Prosper': 22.571428571428573, 'ABO RIDA Hany': 36.972972972972975, 'ACHE Eduardo': 31.52173913043478, 'ACKERMANN Nair': 25.8125, 'ACOSTA Francisco': 20.05, 'ADAMS Mark': 24.555555555555557, 'ADOUM Djibrine': 30.26086956521739, 'AGHAZADA Sayed': 30.26086956521739, 'AHMAD Ahmad': 14.0, 'AHMED Essam El-Din': 31.52173913043478, 'AHMED Hosny Abdelrahman': 29.764705882352942, 'AHO Lui': 26.45, 'AHOUANVOEBLA Sedogbo': 30.26086956521739, 'AKHTER Mahfuza': 20.23076923076923, 'AL BUSAIDI Khalid Hamed Hamood': 28.3125, 'AL DELAWAR Abdulrahman': 36.17857142857143, 'AL HARBI Ahmed Eid': 36.22727272727273, 'AL KHALIFA Shk. Ali Bin Khalifa': 32.52173913043478, 'AL KHALIFA Shk. Salman Bin Ebrahim': 39.49315068493151, 'AL KHELAIFI Nasser': 29.0, 'AL MAADHEED Mohammed Ghanim Al Ali': 29.764705882352942, 'AL MEDLEJ Hafez': 17.214285714285715, 'AL NOWAISER Mohammed': 33.0, 'AL RAJOUB Jibril': 24.863636363636363, 'AL SABAH Sheikh Ahmad Al Fahad': 48.479166666666664, 'AL SABAH Shk. Talal Fahad': 43.68, 'AL SERKAL Yousuf': 26.72222222222222, 'AL SHAIBANI Hamid': 31.52173913043478, 'AL THAWADI Hassan': 65.03571428571429, 'ALAJA Pertti': 24.863636363636363, 'ALARCON Carlos': 36.17857142857143, 'ALBERTINI Demetrio': 33.80769230769231, 'ALEI Chabur Goc': 24.863636363636363, 'ALLARD Vanessa': 15.0, 'ALTASHANI Anwar': 29.875, 'ALVARADO Ariel': 20.05, 'AMGALANBAATAR Ganbaatar': 30.26086956521739, 'ANDREASEN Christian': 14.0, 'ARAB Abdiqani Said': 28.84, 'ARANETA Mariano': 28.84, 'ARCOPINTO Ferdinando': 28.84, 'ARIIOTIMA Henri': 30.26086956521739, 'ARVELADZE Revaz': 26.45, 'ASFA Seyed Hamed': 34.78260869565217, 'ASFURA Alfredo': 30.26086956521739, 'ATISSON Harry': 24.555555555555557, 'AULAS Jean-Michel': 43.68, 'BABWAH Terence': 36.17857142857143, 'BAFFOE Anthony': 33.80769230769231, 'BAKOVIC Jasmin': 28.3125, 'BALASINGAM Sanjeevan': 31.52173913043478, 'BARTOMEU Josep': 29.0, 'BAUZA Sebastian': 17.214285714285715, 'BAYOR Adjoa': 25.8125, 'BECKENBAUER Franz': 33.80769230769231, 'BEDOYA Luis': 35.724489795918366, 'BEEN Harry': 30.26086956521739, 'BELIVEAU Sylvie': 33.80769230769231, 'BENADO Alexandra': 30.65, 'BICKERTON Andrew': 30.65, 'BIEN AIME Sonia': 39.09230769230769, 'BILARDO Carlos': 33.80769230769231, 'BLAKE Bruce': 22.571428571428573, 'BLATTER Joseph S': 43.68, 'BOLKIAH Sufri': 26.72222222222222, 'BORBELY Cornel': 15.0, 'BOUCHAMAOUI Tarek': 48.65909090909091, 'BOURNGAR Djimrabaye': 15.0, 'BOUTUREIRA Serafin': 26.72222222222222, 'BRUNELLI Marco': 33.0, 'BURGA Manuel': 28.3125, 'BURLEANU Razvan': 26.72222222222222, 'BURRELL Horace': 26.72222222222222, 'CABRERA Jorge': 30.26086956521739, 'CALLEJAS Rafael': 26.45, 'CAMARA Almamy Kabele': 32.52173913043478, 'CAMARA Salifou': 29.0, 'CAMPBELL Peter': 20.05, 'CARLOS EUGENIO': 22.571428571428573, 'CASSELL Vincent': 28.84, 'CEBANU Pavel': 32.52173913043478, 'CEFERIN Aleksander': 20.05, 'CERRILLA Fernando': 31.52173913043478, 'CHALUJA Pedro': 32.52173913043478, 'CHETTY Elvis': 29.0, 'CHILAVERT Jose Luis': 33.80769230769231, 'CHIO Benjamin': 29.875, 'CHOMIAK Jiri': 29.764705882352942, 'CHUNG David': 36.41304347826087, 'CHUNG Mong Gyu': 29.0, 'CISSE Victor': 34.78260869565217, 'CLAURE Marcelo': 24.863636363636363, 'COOMBS Venold': 30.26086956521739, 'COOPER Lyndon': 26.45, 'CRESCENTINI Giorgio': 28.84, 'CUNLIFFE F Randall': 14.0, 'CUSCO Joan': 28.84, 'D HOOGHE Michel': 35.504273504273506, 'DAINI Kuniya': 32.18181818181818, 'DAMIANI Juan Pedro': 15.0, 'DARMANIN DEMAJO Norman': 34.78260869565217, 'DAS Kushal': 32.52173913043478, 'DE KEERSMAECKER Francois': 22.571428571428573, 'DE MARIA Decio': 32.57142857142857, 'DE SILVA Anura': 32.18181818181818, 'DEL BOSQUE Vicente': 43.68, 'DEL NERO Marco Polo': 41.21875, 'DEMIROREN Yildirim': 29.875, 'DESTOMBES Sue': 28.3125, 'DIABATE Sory': 28.3125, 'DIALLO Augustin': 30.26086956521739, 'DIARRA Boubacar': 28.84, 'DIAS Pedro': 28.84, 'DIENG Ousseynou': 22.571428571428573, 'DIJKHOFF Richard': 24.863636363636363, 'DIOP Abdoulaye': 15.0, 'DJIBRILLA Hamidou': 32.18181818181818, 'DODD Moya': 38.86363636363637, 'DOHI Michiko': 30.97142857142857, 'DOMANSKI LYFORS Marika': 25.8125, 'DORJI UGEN TSECHUP': 32.18181818181818, 'DUBE Cuthbert': 17.214285714285715, 'DUKA Armand': 17.214285714285715, 'DUPIELLET Damian': 28.84, 'DVORAK Jiri': 29.764705882352942, 'DYKE Greg': 24.863636363636363, 'ECKERT Hans-Joachim': 15.0, 'EDWARDS Mike': 20.05, 'EDWARDS Tony': 29.764705882352942, 'EL AKRAM Abdelilah': 33.0, 'EL AMRANI Hicham': 30.26086956521739, 'EL HAWARY Mohamed Hazem': 29.875, 'EL HAWARY Sahar': 30.65, 'ELOVIRTA Katriina': 36.17857142857143, 'ERLANDSSON Susanne': 30.65, 'ERZIK Senes': 34.654205607476634, 'ESCRIBANO Antonio': 29.875, 'ESPELUND Karen': 32.69767441860465, 'FITZGERALD Tony': 31.52173913043478, 'FOK Timothy Tsun Ting': 26.72222222222222, 'FOUSEK Petr': 29.875, 'FRANCISCA Rignaal': 29.875, 'FRANCISCO Palmira': 20.23076923076923, 'FREDERICK Hillaren': 28.84, 'FRUEAN Sandra': 25.8125, 'GAMAL Mohamed': 28.84, 'GANDINI Umberto': 33.0, 'GARBER Don': 33.0, 'GARCIA Rodrigo': 26.72222222222222, 'GAROUB Majed Mohammed': 22.571428571428573, 'GARZA Victor': 14.0, 'GAYE Fatou': 26.96875, 'GAZIDIS Ivan': 34.78260869565217, 'GEA Tomas': 32.52173913043478, 'GEBREYESUS DIFUE Tesfaye': 24.863636363636363, 'GEORGE Norman': 20.05, 'GILL David': 48.67391304347826, 'GILLIAR Markus': 24.555555555555557, 'GILLIERON Peter': 32.18181818181818, 'GJORGJIOSKI Ilcho': 29.875, 'GODINET Alex': 43.68, 'GOMES Fernando': 30.26086956521739, 'GONSALVES Everton': 30.26086956521739, 'GONZALEZ Laureano': 14.0, 'GOURLAY Ron': 26.45, 'GRONDONA Julio Ricardo': 31.52173913043478, 'GUISHARD Raymond': 29.875, 'GULATI Sunil': 35.234693877551024, 'GUZMAN Gustavo': 29.0, 'GUZMAN Osiris': 26.72222222222222, 'HACK Raymond': 20.05, 'HADDADJ Hamid': 20.05, 'HAIDAR Hachem': 32.18181818181818, 'HAIDER Nayyar': 20.05, 'HAINER Herbert': 43.68, 'HALLEN Yngve': 15.0, 'HAMMAMI Mahmoud': 20.05, 'HAN Un Gyong': 25.8125, 'HANSEN Allan': 7.0, 'HARMON Lee': 36.17857142857143, 'HARRIS Randy': 28.84, 'HAWIT BANEGAS Alfredo': 44.07692307692308, 'HAYAT Syed': 43.68, 'HAYATOU Issa': 52.422222222222224, 'HEINRICHS April': 20.23076923076923, 'HERMANN Ecki': 29.764705882352942, 'HERNANDEZ Luis': 28.3125, 'HERRERA Eduardo': 31.52173913043478, 'HILTON SMITH Fran': 20.23076923076923, 'HMEUN Jules': 29.875, 'HOLZSCHUH Rainer': 24.555555555555557, 'HONG Martin': 20.05, 'HONG Una': 20.23076923076923, 'HOWARD Ted': 34.46938775510204, 'HUGHES Trefor': 32.18181818181818, 'HUSSEINI Rana': 30.65, 'INDRIKSONS Guntis': 29.0, 'JADUE Sergio': 32.18181818181818, 'JAMES Anthony': 32.52173913043478, 'JAMES Jinelle': 25.8125, 'JAQUE Nibaldo': 24.555555555555557, 'JARY Wadie': 29.0, 'JEAN BART Yves': 17.214285714285715, 'JESURUN Ramon': 29.875, 'JIMENEZ Brayan': 24.863636363636363, 'JOHANSEN Isha': 31.634146341463413, 'JOHNSON Anthony': 24.555555555555557, 'JONES Steffi': 32.69767441860465, 'JONSSON Ingrid': 36.17857142857143, 'JOSEPH Cheney': 32.52173913043478, 'KABA BAJO Lamin': 28.84, 'KAFASHIAN Ali': 29.875, 'KAKARAYA Dan': 14.0, 'KALTABANG Christian': 34.78260869565217, 'KALUSHA BWALYA': 33.80769230769231, 'KAMIKAWA Toru': 36.17857142857143, 'KARADZIC Tomislav': 30.26086956521739, 'KAREMBEU Christian': 33.80769230769231, 'KARIKO Jack': 15.0, 'KASSABOV Michail': 26.72222222222222, 'KATUMBI Moise': 43.68, 'KAZI Mohammed Salahuddin': 26.45, 'KEWELL Harry': 33.80769230769231, 'KHAMITZHANOV Sayan': 32.52173913043478, 'KHIEV Sameth': 24.863636363636363, 'KHOZA Irvin': 33.0, 'KILMAN Larry': 24.555555555555557, 'KIM Dong Dae': 30.26086956521739, 'KIM Junyoung': 34.78260869565217, 'KOLOSKOV Viacheslav': 29.0, 'KONKOV Anatoliy': 29.0, 'KORTMAN Yolanda': 30.65, 'KOUTSOKOUMNIS Costakis': 32.18181818181818, 'KOVACIK Jan': 24.555555555555557, 'KRISHNADATH John': 24.863636363636363, 'KVEDARAS Julius': 28.3125, 'LABRADOR Eric': 23.785714285714285, 'LAI Richard K': 7.0, 'LAMBERT Jacques': 15.0, 'LARRIONDA Jorge': 36.17857142857143, 'LATAL MACKOVICOVA Natalia': 25.8125, 'LAY Francisco': 32.18181818181818, 'LE GRAET Noel': 26.45, 'LEE Winston': 26.45, 'LEFKARITIS Marios': 65.03571428571429, 'LEKJAA Fouzi': 32.52173913043478, 'LELEU Jacqueline': 36.17857142857143, 'LIM Kia Tong': 20.05, 'LIN Cheng Yi': 28.84, 'LIN Xiaohua': 32.52173913043478, 'LISTKIEWICZ Michal': 36.17857142857143, 'LIU Chi': 15.0, 'LOOTAH AbduL Rahman': 14.0, 'LOPES NASCIMENTO Manuel': 24.863636363636363, 'LOPEZ Pedro': 34.78260869565217, 'Lord VEEHALA': 20.05, 'LUDWIG Alfred': 26.45, 'LUMPER Horst': 22.571428571428573, 'LUPARI Isaac': 33.0, 'LUZON Avi': 24.555555555555557, 'MABASO KOYANA Sindi': 7.0, 'MADERO Raul': 29.764705882352942, 'MAGOGO Moses': 31.52173913043478, 'MALINZI Jamal': 24.863636363636363, 'MALMSTEN Krister': 20.05, 'MALTOCK Lambert': 36.17857142857143, 'MAMMADOV Elkhan': 24.863636363636363, 'MANAROTO Albert': 32.52173913043478, 'MANDELBAUM Bert': 29.764705882352942, 'MARAHARE Donald': 22.571428571428573, 'MARTA': 43.68, 'MARTEN Seamus': 20.23076923076923, 'MARTORELLI Rinaldo': 34.78260869565217, 'MATURANA Francisco': 33.80769230769231, 'MBIDI Frans': 32.52173913043478, 'MBOMIO Andres-Jorge': 29.875, 'MBONO Jean Michel': 32.52173913043478, 'McMEEKEN Shelley': 20.23076923076923, 'McRAE Alan': 32.52173913043478, 'MELO FILHO Alvaro': 29.875, 'MERLO Gianni': 24.555555555555557, 'MIHAYLOV Borislav': 17.214285714285715, 'MIKKELSEN Peter': 36.17857142857143, 'MIRZOEV Khurshed': 28.3125, 'MITJANS Fernando': 14.0, 'MOCTAR Mahamoud': 26.72222222222222, 'MOHD SALLEH Subkhiddin': 36.17857142857143, 'MONTAGLIANI Victor': 22.571428571428573, 'MONTEIRO Domingos': 32.52173913043478, 'MORAN Bill': 17.214285714285715, 'MORTAGY Khaled': 33.0, 'MOUNGUENGUI Pierre Alain': 36.17857142857143, 'MTHETHWA Adam': 32.18181818181818, 'MURAI Mitsuru': 33.0, 'MURAKAMI Tetsuya': 29.0, 'MUSSENDEN Larry': 14.0, 'MUTKO Vitaly': 42.101694915254235, 'NAPOUT Juan Angel': 43.42253521126761, 'NASSAR Samar': 25.8125, 'NDIKURIYO Reverien': 24.863636363636363, 'NEMATANDANI Kirsten': 24.863636363636363, 'NETO Pedro': 31.52173913043478, 'NGAISSONA Edouard': 29.0, 'NGIRA Loyley': 28.84, 'NGWENYA Qondisa': 26.45, 'NICHOLAS Tai': 28.3125, 'NIERSBACH Wolfgang': 65.03571428571429, 'NILSSON Karl-Erik': 33.0, 'NSEKERA Lydia': 38.705882352941174, 'NTAGUNGIRA Celestin': 36.17857142857143, 'NUMANGA Jake': 31.52173913043478, 'NYAMILANDU Walter': 32.18181818181818, 'NYAMWEYA Sam': 32.52173913043478, 'NYANTAKYI Kwesi': 32.18181818181818, 'NZAMWITA Vincent': 26.72222222222222, 'OGURA Junji': 17.214285714285715, 'OMAGBEMI Florence': 25.8125, 'OMARI Constant': 37.96153846153846, 'ORAZOV Derya': 24.863636363636363, 'OSORIO Victor': 28.3125, 'OSUNA Romer': 7.0, 'OUEGNIN Roger': 33.0, 'PALACIO Jorge Ivan': 15.0, 'PALAVICINI Carlos': 29.764705882352942, 'PASTORINI Daniel': 34.78260869565217, 'PATEL Imtiaz': 43.68, 'PATEL Praful': 17.214285714285715, 'PATEL Rajesh': 7.0, 'PATEL Suketu': 7.0, 'PELE': 33.80769230769231, 'PELTA Miroslav': 28.84, 'PENA GUTIERREZ Edgar': 14.0, 'PEREZ Florentino': 33.80769230769231, 'PETERSON Lars': 29.764705882352942, 'PHAFANE Salemane': 30.26086956521739, 'PHILIPP Paul': 24.555555555555557, 'PIAT Philippe': 33.80769230769231, 'PINNICK Amaju': 30.26086956521739, 'PINTO Marcelo': 24.555555555555557, 'PLATINI Michel': 44.53030303030303, 'POHLAK Aivar': 24.863636363636363, 'PROTASOV Alexander': 31.52173913043478, 'PUENTEVELLA Monico': 26.45, 'QUADERER Hugo': 26.45, 'QUINTANA Javier': 22.571428571428573, 'RAM Samuel': 14.0, 'REID Horace': 28.84, 'REILLY Jack': 32.52173913043478, 'REVILLA Fernando': 34.78260869565217, 'REYES Jose': 29.875, 'RILEY Mike': 36.17857142857143, 'RODRIGUEZ Alejandro': 33.0, 'RODRIGUEZ Jaime': 33.80769230769231, 'ROJAS Juan': 33.0, 'ROKK Lazarus': 24.555555555555557, 'ROMO Jorge': 36.17857142857143, 'ROTHENBERG Alan': 15.0, 'RUIZ Oscar': 36.17857142857143, 'RUMMENIGGE Karl-Heinz': 34.328125, 'SABIR David': 31.52173913043478, 'SALIM Tourqui': 14.0, 'SALMON Pare': 34.78260869565217, 'SANDROCK Helmut': 31.52173913043478, 'SANGARE Sita': 26.45, 'SARHAN Toufik': 30.26086956521739, 'SARRIS Georgios': 33.80769230769231, 'SASAKI Norio': 43.68, 'SAVICEVIC Dejan': 29.0, 'SBARDELLA Marina': 20.23076923076923, 'SCALA Domenico': 7.0, 'SCHELLING Hans': 29.875, 'SCHWAB Brendan': 34.78260869565217, 'SCUDAMORE Richard': 33.80769230769231, 'SEALEY Anton': 32.18181818181818, 'SEBEGO Tebogo': 26.45, 'SEKAJUGO James': 32.38095238095238, 'SENE Badara': 36.17857142857143, 'SENGHOR Augustin': 32.18181818181818, 'SETRIGHT Jo': 20.05, 'SEXWALE Tokyo': 24.555555555555557, 'SHALABI-MOLANO Susan': 30.65, 'SHAMS ELDIN Magdi': 33.6, 'SHAW Jim': 20.05, 'SIDAT Fezal': 28.84, 'SIEBER Walter': 20.23076923076923, 'SIEM Kjetil': 31.52173913043478, 'SIMMONS Kelly': 30.65, 'SINGH Gurcharan': 28.90909090909091, 'SINGH Yogeshwar': 24.863636363636363, 'SIRELKHATIM Mutasim Gafaar': 29.0, 'SMITH Oliver': 14.0, 'SNOUSSI Maher': 31.52173913043478, 'SOBHA Mohamad Ally Samir': 28.84, 'SOLOMONA Laupama': 32.18181818181818, 'SOROKIN Alexey': 65.03571428571429, 'STEFANOVIC Dejan': 34.78260869565217, 'SUKER Davor': 17.214285714285715, 'SULLIVAN Alan': 15.0, 'SULSER Claudio': 20.05, 'SULTANOV Semetei': 24.863636363636363, 'SUN Wen': 25.8125, 'SUNDHAGE Pia': 43.68, 'SUNIA Fiti': 20.05, 'SURKIS Grygoriy': 29.0, 'TASHIMA Kohzo': 38.41463414634146, 'TAVECCHIO Carlo': 26.72222222222222, 'THIRIEZ Frederic': 39.71111111111111, 'THOMPSON Geoff': 33.951219512195124, 'THOMSEN Claus': 33.0, 'THORSTEINSSON Geir': 30.26086956521739, 'TILMO Juneidi': 26.45, 'TIM KEE Raymond': 29.875, 'TINOCO Rafael': 29.875, 'TORRES Robert': 15.0, 'TRAN Quoc Tuan': 29.875, 'TRENTALANGE Alfredo': 36.17857142857143, 'TSICHLAS Anastasia': 25.8125, 'ULLRICH Heike': 20.23076923076923, 'USMANOV Mirabror': 26.72222222222222, 'Vacant 1': 33.0, 'Vacant 2': 24.863636363636363, 'Vacant 3': 33.80769230769231, 'Vacant 4': 22.571428571428573, 'Vacant 5': 24.555555555555557, 'Vacant 6': 17.214285714285715, 'VAN DER SAR Edwin': 34.78260869565217, 'VAN GAALEN Johan': 34.78260869565217, 'VAN PRAAG Michael': 32.18181818181818, 'VAN SEGGELEN Theo': 35.03333333333333, 'VARELA Cristian': 27.024390243902438, 'VERGARA Hector': 36.17857142857143, 'VICENTE Ruperto': 31.52173913043478, 'VILLAR LLONA Angel Maria': 37.479166666666664, 'WABERI Souleiman Hassan': 28.84, 'WANG Becky': 30.65, 'WEAH George': 33.80769230769231, 'WEIGL Guenter': 26.45, 'WHITE Philip': 28.84, 'WHITMORE Theodore': 33.80769230769231, 'WILKINSON Rhian': 43.68, 'WILLIAMSON Stephen': 29.0, 'WINDTNER Leo': 14.0, 'WONUHALI Linda': 30.65, 'WOODSON Rochell': 30.65, 'YAHYA Ahmed': 15.0, 'ZAMBRANO Jose': 29.0, 'ZAW Zaw': 28.84, 'ZERGUINI Yacine': 29.764705882352942, 'ZHANG Jian': 28.3125}\n"
     ]
    }
   ],
   "source": [
    "FIFA_av_neigh_k = nx.algorithms.average_neighbor_degree(FIFA_net);\n",
    "print(FIFA_av_neigh_k);"
   ]
  },
  {
   "cell_type": "markdown",
   "metadata": {},
   "source": [
    "We need to collect these average values 'degree-vise', and then again, take the average for any given degree value."
   ]
  },
  {
   "cell_type": "code",
   "execution_count": 24,
   "metadata": {},
   "outputs": [],
   "source": [
    "def Calc_knn(network):\n",
    "    node_neighs_av_k = nx.algorithms.average_neighbor_degree(network);\n",
    "  \n",
    "    k_neighs_av_k = {};             # this is going to be a dict where keys are degrees, and values are \n",
    "                                    # the neighbours average degrees.\n",
    "    for node in node_neighs_av_k:\n",
    "        k = network.degree(node);                             # the degree of the node\n",
    "        if k in k_neighs_av_k:                                # checking whether this k has already appeared\n",
    "            k_neighs_av_k[k].append(node_neighs_av_k[node]);  # appending the neigh. average to the list\n",
    "        else:\n",
    "            k_neighs_av_k[k] = [node_neighs_av_k[node]];       \n",
    "            \n",
    "    for k in k_neighs_av_k:\n",
    "        av_av_k = np.mean(k_neighs_av_k[k]);     # we use numpy to calculate the average of the collected list\n",
    "                                                 # of neighbours average degrees.\n",
    "            \n",
    "        k_neighs_av_k[k] = av_av_k;              # we replace the list by its average.\n",
    "        \n",
    "    sort_k_nn = sorted(k_neighs_av_k.items(), key = lambda x:x[0]); # sorting the result according to the degree\n",
    "    return sort_k_nn;"
   ]
  },
  {
   "cell_type": "code",
   "execution_count": 25,
   "metadata": {},
   "outputs": [
    {
     "name": "stdout",
     "output_type": "stream",
     "text": [
      "[(1, 23.79090909090909), (2, 28.02547770700637), (3, 17.658008658008654), (4, 15.978571428571428), (5, 11.663157894736843), (6, 12.805555555555552), (7, 5.714285714285714), (8, 6.90625), (9, 5.0), (10, 2.6), (11, 6.418181818181819), (12, 3.4166666666666665), (13, 7.41025641025641), (14, 3.8095238095238098), (15, 4.6), (16, 3.25), (17, 4.0588235294117645), (18, 3.6666666666666665), (19, 4.473684210526316), (20, 4.55), (21, 2.619047619047619), (22, 1.4545454545454546), (24, 4.958333333333333), (26, 3.7884615384615383), (29, 3.2413793103448274), (32, 2.90625), (35, 2.8), (36, 1.4166666666666667), (38, 2.894736842105263), (44, 2.3181818181818183), (53, 2.0754716981132075), (71, 2.112676056338028)]\n"
     ]
    }
   ],
   "source": [
    "knn_yeast = Calc_knn(yeast_net);\n",
    "print(knn_yeast);"
   ]
  },
  {
   "cell_type": "code",
   "execution_count": 26,
   "metadata": {},
   "outputs": [],
   "source": [
    "knn_FIFA = Calc_knn(FIFA_net);"
   ]
  },
  {
   "cell_type": "markdown",
   "metadata": {},
   "source": [
    "Let us plot the obtained $k_nn(k)$ functions."
   ]
  },
  {
   "cell_type": "code",
   "execution_count": 27,
   "metadata": {},
   "outputs": [
    {
     "data": {
      "text/plain": [
       "<Figure size 432x288 with 0 Axes>"
      ]
     },
     "metadata": {},
     "output_type": "display_data"
    },
    {
     "data": {
      "image/png": "[encoded data removed]",
      "text/plain": [
       "<Figure size 1080x360 with 2 Axes>"
      ]
     },
     "metadata": {
      "needs_background": "light"
     },
     "output_type": "display_data"
    }
   ],
   "source": [
    "plt.clf();\n",
    "f, axs = plt.subplots(2,2,figsize=(15,5))\n",
    "plt.subplot(121);\n",
    "k_list = [knn_yeast[i][0] for i in range(0,len(knn_yeast))];\n",
    "knn_list = [knn_yeast[i][1] for i in range(0,len(knn_yeast))];\n",
    "plt.plot(k_list,knn_list,'-o')\n",
    "plt.xlabel('$k$');\n",
    "plt.ylabel('$k_{nn}$');\n",
    "plt.title('Yeast ANND')\n",
    "\n",
    "plt.subplot(122);\n",
    "k_list = [knn_FIFA[i][0] for i in range(0,len(knn_FIFA))];\n",
    "knn_list = [knn_FIFA[i][1] for i in range(0,len(knn_FIFA))];\n",
    "plt.plot(k_list,knn_list,'-o')\n",
    "plt.xlabel('$k$');\n",
    "plt.ylabel('$k_{nn}$');\n",
    "plt.title('FIFA ANND')\n",
    "plt.show()"
   ]
  },
  {
   "cell_type": "markdown",
   "metadata": {},
   "source": [
    "## Assortativity coefficient\n",
    "\n",
    "To reduce the number of parameters even further, we can actually summarize the degree correlation properties into a single number, corresponding to the Pearson correlation of the joint distribution of the degrees based on the $e$ matrix. Luckily networkx has a built in function for calculating this."
   ]
  },
  {
   "cell_type": "code",
   "execution_count": 28,
   "metadata": {},
   "outputs": [
    {
     "name": "stdout",
     "output_type": "stream",
     "text": [
      "yeast r:  -0.3995192375289176  FIFA r:  0.14258691820805858\n"
     ]
    }
   ],
   "source": [
    "yeast_r_coeff = nx.algorithms.assortativity.degree_assortativity_coefficient(yeast_net);\n",
    "FIFA_r_coeff = nx.algorithms.assortativity.degree_assortativity_coefficient(FIFA_net);\n",
    "\n",
    "print('yeast r: ',yeast_r_coeff,' FIFA r: ',FIFA_r_coeff);"
   ]
  },
  {
   "cell_type": "code",
   "execution_count": null,
   "metadata": {},
   "outputs": [],
   "source": []
  }
 ],
 "metadata": {
  "kernelspec": {
   "display_name": "Python 3",
   "language": "python",
   "name": "python3"
  },
  "language_info": {
   "codemirror_mode": {
    "name": "ipython",
    "version": 3
   },
   "file_extension": ".py",
   "mimetype": "text/x-python",
   "name": "python",
   "nbconvert_exporter": "python",
   "pygments_lexer": "ipython3",
   "version": "3.7.4"
  }
 },
 "nbformat": 4,
 "nbformat_minor": 2
}
