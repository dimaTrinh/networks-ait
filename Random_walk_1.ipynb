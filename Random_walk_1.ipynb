{
 "cells": [
  {
   "cell_type": "code",
   "execution_count": 1,
   "metadata": {},
   "outputs": [],
   "source": [
    "import networkx as nx;\n",
    "import numpy as np;\n",
    "import matplotlib.pyplot as plt;\n",
    "import pandas as pd;\n",
    "import scipy;\n",
    "from ipywidgets import *"
   ]
  },
  {
   "cell_type": "markdown",
   "metadata": {},
   "source": [
    "## Creating the graph"
   ]
  },
  {
   "cell_type": "markdown",
   "metadata": {},
   "source": [
    "Here we read the links and the node positions in the layout from input files. The node positions are not too important, we use them just to ensure that the layout looks the same as on the sheets handed out."
   ]
  },
  {
   "cell_type": "code",
   "execution_count": 2,
   "metadata": {},
   "outputs": [],
   "source": [
    "links_file, node_pos_file = 'random_walk_graph.tsv','random_walk_graph_pos.tsv';"
   ]
  },
  {
   "cell_type": "code",
   "execution_count": 3,
   "metadata": {},
   "outputs": [
    {
     "data": {
      "text/html": [
       "<div>\n",
       "<style scoped>\n",
       "    .dataframe tbody tr th:only-of-type {\n",
       "        vertical-align: middle;\n",
       "    }\n",
       "\n",
       "    .dataframe tbody tr th {\n",
       "        vertical-align: top;\n",
       "    }\n",
       "\n",
       "    .dataframe thead th {\n",
       "        text-align: right;\n",
       "    }\n",
       "</style>\n",
       "<table border=\"1\" class=\"dataframe\">\n",
       "  <thead>\n",
       "    <tr style=\"text-align: right;\">\n",
       "      <th></th>\n",
       "      <th>source</th>\n",
       "      <th>target</th>\n",
       "    </tr>\n",
       "  </thead>\n",
       "  <tbody>\n",
       "    <tr>\n",
       "      <th>0</th>\n",
       "      <td>0</td>\n",
       "      <td>1</td>\n",
       "    </tr>\n",
       "    <tr>\n",
       "      <th>1</th>\n",
       "      <td>1</td>\n",
       "      <td>2</td>\n",
       "    </tr>\n",
       "    <tr>\n",
       "      <th>2</th>\n",
       "      <td>1</td>\n",
       "      <td>3</td>\n",
       "    </tr>\n",
       "    <tr>\n",
       "      <th>3</th>\n",
       "      <td>1</td>\n",
       "      <td>4</td>\n",
       "    </tr>\n",
       "    <tr>\n",
       "      <th>4</th>\n",
       "      <td>1</td>\n",
       "      <td>5</td>\n",
       "    </tr>\n",
       "    <tr>\n",
       "      <th>5</th>\n",
       "      <td>3</td>\n",
       "      <td>4</td>\n",
       "    </tr>\n",
       "    <tr>\n",
       "      <th>6</th>\n",
       "      <td>3</td>\n",
       "      <td>5</td>\n",
       "    </tr>\n",
       "    <tr>\n",
       "      <th>7</th>\n",
       "      <td>4</td>\n",
       "      <td>5</td>\n",
       "    </tr>\n",
       "    <tr>\n",
       "      <th>8</th>\n",
       "      <td>5</td>\n",
       "      <td>6</td>\n",
       "    </tr>\n",
       "  </tbody>\n",
       "</table>\n",
       "</div>"
      ],
      "text/plain": [
       "   source  target\n",
       "0       0       1\n",
       "1       1       2\n",
       "2       1       3\n",
       "3       1       4\n",
       "4       1       5\n",
       "5       3       4\n",
       "6       3       5\n",
       "7       4       5\n",
       "8       5       6"
      ]
     },
     "execution_count": 3,
     "metadata": {},
     "output_type": "execute_result"
    }
   ],
   "source": [
    "pd.read_csv(links_file,sep = '\\t')"
   ]
  },
  {
   "cell_type": "markdown",
   "metadata": {},
   "source": [
    "We read the list of links and create a graph using Networkx."
   ]
  },
  {
   "cell_type": "code",
   "execution_count": 4,
   "metadata": {},
   "outputs": [],
   "source": [
    "link_list_df = pd.read_csv(links_file, sep = '\\t');\n",
    "graph = nx.Graph();\n",
    "for i in range(0,len(link_list_df)):\n",
    "    graph.add_edge(link_list_df['source'][i],link_list_df['target'][i]);"
   ]
  },
  {
   "cell_type": "markdown",
   "metadata": {},
   "source": [
    "These are the node positions in the layout."
   ]
  },
  {
   "cell_type": "code",
   "execution_count": 5,
   "metadata": {},
   "outputs": [
    {
     "data": {
      "text/html": [
       "<div>\n",
       "<style scoped>\n",
       "    .dataframe tbody tr th:only-of-type {\n",
       "        vertical-align: middle;\n",
       "    }\n",
       "\n",
       "    .dataframe tbody tr th {\n",
       "        vertical-align: top;\n",
       "    }\n",
       "\n",
       "    .dataframe thead th {\n",
       "        text-align: right;\n",
       "    }\n",
       "</style>\n",
       "<table border=\"1\" class=\"dataframe\">\n",
       "  <thead>\n",
       "    <tr style=\"text-align: right;\">\n",
       "      <th></th>\n",
       "      <th>node</th>\n",
       "      <th>x_pos</th>\n",
       "      <th>y_pos</th>\n",
       "    </tr>\n",
       "  </thead>\n",
       "  <tbody>\n",
       "    <tr>\n",
       "      <th>0</th>\n",
       "      <td>0</td>\n",
       "      <td>-0.300000</td>\n",
       "      <td>0.600000</td>\n",
       "    </tr>\n",
       "    <tr>\n",
       "      <th>1</th>\n",
       "      <td>1</td>\n",
       "      <td>-0.205629</td>\n",
       "      <td>0.099484</td>\n",
       "    </tr>\n",
       "    <tr>\n",
       "      <th>2</th>\n",
       "      <td>2</td>\n",
       "      <td>-0.750000</td>\n",
       "      <td>0.150000</td>\n",
       "    </tr>\n",
       "    <tr>\n",
       "      <th>3</th>\n",
       "      <td>3</td>\n",
       "      <td>0.126781</td>\n",
       "      <td>-0.411355</td>\n",
       "    </tr>\n",
       "    <tr>\n",
       "      <th>4</th>\n",
       "      <td>4</td>\n",
       "      <td>-0.138489</td>\n",
       "      <td>-0.320409</td>\n",
       "    </tr>\n",
       "    <tr>\n",
       "      <th>5</th>\n",
       "      <td>5</td>\n",
       "      <td>0.369719</td>\n",
       "      <td>-0.123090</td>\n",
       "    </tr>\n",
       "    <tr>\n",
       "      <th>6</th>\n",
       "      <td>6</td>\n",
       "      <td>0.800000</td>\n",
       "      <td>0.100000</td>\n",
       "    </tr>\n",
       "  </tbody>\n",
       "</table>\n",
       "</div>"
      ],
      "text/plain": [
       "   node     x_pos     y_pos\n",
       "0     0 -0.300000  0.600000\n",
       "1     1 -0.205629  0.099484\n",
       "2     2 -0.750000  0.150000\n",
       "3     3  0.126781 -0.411355\n",
       "4     4 -0.138489 -0.320409\n",
       "5     5  0.369719 -0.123090\n",
       "6     6  0.800000  0.100000"
      ]
     },
     "execution_count": 5,
     "metadata": {},
     "output_type": "execute_result"
    }
   ],
   "source": [
    "pd.read_csv(node_pos_file, sep = '\\t')"
   ]
  },
  {
   "cell_type": "code",
   "execution_count": 6,
   "metadata": {},
   "outputs": [],
   "source": [
    "node_pos_df = pd.read_csv(node_pos_file, sep = '\\t');\n",
    "node_pos_dict = {};\n",
    "for i in range(0,len(node_pos_df)):\n",
    "    node_pos_dict[int(node_pos_df['node'][i])] = [float(node_pos_df['x_pos'][i]),float(node_pos_df['y_pos'][i])];"
   ]
  },
  {
   "cell_type": "markdown",
   "metadata": {},
   "source": [
    "In the next cell we prepare the layout using the node positions obtained above, and we also export it to a png file."
   ]
  },
  {
   "cell_type": "code",
   "execution_count": 7,
   "metadata": {},
   "outputs": [
    {
     "data": {
      "image/png": "[encoded data removed]",
      "text/plain": [
       "<Figure size 432x288 with 1 Axes>"
      ]
     },
     "metadata": {},
     "output_type": "display_data"
    }
   ],
   "source": [
    "node_labels = {node: str(node) for node in graph.nodes()};\n",
    "layout_file = 'rw_graph_layout.png';\n",
    "nx.draw(graph, pos = node_pos_dict,labels = node_labels,node_color=[(0.7,0.7,0.7,1.0)]*graph.number_of_nodes())\n",
    "plt.savefig(layout_file,dpi = 300)"
   ]
  },
  {
   "cell_type": "markdown",
   "metadata": {},
   "source": [
    "## Plotting the empirical node visit frequencies"
   ]
  },
  {
   "cell_type": "markdown",
   "metadata": {},
   "source": [
    "The 5 teams \"simulate\" a random walk on the spread sheet, and in this section we are going to plot the recorded empirical node visit frequencies. First we just define lists corresponding to the visited node sequences, and then we prepare histograms using Pyplot. "
   ]
  },
  {
   "cell_type": "code",
   "execution_count": 8,
   "metadata": {},
   "outputs": [],
   "source": [
    "team_A_ns = [0,1,4,3,5,3,4,5,6,5,3];\n",
    "team_B_ns = [1,3,1,5,6,5,3,1,0,1,4,1,3,4,3,1,3,4,1,4,1,5];\n",
    "team_C_ns = [3,5,6,5,3,4,1,0,1,0,1,3,1,5,3,4,1,4,1,2];\n",
    "team_D_ns = [3,5,4,3,1,0,1,5,6,5,6,5,4,3,4];\n",
    "team_E_ns = [4,1,4,5,3,4,3,4,3,5,6];"
   ]
  },
  {
   "cell_type": "markdown",
   "metadata": {},
   "source": [
    "We need bins when preparing a histogram. In the current problem the natural choice is to have just a single node per bin, and since nodes are indexed by integers starting from 0, we define the bin boundaries as [-0.5,0.5,1.5,...]"
   ]
  },
  {
   "cell_type": "code",
   "execution_count": 9,
   "metadata": {},
   "outputs": [],
   "source": [
    "bins = np.arange(-0.5,max([node for node in graph.nodes()])+1.5,1.0);"
   ]
  },
  {
   "cell_type": "markdown",
   "metadata": {},
   "source": [
    "Everything is set, let's plot histograms."
   ]
  },
  {
   "cell_type": "code",
   "execution_count": 10,
   "metadata": {},
   "outputs": [
    {
     "data": {
      "image/png": "[encoded data removed]",
      "text/plain": [
       "<Figure size 432x288 with 1 Axes>"
      ]
     },
     "metadata": {},
     "output_type": "display_data"
    }
   ],
   "source": [
    "plt.clf();\n",
    "merge = [team_A_ns,team_B_ns,team_C_ns,team_D_ns,team_E_ns];\n",
    "plt.hist(merge,bins=bins, histtype='bar',label = ['A','B','C','D','E']);\n",
    "plt.xlabel('node id')\n",
    "plt.ylabel('num. visits')\n",
    "plt.legend(loc = 'upper right')\n",
    "plt.show();"
   ]
  },
  {
   "cell_type": "markdown",
   "metadata": {},
   "source": [
    "In our first histogram we did not take into account that the node visit sequences were not of equal length. We can correct this by preparing normed histograms. (Inside the pyplot.hist function we declare 'density = True')."
   ]
  },
  {
   "cell_type": "code",
   "execution_count": 11,
   "metadata": {},
   "outputs": [
    {
     "data": {
      "image/png": "[encoded data removed]",
      "text/plain": [
       "<Figure size 432x288 with 1 Axes>"
      ]
     },
     "metadata": {},
     "output_type": "display_data"
    }
   ],
   "source": [
    "plt.clf();\n",
    "merge = [team_A_ns,team_B_ns,team_C_ns,team_D_ns,team_E_ns];\n",
    "plt.hist(merge,bins=bins, histtype='bar',label = ['A','B','C','D','E'],density = True);\n",
    "plt.xlabel('node id')\n",
    "plt.ylabel('num. visits')\n",
    "plt.legend(loc = 'upper right')\n",
    "plt.show();"
   ]
  },
  {
   "cell_type": "markdown",
   "metadata": {},
   "source": [
    "To obtain a better estimate on the average node visit frequencies for long random walks we can simply 'add' (concatenate) the individual walks performed by the 4 teams."
   ]
  },
  {
   "cell_type": "code",
   "execution_count": 12,
   "metadata": {},
   "outputs": [
    {
     "data": {
      "image/png": "[encoded data removed]",
      "text/plain": [
       "<Figure size 432x288 with 1 Axes>"
      ]
     },
     "metadata": {},
     "output_type": "display_data"
    }
   ],
   "source": [
    "plt.clf();\n",
    "merge = [team_A_ns,team_B_ns,team_C_ns,team_D_ns,team_E_ns,team_A_ns + team_B_ns + team_C_ns + team_D_ns + team_E_ns]\n",
    "plt.hist(merge,bins=bins, histtype='bar',label = ['A','B','C','D','E','sum'], density= True)\n",
    "plt.xlabel('node id')\n",
    "plt.ylabel('num. visits')\n",
    "plt.legend(loc = 'upper right');\n",
    "plt.show();"
   ]
  },
  {
   "cell_type": "markdown",
   "metadata": {},
   "source": [
    "## Simulating the random walk"
   ]
  },
  {
   "cell_type": "markdown",
   "metadata": {},
   "source": [
    "Instead of performing the random walk with dice throwing we can write a small function that can simulate the random walk up to any desired number of steps."
   ]
  },
  {
   "cell_type": "code",
   "execution_count": 13,
   "metadata": {},
   "outputs": [],
   "source": [
    "def Random_walk(graph,max_num_steps):\n",
    "    _walker_pos = [];\n",
    "    _walker_pos.clear();\n",
    "    _current_pos = np.random.choice(graph.nodes());\n",
    "    for i in range(0,max_num_steps):\n",
    "        _walker_pos.append(_current_pos);\n",
    "        _current_pos = np.random.choice(list(graph.neighbors(_current_pos)));\n",
    "    _walker_pos.append(_current_pos);\n",
    "    return _walker_pos;    "
   ]
  },
  {
   "cell_type": "code",
   "execution_count": 14,
   "metadata": {},
   "outputs": [],
   "source": [
    "walker_pos = Random_walk(graph,50);"
   ]
  },
  {
   "cell_type": "markdown",
   "metadata": {},
   "source": [
    "Let's make an interactive visualisation of the random walking."
   ]
  },
  {
   "cell_type": "code",
   "execution_count": 15,
   "metadata": {},
   "outputs": [],
   "source": [
    "def Plot_nets(graph,pos_vec,color_dict,step):\n",
    "    _color_list = color_dict[step];\n",
    "    nx.draw_networkx(graph,pos=pos_vec,node_color=_color_list);\n",
    "    plt.show();"
   ]
  },
  {
   "cell_type": "code",
   "execution_count": 16,
   "metadata": {},
   "outputs": [],
   "source": [
    "node_num_vis_step = {0: {node: 0 for node in graph.nodes()}};\n",
    "node_num_vis_step[0][walker_pos[0]] = 1;\n",
    "for i in range(1,len(walker_pos)):\n",
    "    node_num_vis_step[i] = dict(node_num_vis_step[i-1]);\n",
    "    node_num_vis_step[i][walker_pos[i]] += 1;"
   ]
  },
  {
   "cell_type": "code",
   "execution_count": 17,
   "metadata": {},
   "outputs": [],
   "source": [
    "max_vis = max( [max(node_num_vis_step[step].values()) for step in node_num_vis_step]);\n",
    "rw_colors = {};\n",
    "rw_colors.clear();\n",
    "for step in node_num_vis_step:\n",
    "    rw_colors[step] = [plt.cm.coolwarm(node_num_vis_step[step][node]/max_vis) for node in node_num_vis_step[step]];\n",
    "    cur_node = walker_pos[step];\n",
    "    cur_id = [node for node in node_num_vis_step[step]].index(cur_node);\n",
    "    rw_colors[step][cur_id] = (0.0,1.0,0.0,1.0); # green"
   ]
  },
  {
   "cell_type": "code",
   "execution_count": 18,
   "metadata": {},
   "outputs": [
    {
     "data": {
      "application/vnd.jupyter.widget-view+json": {
       "model_id": "b9c0179216474e49bcb9d56b6867c7ce",
       "version_major": 2,
       "version_minor": 0
      },
      "text/plain": [
       "interactive(children=(IntSlider(value=0, description='step', max=50), Output()), _dom_classes=('widget-interac…"
      ]
     },
     "metadata": {},
     "output_type": "display_data"
    },
    {
     "data": {
      "text/plain": [
       "<function __main__.Plot_nets(graph, pos_vec, color_dict, step)>"
      ]
     },
     "execution_count": 18,
     "metadata": {},
     "output_type": "execute_result"
    }
   ],
   "source": [
    "interact(Plot_nets,graph = fixed(graph), pos_vec=fixed(node_pos_dict),color_dict=fixed(rw_colors),\n",
    "         step = IntSlider(min = 0, max = len(rw_colors)-1, step = 1, value =0,\n",
    "                                            description = \"step\"))"
   ]
  },
  {
   "cell_type": "markdown",
   "metadata": {},
   "source": [
    "\n",
    "\n",
    "\n",
    "\n",
    "\n",
    "\n",
    "\n",
    "\n",
    "\n",
    "\n",
    "\n",
    "\n",
    "\n"
   ]
  },
  {
   "cell_type": "markdown",
   "metadata": {},
   "source": [
    "It is time to compare the simulations by the computer to the results obtained from dice throwing."
   ]
  },
  {
   "cell_type": "code",
   "execution_count": 19,
   "metadata": {},
   "outputs": [],
   "source": [
    "long_walker_pos = Random_walk(graph,10000);"
   ]
  },
  {
   "cell_type": "code",
   "execution_count": 23,
   "metadata": {},
   "outputs": [
    {
     "data": {
      "image/png": "[encoded data removed]",
      "text/plain": [
       "<Figure size 432x288 with 1 Axes>"
      ]
     },
     "metadata": {},
     "output_type": "display_data"
    }
   ],
   "source": [
    "plt.clf();\n",
    "merge = [team_A_ns,team_B_ns,team_C_ns,team_D_ns,team_E_ns,team_A_ns + team_B_ns + team_C_ns + team_D_ns + team_E_ns,long_walker_pos]\n",
    "plt.hist(merge,bins=bins, histtype='bar',label = ['A','B','C','D','E','sum','simulated'], density= True)\n",
    "plt.xlabel('node id')\n",
    "plt.ylabel('num. visits')\n",
    "plt.legend(loc = 'upper right');\n",
    "plt.show();"
   ]
  },
  {
   "cell_type": "code",
   "execution_count": null,
   "metadata": {},
   "outputs": [],
   "source": []
  }
 ],
 "metadata": {
  "kernelspec": {
   "display_name": "Python 3",
   "language": "python",
   "name": "python3"
  },
  "language_info": {
   "codemirror_mode": {
    "name": "ipython",
    "version": 3
   },
   "file_extension": ".py",
   "mimetype": "text/x-python",
   "name": "python",
   "nbconvert_exporter": "python",
   "pygments_lexer": "ipython3",
   "version": "3.5.2"
  }
 },
 "nbformat": 4,
 "nbformat_minor": 2
}
