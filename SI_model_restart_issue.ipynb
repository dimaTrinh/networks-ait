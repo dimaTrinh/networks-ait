{
 "cells": [
  {
   "cell_type": "markdown",
   "metadata": {},
   "source": [
    "# Resolving the issue with continuing a simulation\n",
    "\n",
    "Last week we have implemented an SI epidemic spreading model, and mentioned that one of the decisions we have to make is how many timesteps to simulate. We discussed that in addition to various heuristics we can use to guess when to stop, one option is to not stop: to return or store the state of the simulation, keeping open the possibility of continuing the simulation.\n",
    "\n",
    "We did the following test to check that our code works correctly: we ran a simulation for 2x20 timesteps, and then re-ran the last 20 timesteps again. We got the following:"
   ]
  },
  {
   "cell_type": "code",
   "execution_count": 1,
   "metadata": {},
   "outputs": [],
   "source": [
    "import networkx, random\n",
    "import matplotlib.pyplot as plt\n",
    "import copy\n",
    "S = 'S'; I = 'I'\n",
    "\n",
    "def si_infection_model__initialize(g, Lambda):\n",
    "    node_states = {node:S for node in g.nodes()}\n",
    "    node_states[random.choice(list(g.nodes()))] = I # start with one, randomly chosen node in I state\n",
    "    \n",
    "    result = []\n",
    "    num_infected_nodes = len([node for node in g.nodes() if node_states[node] == I])\n",
    "    result.append(num_infected_nodes)\n",
    "    \n",
    "    return result, g, Lambda, node_states\n",
    "\n",
    "def si_infection_model__run_some_steps(result, g, Lambda, node_states, num_timesteps):\n",
    "    for timestep in range(num_timesteps):\n",
    "        for node in g.nodes(): # for each time-step, iterate over all nodes and try to infect neighbors:\n",
    "            if node_states[node] is I:\n",
    "                for neighbor in g.neighbors(node):\n",
    "                    if random.random() < Lambda:\n",
    "                        node_states[neighbor] = I\n",
    "        num_infected_nodes = len([node for node in g.nodes() if node_states[node] == I])\n",
    "        result.append(num_infected_nodes)\n",
    "    \n",
    "    return result, g, Lambda, node_states"
   ]
  },
  {
   "cell_type": "code",
   "execution_count": 2,
   "metadata": {},
   "outputs": [
    {
     "data": {
      "text/plain": [
       "[<matplotlib.lines.Line2D at 0x219b997cac0>]"
      ]
     },
     "execution_count": 2,
     "metadata": {},
     "output_type": "execute_result"
    },
    {
     "data": {
      "image/png": "[encoded data removed]",
      "text/plain": [
       "<Figure size 432x288 with 1 Axes>"
      ]
     },
     "metadata": {
      "needs_background": "light"
     },
     "output_type": "display_data"
    }
   ],
   "source": [
    "result, g, Lambda, node_states = si_infection_model__initialize(networkx.gnp_random_graph(1000, 0.2), 0.001)\n",
    "result, g, Lambda, node_states = si_infection_model__run_some_steps(result, g, Lambda, node_states, 20)\n",
    "backup_of_state = copy.deepcopy((result, g, Lambda, node_states))\n",
    "# first run:\n",
    "result_first_run, g, Lambda, node_states = si_infection_model__run_some_steps(result, g, Lambda, node_states, 20)\n",
    "\n",
    "# second run, re-running the second 20 steps:\n",
    "result, g, Lambda, node_states = backup_of_state\n",
    "result_second_run, g, Lambda, node_states = si_infection_model__run_some_steps(result, g, Lambda, node_states, 20)\n",
    "\n",
    "plt.plot(result_first_run)\n",
    "plt.plot(result_second_run)"
   ]
  },
  {
   "cell_type": "markdown",
   "metadata": {},
   "source": [
    "As the plot above shows, the two results differ after the first 20 steps, i.e. our \"save & restore state\" does not work fully correctly. As we mentioned, we shouldn't accept such a difference, no matter how small, since the \"store the state and continue / re-run the simulation\" should be able to fully reproduce the previous results.\n",
    "\n",
    "The issue is very simple to resolve once we know what to look for: we need to ensure that we save & restore the full state of the simulation. The full state, including and variables, datastructures, etc., including the state of the random number generator. As we have seen before, the random module is a Pseudo Random Number Generator (PRNG), which is actually completely deterministic, and we can use random.getstate() and random.setstate() to save & restore the internal state. Adding this to the \"state\" of the simulation, we can see that we get full reproducibility (shown on the plot below by the fact that only one color is visible, since the two curves are on top of each other):"
   ]
  },
  {
   "cell_type": "code",
   "execution_count": 3,
   "metadata": {},
   "outputs": [
    {
     "data": {
      "text/plain": [
       "[<matplotlib.lines.Line2D at 0x219b99763d0>]"
      ]
     },
     "execution_count": 3,
     "metadata": {},
     "output_type": "execute_result"
    },
    {
     "data": {
      "image/png": "[encoded data removed]",
      "text/plain": [
       "<Figure size 432x288 with 1 Axes>"
      ]
     },
     "metadata": {
      "needs_background": "light"
     },
     "output_type": "display_data"
    }
   ],
   "source": [
    "def si_infection_model__initialize2(g, Lambda):\n",
    "    node_states = {node:S for node in g.nodes()}\n",
    "    node_states[random.choice(list(g.nodes()))] = I # start with one, randomly chosen node in I state\n",
    "    \n",
    "    result = []\n",
    "    num_infected_nodes = len([node for node in g.nodes() if node_states[node] == I])\n",
    "    result.append(num_infected_nodes)\n",
    "    \n",
    "    return result, g, Lambda, node_states, random.getstate()\n",
    "\n",
    "def si_infection_model__run_some_steps2(result, g, Lambda, node_states, prng_state, num_timesteps):\n",
    "    random.setstate(prng_state)\n",
    "    for timestep in range(num_timesteps):\n",
    "        for node in g.nodes(): # for each time-step, iterate over all nodes and try to infect neighbors:\n",
    "            if node_states[node] is I:\n",
    "                for neighbor in g.neighbors(node):\n",
    "                    if random.random() < Lambda:\n",
    "                        node_states[neighbor] = I\n",
    "        num_infected_nodes = len([node for node in g.nodes() if node_states[node] == I])\n",
    "        result.append(num_infected_nodes)\n",
    "    \n",
    "    return result, g, Lambda, node_states, random.getstate()\n",
    "\n",
    "import copy\n",
    "result, g, Lambda, node_states, prng_state = si_infection_model__initialize2(networkx.gnp_random_graph(1000, 0.2), 0.001)\n",
    "result, g, Lambda, node_states, prng_state = si_infection_model__run_some_steps2(result, g, Lambda, node_states, prng_state, 20)\n",
    "backup_of_state = copy.deepcopy((result, g, Lambda, node_states, prng_state))\n",
    "# first run:\n",
    "result_first_run, g, Lambda, node_states, prng_state = si_infection_model__run_some_steps2(result, g, Lambda, node_states, prng_state, 20)\n",
    "\n",
    "# second run, re-running the second 20 steps:\n",
    "result, g, Lambda, node_states, prng_state = backup_of_state\n",
    "result_second_run, g, Lambda, node_states, prng_state = si_infection_model__run_some_steps2(result, g, Lambda, node_states, prng_state, 20)\n",
    "\n",
    "plt.plot(result_first_run)\n",
    "plt.plot(result_second_run)"
   ]
  }
 ],
 "metadata": {
  "kernelspec": {
   "display_name": "Python 3",
   "language": "python",
   "name": "python3"
  },
  "language_info": {
   "codemirror_mode": {
    "name": "ipython",
    "version": 3
   },
   "file_extension": ".py",
   "mimetype": "text/x-python",
   "name": "python",
   "nbconvert_exporter": "python",
   "pygments_lexer": "ipython3",
   "version": "3.8.1"
  }
 },
 "nbformat": 4,
 "nbformat_minor": 2
}
