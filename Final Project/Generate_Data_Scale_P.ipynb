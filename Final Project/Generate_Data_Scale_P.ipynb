{
 "cells": [
  {
   "cell_type": "code",
   "execution_count": 1,
   "metadata": {
    "colab": {},
    "colab_type": "code",
    "id": "bUToMpO4A9R2"
   },
   "outputs": [],
   "source": [
    "import networkx as nx;\n",
    "import numpy as np;\n",
    "import matplotlib;\n",
    "import matplotlib.pyplot as plt;\n",
    "import math;"
   ]
  },
  {
   "cell_type": "code",
   "execution_count": 2,
   "metadata": {
    "colab": {},
    "colab_type": "code",
    "id": "D8zt7r7xA9R5"
   },
   "outputs": [],
   "source": [
    "def Calc_chi_and_S(network):\n",
    "    _network_N = network.number_of_nodes();\n",
    "    _comps = nx.connected_components(network);\n",
    "    _comp_sizes = [len(_comp) for _comp in _comps];\n",
    "    _sort_c_sizes = sorted(_comp_sizes,reverse=True);\n",
    "    _lcs = _sort_c_sizes[0]/_network_N;\n",
    "    _chi = 0;\n",
    "    if len(_sort_c_sizes) > 1:\n",
    "        _chi = sum([_sort_c_sizes[i]*_sort_c_sizes[i] for i in range(1,len(_sort_c_sizes))]);\n",
    "        return _chi/(len(_sort_c_sizes)),_lcs;\n",
    "    else:\n",
    "        return _chi,_lcs;"
   ]
  },
  {
   "cell_type": "code",
   "execution_count": 3,
   "metadata": {
    "colab": {},
    "colab_type": "code",
    "id": "OqlQj9MxA9R8"
   },
   "outputs": [],
   "source": [
    "N, num_samp = 1500, 10;\n",
    "delta = 0.001\n",
    "est_p_crit = 0;\n",
    "maxChi = 0;\n",
    "p_list = np.linspace(1/(N-1)-delta, 1/(N-1)+delta, 300);\n",
    "av_S,av_chi = [],[];\n",
    "av_S.clear();\n",
    "av_chi.clear();\n",
    "for p in p_list:\n",
    "    S_values, chi_values = [],[];\n",
    "    S_values.clear();\n",
    "    chi_values.clear();\n",
    "    for i in range(0,num_samp):\n",
    "        ER_graph = nx.generators.erdos_renyi_graph(N,p);\n",
    "        chi,S = Calc_chi_and_S(ER_graph);\n",
    "        S_values.append(S);\n",
    "        chi_values.append(chi);\n",
    "    av_S.append(np.mean(S_values));\n",
    "    meanChi = np.mean(chi_values)\n",
    "    if (meanChi > maxChi):\n",
    "        maxChi = meanChi;\n",
    "        est_p_crit = p;\n",
    "    av_chi.append(meanChi);"
   ]
  },
  {
   "cell_type": "code",
   "execution_count": 39,
   "metadata": {},
   "outputs": [],
   "source": [
    "from google.colab import files\n",
    "import json\n",
    "\n",
    "data = {}\n",
    "data['N'] = N;\n",
    "data['est_p_crit'] = est_p_crit;\n",
    "data['maxChi'] = maxChi;\n",
    "data['p_list'] = p_list.tolist();\n",
    "data['av_S'] = av_S;\n",
    "data['av_chi'] = av_chi;\n",
    "\n",
    "with open('s_chi_e-r_1500_scale_p.json', 'w') as json_file:\n",
    "    json.dump(data, json_file)\n",
    "\n",
    "files.download('s_chi_e-r_1500_scale_p.json')"
   ]
  }
 ],
 "metadata": {
  "colab": {
   "collapsed_sections": [],
   "name": "Project Proposal - Duc Trinh.ipynb",
   "provenance": []
  },
  "kernelspec": {
   "display_name": "Python 3",
   "language": "python",
   "name": "python3"
  },
  "language_info": {
   "codemirror_mode": {
    "name": "ipython",
    "version": 3
   },
   "file_extension": ".py",
   "mimetype": "text/x-python",
   "name": "python",
   "nbconvert_exporter": "python",
   "pygments_lexer": "ipython3",
   "version": "3.7.7"
  }
 },
 "nbformat": 4,
 "nbformat_minor": 1
}
