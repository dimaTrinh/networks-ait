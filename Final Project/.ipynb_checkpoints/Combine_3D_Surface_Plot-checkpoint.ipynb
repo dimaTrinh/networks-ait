{
 "cells": [
  {
   "cell_type": "code",
   "execution_count": 1,
   "metadata": {},
   "outputs": [],
   "source": [
    "import networkx as nx;\n",
    "import numpy as np;\n",
    "import matplotlib;\n",
    "import matplotlib.pyplot as plt;\n",
    "import math;"
   ]
  },
  {
   "cell_type": "code",
   "execution_count": 2,
   "metadata": {},
   "outputs": [],
   "source": [
    "from mpl_toolkits import mplot3d\n",
    "#Source: https://jakevdp.github.io/PythonDataScienceHandbook/04.12-three-dimensional-plotting.html"
   ]
  },
  {
   "cell_type": "code",
   "execution_count": 3,
   "metadata": {},
   "outputs": [],
   "source": [
    "import json\n",
    "with open('3d_surface_10_500.json') as json_file:\n",
    "     data = json.load(json_file)"
   ]
  },
  {
   "cell_type": "code",
   "execution_count": 4,
   "metadata": {},
   "outputs": [],
   "source": [
    "x = data['X']\n",
    "y = data['Y']\n",
    "z = data['Z']\n",
    "z2 = data['Z2']"
   ]
  },
  {
   "cell_type": "code",
   "execution_count": 5,
   "metadata": {},
   "outputs": [],
   "source": [
    "with open('3d_surface_500_1000.json') as json_file:\n",
    "    data = json.load(json_file)\n",
    "x = x + data['X']\n",
    "y = y + data['Y']\n",
    "z = z + data['Z']\n",
    "z2 = z2 + data['Z2']"
   ]
  },
  {
   "cell_type": "code",
   "execution_count": 6,
   "metadata": {},
   "outputs": [],
   "source": [
    "with open('3d_surface_1000_3000.json') as json_file:\n",
    "    data = json.load(json_file)\n",
    "x = x + data['X']\n",
    "y = y + data['Y']\n",
    "z = z + data['Z']\n",
    "z2 = z2 + data['Z2']"
   ]
  },
  {
   "cell_type": "code",
   "execution_count": 7,
   "metadata": {},
   "outputs": [],
   "source": [
    "with open('3d_surface_3000_5000.json') as json_file:\n",
    "    data = json.load(json_file)\n",
    "x = x + data['X']\n",
    "y = y + data['Y']\n",
    "z = z + data['Z']\n",
    "z2 = z2 + data['Z2']"
   ]
  },
  {
   "cell_type": "code",
   "execution_count": 8,
   "metadata": {},
   "outputs": [],
   "source": [
    "with open('3d_surface_5000_7000_2.json') as json_file:\n",
    "    data = json.load(json_file)\n",
    "x = x + data['X']\n",
    "y = y + data['Y']\n",
    "z = z + data['Z']\n",
    "z2 = z2 + data['Z2']"
   ]
  },
  {
   "cell_type": "code",
   "execution_count": 9,
   "metadata": {
    "scrolled": true
   },
   "outputs": [],
   "source": [
    "with open('3d_surface_7000_10000_4.json') as json_file:\n",
    "    data = json.load(json_file)\n",
    "x = x + data['X']\n",
    "y = y + data['Y']\n",
    "z = z + data['Z']\n",
    "z2 = z2 + data['Z2']"
   ]
  },
  {
   "cell_type": "code",
   "execution_count": 10,
   "metadata": {
    "scrolled": false
   },
   "outputs": [
    {
     "name": "stderr",
     "output_type": "stream",
     "text": [
      "UsageError: unrecognized arguments: #notebook\n"
     ]
    }
   ],
   "source": [
    "%matplotlib inline \n",
    "#notebook\n",
    "plt.clf()\n",
    "plt.figure(figsize=(15,10))\n",
    "ax = plt.axes(projection='3d')\n",
    "X=np.array([np.array(xi) for xi in x])\n",
    "Y=np.array([np.array(yi) for yi in y])\n",
    "Z=np.array([np.array(zi) for zi in z])\n",
    "Z2=np.array([np.array(zi) for zi in z2])\n",
    "ax.plot_surface(Y, X, Z, rstride=1, cstride=1,\n",
    "                cmap='viridis', edgecolor='none')\n",
    "ax.set_title(r'3D Surface Plot for $S$');\n",
    "ax.set_xlabel(r'$N$')\n",
    "ax.set_ylabel(r'$p$')\n",
    "ax.set_zlabel(r'$S$');\n",
    "plt.show()"
   ]
  },
  {
   "cell_type": "code",
   "execution_count": null,
   "metadata": {
    "scrolled": false
   },
   "outputs": [],
   "source": [
    "#%matplotlib inline\n",
    "plt.clf()\n",
    "plt.figure(figsize=(15,10))\n",
    "ax = plt.axes(projection='3d')\n",
    "ax.plot_surface(Y, X, Z2, rstride=1, cstride=1,\n",
    "                cmap='viridis', edgecolor='none')\n",
    "ax.set_title(r'3D Surface Plot for $\\chi$');\n",
    "ax.set_xlabel(r'$N$')\n",
    "ax.set_ylabel(r'$p$')\n",
    "ax.set_zlabel(r'$\\chi$');"
   ]
  },
  {
   "cell_type": "code",
   "execution_count": null,
   "metadata": {},
   "outputs": [],
   "source": [
    "import matplotlib.cm as cm"
   ]
  },
  {
   "cell_type": "code",
   "execution_count": null,
   "metadata": {},
   "outputs": [],
   "source": [
    "minX = min([min(xi) for xi in x])\n",
    "logX = [[math.log(xj) if xj >= 0 else 0 for xj in xi] for xi in x]\n",
    "logX=np.array([np.array(xi) for xi in logX])"
   ]
  },
  {
   "cell_type": "code",
   "execution_count": null,
   "metadata": {},
   "outputs": [],
   "source": [
    "logY = [[math.log(yj) for yj in yi] for yi in y]\n",
    "logY=np.array([np.array(yi) for yi in logY])"
   ]
  },
  {
   "cell_type": "code",
   "execution_count": null,
   "metadata": {},
   "outputs": [],
   "source": [
    "fig, ax = plt.subplots(figsize=(10,8))\n",
    "CS = ax.contour(logX, logY, Z)\n",
    "ax.clabel(CS, inline=1, fontsize=10)\n",
    "ax.set_title(r'Contour of $S$')\n",
    "_ = ax.set_xlabel(r'$\\log(p)$')\n",
    "_ = ax.set_ylabel(r'$\\log(N)$')"
   ]
  },
  {
   "cell_type": "code",
   "execution_count": null,
   "metadata": {},
   "outputs": [],
   "source": [
    "fig, ax = plt.subplots(figsize = (10,8))\n",
    "CS = ax.contour(logX, logY, Z2)\n",
    "ax.clabel(CS, inline=1, fontsize=10)\n",
    "ax.set_title(r'Contour of $\\chi$')\n",
    "_ = ax.set_xlabel(r'$\\log(p)$')\n",
    "_ = ax.set_ylabel(r'$\\log(N)$')"
   ]
  },
  {
   "cell_type": "code",
   "execution_count": null,
   "metadata": {},
   "outputs": [],
   "source": []
  }
 ],
 "metadata": {
  "kernelspec": {
   "display_name": "Python 3",
   "language": "python",
   "name": "python3"
  },
  "language_info": {
   "codemirror_mode": {
    "name": "ipython",
    "version": 3
   },
   "file_extension": ".py",
   "mimetype": "text/x-python",
   "name": "python",
   "nbconvert_exporter": "python",
   "pygments_lexer": "ipython3",
   "version": "3.7.7"
  }
 },
 "nbformat": 4,
 "nbformat_minor": 4
}
