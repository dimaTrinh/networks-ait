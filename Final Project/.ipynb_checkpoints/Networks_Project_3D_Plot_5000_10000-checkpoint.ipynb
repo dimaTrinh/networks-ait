{
 "cells": [
  {
   "cell_type": "code",
   "execution_count": 1,
   "metadata": {
    "colab": {},
    "colab_type": "code",
    "id": "XIZO9RgxESbH"
   },
   "outputs": [],
   "source": [
    "import networkx as nx;\n",
    "import numpy as np;\n",
    "import matplotlib;\n",
    "import matplotlib.pyplot as plt;\n",
    "import math;"
   ]
  },
  {
   "cell_type": "code",
   "execution_count": 2,
   "metadata": {
    "colab": {},
    "colab_type": "code",
    "id": "6aOi9fETEajS"
   },
   "outputs": [],
   "source": [
    "from mpl_toolkits import mplot3d\n",
    "%matplotlib inline\n",
    "#Source: https://jakevdp.github.io/PythonDataScienceHandbook/04.12-three-dimensional-plotting.html"
   ]
  },
  {
   "cell_type": "code",
   "execution_count": 3,
   "metadata": {
    "colab": {},
    "colab_type": "code",
    "id": "8hWGwGrSEb3j"
   },
   "outputs": [],
   "source": [
    "def getSampleSize(size):\n",
    "    if size >= 2000:\n",
    "        return 5\n",
    "    elif size >= 1000:\n",
    "        return 10\n",
    "    elif size >= 500:\n",
    "        return 20\n",
    "    elif size >= 200:\n",
    "        return 30\n",
    "    else: \n",
    "        return 50"
   ]
  },
  {
   "cell_type": "code",
   "execution_count": 4,
   "metadata": {
    "colab": {},
    "colab_type": "code",
    "id": "u-zvyGJZEhyl"
   },
   "outputs": [],
   "source": [
    "def calc_chi_and_S(network):\n",
    "    _network_N = network.number_of_nodes();\n",
    "    _comps = nx.connected_components(network);\n",
    "    _comp_sizes = [len(_comp) for _comp in _comps];\n",
    "    _sort_c_sizes = sorted(_comp_sizes,reverse=True);\n",
    "    _lcs = _sort_c_sizes[0]/_network_N;\n",
    "    _chi = 0;\n",
    "    if len(_sort_c_sizes) > 1:\n",
    "        _chi = sum([_sort_c_sizes[i]*_sort_c_sizes[i] for i in range(1,len(_sort_c_sizes))]);\n",
    "        return _chi/(len(_sort_c_sizes)),_lcs;\n",
    "    else:\n",
    "        return _chi,_lcs;"
   ]
  },
  {
   "cell_type": "code",
   "execution_count": 5,
   "metadata": {
    "colab": {},
    "colab_type": "code",
    "id": "5vEnU9PzEjxH"
   },
   "outputs": [
    {
     "name": "stdout",
     "output_type": "stream",
     "text": [
      "5000\n",
      "5200\n",
      "5400\n",
      "5600\n",
      "5800\n",
      "6000\n",
      "6200\n",
      "6400\n",
      "6600\n",
      "6800\n",
      "7000\n",
      "7200\n",
      "7400\n",
      "7600\n",
      "7800\n",
      "8000\n",
      "8200\n",
      "8400\n"
     ]
    },
    {
     "ename": "KeyboardInterrupt",
     "evalue": "",
     "output_type": "error",
     "traceback": [
      "\u001b[1;31m---------------------------------------------------------------------------\u001b[0m",
      "\u001b[1;31mKeyboardInterrupt\u001b[0m                         Traceback (most recent call last)",
      "\u001b[1;32m<ipython-input-5-7961821b6fab>\u001b[0m in \u001b[0;36m<module>\u001b[1;34m\u001b[0m\n\u001b[0;32m     24\u001b[0m         \u001b[0mnum_samp\u001b[0m \u001b[1;33m=\u001b[0m \u001b[0mgetSampleSize\u001b[0m\u001b[1;33m(\u001b[0m\u001b[0msize\u001b[0m\u001b[1;33m)\u001b[0m\u001b[1;33m;\u001b[0m\u001b[1;33m\u001b[0m\u001b[1;33m\u001b[0m\u001b[0m\n\u001b[0;32m     25\u001b[0m         \u001b[1;32mfor\u001b[0m \u001b[0mi\u001b[0m \u001b[1;32min\u001b[0m \u001b[0mrange\u001b[0m\u001b[1;33m(\u001b[0m\u001b[1;36m0\u001b[0m\u001b[1;33m,\u001b[0m\u001b[0mnum_samp\u001b[0m\u001b[1;33m)\u001b[0m\u001b[1;33m:\u001b[0m\u001b[1;33m\u001b[0m\u001b[1;33m\u001b[0m\u001b[0m\n\u001b[1;32m---> 26\u001b[1;33m             \u001b[0mER_graph\u001b[0m \u001b[1;33m=\u001b[0m \u001b[0mnx\u001b[0m\u001b[1;33m.\u001b[0m\u001b[0mgenerators\u001b[0m\u001b[1;33m.\u001b[0m\u001b[0merdos_renyi_graph\u001b[0m\u001b[1;33m(\u001b[0m\u001b[0msize\u001b[0m\u001b[1;33m,\u001b[0m\u001b[0mp\u001b[0m\u001b[1;33m)\u001b[0m\u001b[1;33m;\u001b[0m\u001b[1;33m\u001b[0m\u001b[1;33m\u001b[0m\u001b[0m\n\u001b[0m\u001b[0;32m     27\u001b[0m             \u001b[0mchi\u001b[0m\u001b[1;33m,\u001b[0m\u001b[0mS\u001b[0m \u001b[1;33m=\u001b[0m \u001b[0mcalc_chi_and_S\u001b[0m\u001b[1;33m(\u001b[0m\u001b[0mER_graph\u001b[0m\u001b[1;33m)\u001b[0m\u001b[1;33m;\u001b[0m\u001b[1;33m\u001b[0m\u001b[1;33m\u001b[0m\u001b[0m\n\u001b[0;32m     28\u001b[0m             \u001b[0mS_values\u001b[0m\u001b[1;33m.\u001b[0m\u001b[0mappend\u001b[0m\u001b[1;33m(\u001b[0m\u001b[0mS\u001b[0m\u001b[1;33m)\u001b[0m\u001b[1;33m;\u001b[0m\u001b[1;33m\u001b[0m\u001b[1;33m\u001b[0m\u001b[0m\n",
      "\u001b[1;32m<decorator-gen-698>\u001b[0m in \u001b[0;36mgnp_random_graph\u001b[1;34m(n, p, seed, directed)\u001b[0m\n",
      "\u001b[1;32m~\\Anaconda3\\envs\\tensorflow\\lib\\site-packages\\networkx\\utils\\decorators.py\u001b[0m in \u001b[0;36m_random_state\u001b[1;34m(func, *args, **kwargs)\u001b[0m\n\u001b[0;32m    462\u001b[0m         \u001b[0mnew_args\u001b[0m \u001b[1;33m=\u001b[0m \u001b[0mlist\u001b[0m\u001b[1;33m(\u001b[0m\u001b[0margs\u001b[0m\u001b[1;33m)\u001b[0m\u001b[1;33m\u001b[0m\u001b[1;33m\u001b[0m\u001b[0m\n\u001b[0;32m    463\u001b[0m         \u001b[0mnew_args\u001b[0m\u001b[1;33m[\u001b[0m\u001b[0mrandom_state_index\u001b[0m\u001b[1;33m]\u001b[0m \u001b[1;33m=\u001b[0m \u001b[0mrandom_state\u001b[0m\u001b[1;33m\u001b[0m\u001b[1;33m\u001b[0m\u001b[0m\n\u001b[1;32m--> 464\u001b[1;33m         \u001b[1;32mreturn\u001b[0m \u001b[0mfunc\u001b[0m\u001b[1;33m(\u001b[0m\u001b[1;33m*\u001b[0m\u001b[0mnew_args\u001b[0m\u001b[1;33m,\u001b[0m \u001b[1;33m**\u001b[0m\u001b[0mkwargs\u001b[0m\u001b[1;33m)\u001b[0m\u001b[1;33m\u001b[0m\u001b[1;33m\u001b[0m\u001b[0m\n\u001b[0m\u001b[0;32m    465\u001b[0m     \u001b[1;32mreturn\u001b[0m \u001b[0m_random_state\u001b[0m\u001b[1;33m\u001b[0m\u001b[1;33m\u001b[0m\u001b[0m\n",
      "\u001b[1;32m~\\Anaconda3\\envs\\tensorflow\\lib\\site-packages\\networkx\\generators\\random_graphs.py\u001b[0m in \u001b[0;36mgnp_random_graph\u001b[1;34m(n, p, seed, directed)\u001b[0m\n\u001b[0;32m    170\u001b[0m \u001b[1;33m\u001b[0m\u001b[0m\n\u001b[0;32m    171\u001b[0m     \u001b[1;32mfor\u001b[0m \u001b[0me\u001b[0m \u001b[1;32min\u001b[0m \u001b[0medges\u001b[0m\u001b[1;33m:\u001b[0m\u001b[1;33m\u001b[0m\u001b[1;33m\u001b[0m\u001b[0m\n\u001b[1;32m--> 172\u001b[1;33m         \u001b[1;32mif\u001b[0m \u001b[0mseed\u001b[0m\u001b[1;33m.\u001b[0m\u001b[0mrandom\u001b[0m\u001b[1;33m(\u001b[0m\u001b[1;33m)\u001b[0m \u001b[1;33m<\u001b[0m \u001b[0mp\u001b[0m\u001b[1;33m:\u001b[0m\u001b[1;33m\u001b[0m\u001b[1;33m\u001b[0m\u001b[0m\n\u001b[0m\u001b[0;32m    173\u001b[0m             \u001b[0mG\u001b[0m\u001b[1;33m.\u001b[0m\u001b[0madd_edge\u001b[0m\u001b[1;33m(\u001b[0m\u001b[1;33m*\u001b[0m\u001b[0me\u001b[0m\u001b[1;33m)\u001b[0m\u001b[1;33m\u001b[0m\u001b[1;33m\u001b[0m\u001b[0m\n\u001b[0;32m    174\u001b[0m     \u001b[1;32mreturn\u001b[0m \u001b[0mG\u001b[0m\u001b[1;33m\u001b[0m\u001b[1;33m\u001b[0m\u001b[0m\n",
      "\u001b[1;31mKeyboardInterrupt\u001b[0m: "
     ]
    }
   ],
   "source": [
    "x, y, z, z2 = [],[],[], [];\n",
    "x.clear(); #hold p values\n",
    "y.clear(); #hold N values\n",
    "z.clear(); #hold S values\n",
    "z2.clear(); #hold chi values\n",
    "num_samp = 100;\n",
    "delta = 0.005;\n",
    "size_list = list(range(5000, 10200, 200)); #list(range(10, 500, 5)) #+ list(range(500, 1000, 50)) + list(range(1000, 10100, 100));\n",
    "for size in size_list:\n",
    "    print(size)\n",
    "    num_p_samp = 150\n",
    "    p_list = np.linspace(1/(size-1)-delta, 1/(size-1)+delta, num_p_samp);\n",
    "    x.append(list(p_list))\n",
    "    y.append([size]*num_p_samp)\n",
    "    s_list = [];\n",
    "    s_list.clear();\n",
    "    chi_list = [];\n",
    "    chi_list.clear();\n",
    "    for p in p_list:\n",
    "        S_values = [];\n",
    "        S_values.clear();\n",
    "        chi_values =[];\n",
    "        chi_values.clear();\n",
    "        num_samp = getSampleSize(size);\n",
    "        for i in range(0,num_samp):\n",
    "            ER_graph = nx.generators.erdos_renyi_graph(size,p);\n",
    "            chi,S = calc_chi_and_S(ER_graph);\n",
    "            S_values.append(S);\n",
    "            chi_values.append(chi);\n",
    "        s_list.append(np.mean(S_values));\n",
    "        chi_list.append(np.mean(chi_values));\n",
    "    z.append(s_list)\n",
    "    z2.append(chi_list)"
   ]
  },
  {
   "cell_type": "code",
   "execution_count": null,
   "metadata": {
    "colab": {},
    "colab_type": "code",
    "id": "3ZUNZJz3EmqO"
   },
   "outputs": [],
   "source": [
    "plt.clf()\n",
    "fig=plt.figure(figsize=(15,10))\n",
    "ax = plt.axes(projection='3d')\n",
    "X=np.array([np.array(xi) for xi in x])\n",
    "Y=np.array([np.array(yi) for yi in y])\n",
    "Z=np.array([np.array(zi) for zi in z])\n",
    "Z2=np.array([np.array(zi) for zi in z2])\n",
    "ax.plot_surface(Y, X, Z, rstride=1, cstride=1,\n",
    "                cmap='viridis', edgecolor='none')\n",
    "ax.set_title('3D Surface Plot for S');\n",
    "ax.set_xlabel(r'$N$')\n",
    "ax.set_ylabel(r'$p$')\n",
    "ax.set_zlabel(r'$S$');"
   ]
  },
  {
   "cell_type": "code",
   "execution_count": null,
   "metadata": {
    "colab": {},
    "colab_type": "code",
    "id": "Qxqe-w1lEn8t"
   },
   "outputs": [],
   "source": [
    "import json\n",
    "\n",
    "data = {}\n",
    "data['X'] = X.tolist();\n",
    "data['Y'] = Y.tolist();\n",
    "data['Z'] = Z.tolist();\n",
    "data['Z2'] = Z2.tolist();\n",
    "\n",
    "with open('3d_surface_5000_10000.json', 'w') as json_file:\n",
    "    json.dump(data, json_file)"
   ]
  },
  {
   "cell_type": "code",
   "execution_count": null,
   "metadata": {
    "colab": {},
    "colab_type": "code",
    "id": "mZ4cb0vpEqQN"
   },
   "outputs": [],
   "source": [
    "plt.clf()\n",
    "fig=plt.figure(figsize=(15,10))\n",
    "ax = plt.axes(projection='3d')\n",
    "ax.plot_surface(Y, X, Z2, rstride=1, cstride=1,\n",
    "                cmap='viridis', edgecolor='none')\n",
    "ax.set_title('3D Surface Plot for Chi');\n",
    "ax.set_xlabel(r'$N$')\n",
    "ax.set_ylabel(r'$p$')\n",
    "ax.set_zlabel(r'$\\chi$');"
   ]
  }
 ],
 "metadata": {
  "accelerator": "GPU",
  "colab": {
   "collapsed_sections": [],
   "name": "Networks Project - 3D Plot - 5000-10000.ipynb",
   "provenance": []
  },
  "kernelspec": {
   "display_name": "Python 3",
   "language": "python",
   "name": "python3"
  },
  "language_info": {
   "codemirror_mode": {
    "name": "ipython",
    "version": 3
   },
   "file_extension": ".py",
   "mimetype": "text/x-python",
   "name": "python",
   "nbconvert_exporter": "python",
   "pygments_lexer": "ipython3",
   "version": "3.7.7"
  }
 },
 "nbformat": 4,
 "nbformat_minor": 1
}
