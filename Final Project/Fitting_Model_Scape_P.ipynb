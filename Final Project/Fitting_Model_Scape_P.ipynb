{
 "cells": [
  {
   "cell_type": "code",
   "execution_count": 1,
   "metadata": {},
   "outputs": [],
   "source": [
    "import networkx as nx;\n",
    "import numpy as np;\n",
    "import matplotlib;\n",
    "import matplotlib.pyplot as plt;\n",
    "import math;"
   ]
  },
  {
   "cell_type": "code",
   "execution_count": 5,
   "metadata": {},
   "outputs": [],
   "source": [
    "import json\n",
    "with open('s_chi_e-r_1000_scale_p.json') as json_file:\n",
    "     data = json.load(json_file)\n",
    "N = data['N'];\n",
    "est_p_crit = data['est_p_crit'];\n",
    "maxChi = data['maxChi'];\n",
    "p_list = np.array(data['p_list']);\n",
    "av_S = data['av_S'];\n",
    "av_chi = data['av_chi'];"
   ]
  },
  {
   "cell_type": "code",
   "execution_count": 6,
   "metadata": {},
   "outputs": [
    {
     "name": "stdout",
     "output_type": "stream",
     "text": [
      "0.0011916364525060177\n",
      "178\n"
     ]
    }
   ],
   "source": [
    "print(est_p_crit)\n",
    "loc_p_crit = np.where(p_list == est_p_crit)[0][0] #find location of the estimated p_c in the list of p_list\n",
    "print(loc_p_crit)\n",
    "\n",
    "#setting the interval for the neighborhood around p_c, 40 points around the estimated p_c\n",
    "begInt = loc_p_crit - 30\n",
    "endInt = loc_p_crit + 30"
   ]
  },
  {
   "cell_type": "code",
   "execution_count": 7,
   "metadata": {},
   "outputs": [
    {
     "data": {
      "text/plain": [
       "<Figure size 432x288 with 0 Axes>"
      ]
     },
     "metadata": {},
     "output_type": "display_data"
    },
    {
     "data": {
      "image/png": "[encoded data removed]",
      "text/plain": [
       "<Figure size 432x288 with 2 Axes>"
      ]
     },
     "metadata": {
      "needs_background": "light"
     },
     "output_type": "display_data"
    }
   ],
   "source": [
    "#testing the interval\n",
    "plt.clf();\n",
    "fig,ax = plt.subplots()\n",
    "ax.plot(p_list,av_S,'o-',label = 'S', color = 'blue')\n",
    "ax.set_ylabel(r'$S=\\frac{s_1}{N}$')\n",
    "ax2=ax.twinx()\n",
    "ax2.plot(p_list,av_chi,'s-',label = r'$\\chi$',color = 'red')\n",
    "ax2.set_ylabel(r'$\\chi$')\n",
    "ax.set_xlabel(r'$p$')\n",
    "plt.xlim((p_list[begInt], p_list[endInt]))\n",
    "ax.legend(loc = 'upper left')\n",
    "ax2.legend(loc = 'lower right')\n",
    "plt.show();"
   ]
  },
  {
   "cell_type": "code",
   "execution_count": 13,
   "metadata": {},
   "outputs": [],
   "source": [
    "#setting the interval\n",
    "p_nei = p_list[begInt:endInt+1]\n",
    "s_nei = av_S[begInt:endInt+1]"
   ]
  },
  {
   "cell_type": "code",
   "execution_count": 14,
   "metadata": {},
   "outputs": [],
   "source": [
    "def getRMSE(fitted, x, y):\n",
    "    return np.mean((y- fitted(x)) ** 2)"
   ]
  },
  {
   "cell_type": "code",
   "execution_count": 15,
   "metadata": {},
   "outputs": [],
   "source": [
    "est_S = {} #storing the estimated values by each model\n",
    "err_model = [] #storing the error for each model\n",
    "degRange = range(2,6)\n",
    "p_iter = np.linspace(p_nei[0], p_nei[len(p_nei)-1], 1000)\n",
    "for deg in degRange:\n",
    "  #fitting the linear model\n",
    "  model = np.poly1d(np.polyfit(p_nei, s_nei, deg))\n",
    "\n",
    "  #getting the estimated results\n",
    "  est_S[deg] = model(p_iter)\n",
    "\n",
    "  #getting the RMSE for each model\n",
    "  err_model.append(getRMSE(model, p_nei, s_nei))"
   ]
  },
  {
   "cell_type": "code",
   "execution_count": 16,
   "metadata": {},
   "outputs": [],
   "source": [
    "from scipy.optimize import curve_fit\n",
    "#Source: https://towardsdatascience.com/basic-curve-fitting-of-scientific-data-with-python-9592244a2509"
   ]
  },
  {
   "cell_type": "code",
   "execution_count": 17,
   "metadata": {},
   "outputs": [],
   "source": [
    "# Function to calculate the power-law with constants a and b\n",
    "def power_law(x, a, b):\n",
    "    return a*np.power(x, b)"
   ]
  },
  {
   "cell_type": "code",
   "execution_count": 18,
   "metadata": {},
   "outputs": [],
   "source": [
    "pars, cov = curve_fit(f=power_law, xdata=p_nei, ydata=s_nei, p0=[0, 0], bounds=(-np.inf, np.inf), maxfev = 1000)\n",
    "pow_model_est = power_law(p_iter, *pars)"
   ]
  },
  {
   "cell_type": "code",
   "execution_count": 19,
   "metadata": {},
   "outputs": [
    {
     "data": {
      "text/plain": [
       "array([8.53901002e+12, 4.62203648e+00])"
      ]
     },
     "execution_count": 19,
     "metadata": {},
     "output_type": "execute_result"
    }
   ],
   "source": [
    "pars"
   ]
  },
  {
   "cell_type": "code",
   "execution_count": null,
   "metadata": {},
   "outputs": [],
   "source": []
  }
 ],
 "metadata": {
  "kernelspec": {
   "display_name": "Python 3",
   "language": "python",
   "name": "python3"
  },
  "language_info": {
   "codemirror_mode": {
    "name": "ipython",
    "version": 3
   },
   "file_extension": ".py",
   "mimetype": "text/x-python",
   "name": "python",
   "nbconvert_exporter": "python",
   "pygments_lexer": "ipython3",
   "version": "3.7.7"
  }
 },
 "nbformat": 4,
 "nbformat_minor": 4
}
